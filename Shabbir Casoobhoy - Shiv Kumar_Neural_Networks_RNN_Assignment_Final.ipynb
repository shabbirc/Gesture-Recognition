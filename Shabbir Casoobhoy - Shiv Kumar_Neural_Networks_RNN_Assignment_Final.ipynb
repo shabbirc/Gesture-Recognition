{
 "cells": [
  {
   "cell_type": "markdown",
   "metadata": {},
   "source": [
    "# Gesture Recognition\n",
    "In this group project, you are going to build a 3D Conv model that will be able to predict the 5 gestures correctly. Please import the following libraries to get started."
   ]
  },
  {
   "cell_type": "code",
   "execution_count": 1,
   "metadata": {},
   "outputs": [],
   "source": [
    "import numpy as np\n",
    "import os\n",
    "from scipy.misc import imread, imresize\n",
    "import datetime\n",
    "import os"
   ]
  },
  {
   "cell_type": "markdown",
   "metadata": {},
   "source": [
    "We set the random seed so that the results don't vary drastically."
   ]
  },
  {
   "cell_type": "code",
   "execution_count": 2,
   "metadata": {},
   "outputs": [
    {
     "name": "stderr",
     "output_type": "stream",
     "text": [
      "Using TensorFlow backend.\n"
     ]
    }
   ],
   "source": [
    "np.random.seed(30)\n",
    "import random as rn\n",
    "rn.seed(30)\n",
    "from keras import backend as K\n",
    "import tensorflow as tf\n"
   ]
  },
  {
   "cell_type": "markdown",
   "metadata": {},
   "source": [
    "In this block, you read the folder names for training and validation. You also set the `batch_size` here. Note that you set the batch size in such a way that you are able to use the GPU in full capacity. You keep increasing the batch size until the machine throws an error."
   ]
  },
  {
   "cell_type": "code",
   "execution_count": 3,
   "metadata": {},
   "outputs": [],
   "source": [
    "train_doc = np.random.permutation(open('Project_data/train.csv').readlines())\n",
    "val_doc = np.random.permutation(open('Project_data/val.csv').readlines())\n",
    "batch_size = 10"
   ]
  },
  {
   "cell_type": "markdown",
   "metadata": {},
   "source": [
    "## Generator\n",
    "This is one of the most important part of the code. The overall structure of the generator has been given. In the generator, you are going to preprocess the images as you have images of 2 different dimensions as well as create a batch of video frames. You have to experiment with `img_idx`, `y`,`z` and normalization such that you get high accuracy."
   ]
  },
  {
   "cell_type": "code",
   "execution_count": 4,
   "metadata": {},
   "outputs": [],
   "source": [
    "x = 30 # number of frames\n",
    "y = 120 # image width\n",
    "z = 120 # image height\n",
    "\n",
    "def generator(source_path, folder_list, batch_size):\n",
    "    print( 'Source path = ', source_path, '; batch size =', batch_size)\n",
    "    img_idx = [x for x in range(0,x)] #create a list of image numbers you want to use for a particular video\n",
    "    while True:\n",
    "        t = np.random.permutation(folder_list)\n",
    "        num_batches = len(folder_list)//batch_size # calculate the number of batches\n",
    "        for batch in range(num_batches): # we iterate over the number of batches\n",
    "            batch_data = np.zeros((batch_size,x,y,z,3)) # x is the number of images you use for each video, (y,z) is the final size of the input images and 3 is the number of channels RGB\n",
    "            batch_labels = np.zeros((batch_size,5)) # batch_labels is the one hot representation of the output\n",
    "            for folder in range(batch_size): # iterate over the batch_size\n",
    "                imgs = os.listdir(source_path+'/'+ t[folder + (batch*batch_size)].split(';')[0]) # read all the images in the folder\n",
    "                for idx,item in enumerate(img_idx): #  Iterate iver the frames/images of a folder to read them in\n",
    "                    image = imread(source_path+'/'+ t[folder + (batch*batch_size)].strip().split(';')[0]+'/'+imgs[item]).astype(np.float32)\n",
    "                    \n",
    "                    #crop the images and resize them. Note that the images are of 2 different shape \n",
    "                    #and the conv3D will throw error if the inputs in a batch have different shapes\n",
    "                    \n",
    "                    temp = imresize(image,(120,120))\n",
    "                    temp = temp/127.5-1 #Normalize data\n",
    "                    \n",
    "                    batch_data[folder,idx,:,:,0] = (temp[:,:,0]) #normalise and feed in the image\n",
    "                    batch_data[folder,idx,:,:,1] = (temp[:,:,1]) #normalise and feed in the image\n",
    "                    batch_data[folder,idx,:,:,2] = (temp[:,:,2]) #normalise and feed in the image\n",
    "                    \n",
    "                batch_labels[folder, int(t[folder + (batch*batch_size)].strip().split(';')[2])] = 1\n",
    "            yield batch_data, batch_labels #you yield the batch_data and the batch_labels, remember what does yield do\n",
    "\n",
    "        \n",
    "        # write the code for the remaining data points which are left after full batches\n",
    "        if (len(folder_list) != batch_size*num_batches):\n",
    "            print(\"Batch: \",num_batches+1,\"Index:\", batch_size)\n",
    "            batch_size = len(folder_list) - (batch_size*num_batches)\n",
    "            batch_data = np.zeros((batch_size,x,y,z,3)) # x is the number of images you use for each video, (y,z) is the final size of the input images and 3 is the number of channels RGB\n",
    "            batch_labels = np.zeros((batch_size,5)) # batch_labels is the one hot representation of the output\n",
    "            for folder in range(batch_size): # iterate over the batch_size\n",
    "                imgs = os.listdir(source_path+'/'+ t[folder + (batch*batch_size)].split(';')[0]) # read all the images in the folder\n",
    "                for idx,item in enumerate(img_idx): #  Iterate iver the frames/images of a folder to read them in\n",
    "                    image = imread(source_path+'/'+ t[folder + (batch*batch_size)].strip().split(';')[0]+'/'+imgs[item]).astype(np.float32)\n",
    "                    \n",
    "                    #crop the images and resize them. Note that the images are of 2 different shape \n",
    "                    #and the conv3D will throw error if the inputs in a batch have different shapes\n",
    "                    temp = imresize(image,(120,120))\n",
    "                    temp = temp/127.5-1 #Normalize data\n",
    "                    \n",
    "                    batch_data[folder,idx,:,:,0] = (temp[:,:,0])\n",
    "                    batch_data[folder,idx,:,:,1] = (temp[:,:,1])\n",
    "                    batch_data[folder,idx,:,:,2] = (temp[:,:,2])\n",
    "                   \n",
    "                batch_labels[folder, int(t[folder + (batch*batch_size)].strip().split(';')[2])] = 1\n",
    "            yield batch_data, batch_labels"
   ]
  },
  {
   "cell_type": "markdown",
   "metadata": {},
   "source": [
    "Note here that a video is represented above in the generator as (number of images, height, width, number of channels). Take this into consideration while creating the model architecture."
   ]
  },
  {
   "cell_type": "code",
   "execution_count": 5,
   "metadata": {},
   "outputs": [
    {
     "name": "stdout",
     "output_type": "stream",
     "text": [
      "# training sequences = 663\n",
      "# validation sequences = 100\n",
      "# epochs = 10\n"
     ]
    }
   ],
   "source": [
    "curr_dt_time = datetime.datetime.now()\n",
    "train_path = 'Project_data/train'\n",
    "val_path = 'Project_data/val'\n",
    "num_train_sequences = len(train_doc)\n",
    "print('# training sequences =', num_train_sequences)\n",
    "num_val_sequences = len(val_doc)\n",
    "print('# validation sequences =', num_val_sequences)\n",
    "num_epochs = 10 # choose the number of epochs\n",
    "print ('# epochs =', num_epochs)"
   ]
  },
  {
   "cell_type": "markdown",
   "metadata": {},
   "source": [
    "## Model\n",
    "Here you make the model using different functionalities that Keras provides. Remember to use `Conv3D` and `MaxPooling3D` and not `Conv2D` and `Maxpooling2D` for a 3D convolution model. You would want to use `TimeDistributed` while building a Conv2D + RNN model. Also remember that the last layer is the softmax. Design the network in such a way that the model is able to give good accuracy on the least number of parameters so that it can fit in the memory of the webcam."
   ]
  },
  {
   "cell_type": "code",
   "execution_count": 6,
   "metadata": {},
   "outputs": [],
   "source": [
    "from keras.models import Sequential, Model\n",
    "from keras.layers import Dense, GRU, Flatten, TimeDistributed, Flatten, BatchNormalization, Activation, Dropout\n",
    "from keras.layers.convolutional import Conv3D, MaxPooling3D\n",
    "from keras.callbacks import ModelCheckpoint, ReduceLROnPlateau\n",
    "from keras import optimizers\n",
    "import keras\n",
    "\n",
    "#write your model here\n",
    "#model a\n",
    "model_a = Sequential()\n",
    "\n",
    "model_a.add(Conv3D(8, #number of filters \n",
    "                 kernel_size=(3,3,3), \n",
    "                 input_shape=(30, 120, 120, 3),\n",
    "                 padding='same'))\n",
    "model_a.add(BatchNormalization())\n",
    "model_a.add(Activation('relu'))\n",
    "\n",
    "model_a.add(MaxPooling3D(pool_size=(2,2,2)))\n",
    "\n",
    "model_a.add(Conv3D(16, #Number of filters, \n",
    "                 kernel_size=(3,3,3), \n",
    "                 padding='same'))\n",
    "model_a.add(BatchNormalization())\n",
    "model_a.add(Activation('relu'))\n",
    "\n",
    "model_a.add(MaxPooling3D(pool_size=(2,2,2)))\n",
    "\n",
    "model_a.add(Conv3D(32, #Number of filters \n",
    "                 kernel_size=(1,3,3), \n",
    "                 padding='same'))\n",
    "model_a.add(BatchNormalization())\n",
    "model_a.add(Activation('relu'))\n",
    "\n",
    "model_a.add(MaxPooling3D(pool_size=(2,2,2)))\n",
    "\n",
    "model_a.add(Conv3D(64, #Number pf filters \n",
    "                 kernel_size=(1,3,3), \n",
    "                 padding='same'))\n",
    "model_a.add(BatchNormalization())\n",
    "model_a.add(Activation('relu'))\n",
    "\n",
    "model_a.add(MaxPooling3D(pool_size=(2,2,2)))\n",
    "\n",
    "#Flatten Layers\n",
    "model_a.add(Flatten())\n",
    "\n",
    "model_a.add(Dense(1000, activation='relu'))\n",
    "model_a.add(Dropout(0.5))\n",
    "\n",
    "model_a.add(Dense(500, activation='relu'))\n",
    "model_a.add(Dropout(0.5))\n",
    "\n",
    "#softmax layer\n",
    "model_a.add(Dense(5, activation='softmax'))"
   ]
  },
  {
   "cell_type": "markdown",
   "metadata": {},
   "source": [
    "Now that you have written the model, the next step is to `compile` the model. When you print the `summary` of the model, you'll see the total number of parameters you have to train."
   ]
  },
  {
   "cell_type": "code",
   "execution_count": 7,
   "metadata": {
    "scrolled": true
   },
   "outputs": [
    {
     "name": "stdout",
     "output_type": "stream",
     "text": [
      "_________________________________________________________________\n",
      "Layer (type)                 Output Shape              Param #   \n",
      "=================================================================\n",
      "conv3d_1 (Conv3D)            (None, 30, 120, 120, 8)   656       \n",
      "_________________________________________________________________\n",
      "batch_normalization_1 (Batch (None, 30, 120, 120, 8)   32        \n",
      "_________________________________________________________________\n",
      "activation_1 (Activation)    (None, 30, 120, 120, 8)   0         \n",
      "_________________________________________________________________\n",
      "max_pooling3d_1 (MaxPooling3 (None, 15, 60, 60, 8)     0         \n",
      "_________________________________________________________________\n",
      "conv3d_2 (Conv3D)            (None, 15, 60, 60, 16)    3472      \n",
      "_________________________________________________________________\n",
      "batch_normalization_2 (Batch (None, 15, 60, 60, 16)    64        \n",
      "_________________________________________________________________\n",
      "activation_2 (Activation)    (None, 15, 60, 60, 16)    0         \n",
      "_________________________________________________________________\n",
      "max_pooling3d_2 (MaxPooling3 (None, 7, 30, 30, 16)     0         \n",
      "_________________________________________________________________\n",
      "conv3d_3 (Conv3D)            (None, 7, 30, 30, 32)     4640      \n",
      "_________________________________________________________________\n",
      "batch_normalization_3 (Batch (None, 7, 30, 30, 32)     128       \n",
      "_________________________________________________________________\n",
      "activation_3 (Activation)    (None, 7, 30, 30, 32)     0         \n",
      "_________________________________________________________________\n",
      "max_pooling3d_3 (MaxPooling3 (None, 3, 15, 15, 32)     0         \n",
      "_________________________________________________________________\n",
      "conv3d_4 (Conv3D)            (None, 3, 15, 15, 64)     18496     \n",
      "_________________________________________________________________\n",
      "batch_normalization_4 (Batch (None, 3, 15, 15, 64)     256       \n",
      "_________________________________________________________________\n",
      "activation_4 (Activation)    (None, 3, 15, 15, 64)     0         \n",
      "_________________________________________________________________\n",
      "max_pooling3d_4 (MaxPooling3 (None, 1, 7, 7, 64)       0         \n",
      "_________________________________________________________________\n",
      "flatten_1 (Flatten)          (None, 3136)              0         \n",
      "_________________________________________________________________\n",
      "dense_1 (Dense)              (None, 1000)              3137000   \n",
      "_________________________________________________________________\n",
      "dropout_1 (Dropout)          (None, 1000)              0         \n",
      "_________________________________________________________________\n",
      "dense_2 (Dense)              (None, 500)               500500    \n",
      "_________________________________________________________________\n",
      "dropout_2 (Dropout)          (None, 500)               0         \n",
      "_________________________________________________________________\n",
      "dense_3 (Dense)              (None, 5)                 2505      \n",
      "=================================================================\n",
      "Total params: 3,667,749\n",
      "Trainable params: 3,667,509\n",
      "Non-trainable params: 240\n",
      "_________________________________________________________________\n",
      "None\n"
     ]
    }
   ],
   "source": [
    "optimiser = optimizers.Adam(lr=0.001) #write your optimizer\n",
    "model_a.compile(optimizer=optimiser, loss='categorical_crossentropy', metrics=['categorical_accuracy'])\n",
    "print (model_a.summary())"
   ]
  },
  {
   "cell_type": "markdown",
   "metadata": {},
   "source": [
    "Let us create the `train_generator` and the `val_generator` which will be used in `.fit_generator`."
   ]
  },
  {
   "cell_type": "code",
   "execution_count": 8,
   "metadata": {},
   "outputs": [],
   "source": [
    "train_generator = generator(train_path, train_doc, batch_size)\n",
    "val_generator = generator(val_path, val_doc, batch_size)"
   ]
  },
  {
   "cell_type": "code",
   "execution_count": 9,
   "metadata": {},
   "outputs": [],
   "source": [
    "model_name = 'model_init' + '_' + str(curr_dt_time).replace(' ','').replace(':','_') + '/'\n",
    "    \n",
    "if not os.path.exists(model_name):\n",
    "    os.mkdir(model_name)\n",
    "        \n",
    "filepath = model_name + 'model-{epoch:05d}-{loss:.5f}-{categorical_accuracy:.5f}-{val_loss:.5f}-{val_categorical_accuracy:.5f}.h5'\n",
    "\n",
    "checkpoint = ModelCheckpoint(filepath, monitor='val_loss', verbose=1, save_best_only=False, save_weights_only=False, mode='auto', period=1)\n",
    "\n",
    "LR = ReduceLROnPlateau(monitor='val_loss', factor=0.5, patience=2, cooldown=1, verbose=1) # write the REducelronplateau code here\n",
    "callbacks_list = [checkpoint, LR]"
   ]
  },
  {
   "cell_type": "markdown",
   "metadata": {},
   "source": [
    "The `steps_per_epoch` and `validation_steps` are used by `fit_generator` to decide the number of next() calls it need to make."
   ]
  },
  {
   "cell_type": "code",
   "execution_count": 10,
   "metadata": {},
   "outputs": [],
   "source": [
    "if (num_train_sequences%batch_size) == 0:\n",
    "    steps_per_epoch = int(num_train_sequences/batch_size)\n",
    "else:\n",
    "    steps_per_epoch = (num_train_sequences//batch_size) + 1\n",
    "\n",
    "if (num_val_sequences%batch_size) == 0:\n",
    "    validation_steps = int(num_val_sequences/batch_size)\n",
    "else:\n",
    "    validation_steps = (num_val_sequences//batch_size) + 1"
   ]
  },
  {
   "cell_type": "markdown",
   "metadata": {},
   "source": [
    "Let us now fit the model. This will start training the model and with the help of the checkpoints, you'll be able to save the model at the end of each epoch."
   ]
  },
  {
   "cell_type": "code",
   "execution_count": 11,
   "metadata": {},
   "outputs": [
    {
     "name": "stdout",
     "output_type": "stream",
     "text": [
      "Source path =  Project_data/val ; batch size = 10\n",
      "Source path =  Project_data/train ; batch size = 10\n",
      "Epoch 1/10\n"
     ]
    },
    {
     "name": "stderr",
     "output_type": "stream",
     "text": [
      "/mnt/disks/user/anaconda3/lib/python3.6/site-packages/ipykernel_launcher.py:17: DeprecationWarning: `imread` is deprecated!\n",
      "`imread` is deprecated in SciPy 1.0.0, and will be removed in 1.2.0.\n",
      "Use ``imageio.imread`` instead.\n",
      "/mnt/disks/user/anaconda3/lib/python3.6/site-packages/ipykernel_launcher.py:22: DeprecationWarning: `imresize` is deprecated!\n",
      "`imresize` is deprecated in SciPy 1.0.0, and will be removed in 1.2.0.\n",
      "Use ``skimage.transform.resize`` instead.\n"
     ]
    },
    {
     "name": "stdout",
     "output_type": "stream",
     "text": [
      "65/67 [============================>.] - ETA: 5s - loss: 4.4560 - categorical_accuracy: 0.3092Batch:  67 Index: 10\n"
     ]
    },
    {
     "name": "stderr",
     "output_type": "stream",
     "text": [
      "/mnt/disks/user/anaconda3/lib/python3.6/site-packages/ipykernel_launcher.py:42: DeprecationWarning: `imread` is deprecated!\n",
      "`imread` is deprecated in SciPy 1.0.0, and will be removed in 1.2.0.\n",
      "Use ``imageio.imread`` instead.\n",
      "/mnt/disks/user/anaconda3/lib/python3.6/site-packages/ipykernel_launcher.py:46: DeprecationWarning: `imresize` is deprecated!\n",
      "`imresize` is deprecated in SciPy 1.0.0, and will be removed in 1.2.0.\n",
      "Use ``skimage.transform.resize`` instead.\n"
     ]
    },
    {
     "name": "stdout",
     "output_type": "stream",
     "text": [
      "67/67 [==============================] - 172s 3s/step - loss: 4.4106 - categorical_accuracy: 0.3065 - val_loss: 1.7334 - val_categorical_accuracy: 0.4500\n",
      "\n",
      "Epoch 00001: saving model to model_init_2020-03-3004_10_50.546452/model-00001-4.44667-0.30618-1.73339-0.45000.h5\n",
      "Epoch 2/10\n",
      "67/67 [==============================] - 26s 389ms/step - loss: 2.5737 - categorical_accuracy: 0.3184 - val_loss: 1.4163 - val_categorical_accuracy: 0.3900\n",
      "\n",
      "Epoch 00002: saving model to model_init_2020-03-3004_10_50.546452/model-00002-2.57374-0.31841-1.41633-0.39000.h5\n",
      "Epoch 3/10\n",
      "67/67 [==============================] - 27s 396ms/step - loss: 1.9961 - categorical_accuracy: 0.2836 - val_loss: 1.2224 - val_categorical_accuracy: 0.4500\n",
      "\n",
      "Epoch 00003: saving model to model_init_2020-03-3004_10_50.546452/model-00003-1.99614-0.28358-1.22240-0.45000.h5\n",
      "Epoch 4/10\n",
      "67/67 [==============================] - 27s 401ms/step - loss: 1.6165 - categorical_accuracy: 0.2836 - val_loss: 1.2812 - val_categorical_accuracy: 0.5400\n",
      "\n",
      "Epoch 00004: saving model to model_init_2020-03-3004_10_50.546452/model-00004-1.61655-0.28358-1.28119-0.54000.h5\n",
      "Epoch 5/10\n",
      "67/67 [==============================] - 28s 417ms/step - loss: 1.4995 - categorical_accuracy: 0.3582 - val_loss: 1.2312 - val_categorical_accuracy: 0.5000\n",
      "\n",
      "Epoch 00005: saving model to model_init_2020-03-3004_10_50.546452/model-00005-1.49951-0.35821-1.23123-0.50000.h5\n",
      "\n",
      "Epoch 00005: ReduceLROnPlateau reducing learning rate to 0.0005000000237487257.\n",
      "Epoch 6/10\n",
      "67/67 [==============================] - 28s 411ms/step - loss: 1.4976 - categorical_accuracy: 0.3333 - val_loss: 1.1903 - val_categorical_accuracy: 0.5300\n",
      "\n",
      "Epoch 00006: saving model to model_init_2020-03-3004_10_50.546452/model-00006-1.49765-0.33333-1.19028-0.53000.h5\n",
      "Epoch 7/10\n",
      "67/67 [==============================] - 27s 400ms/step - loss: 1.3499 - categorical_accuracy: 0.4179 - val_loss: 1.2797 - val_categorical_accuracy: 0.4500\n",
      "\n",
      "Epoch 00007: saving model to model_init_2020-03-3004_10_50.546452/model-00007-1.34992-0.41791-1.27973-0.45000.h5\n",
      "Epoch 8/10\n",
      "67/67 [==============================] - 26s 393ms/step - loss: 1.3442 - categorical_accuracy: 0.4428 - val_loss: 1.1650 - val_categorical_accuracy: 0.5900\n",
      "\n",
      "Epoch 00008: saving model to model_init_2020-03-3004_10_50.546452/model-00008-1.34417-0.44279-1.16499-0.59000.h5\n",
      "Epoch 9/10\n",
      "67/67 [==============================] - 28s 416ms/step - loss: 1.2552 - categorical_accuracy: 0.4378 - val_loss: 1.0914 - val_categorical_accuracy: 0.5400\n",
      "\n",
      "Epoch 00009: saving model to model_init_2020-03-3004_10_50.546452/model-00009-1.25517-0.43781-1.09143-0.54000.h5\n",
      "Epoch 10/10\n",
      "67/67 [==============================] - 26s 393ms/step - loss: 1.2563 - categorical_accuracy: 0.4726 - val_loss: 1.1196 - val_categorical_accuracy: 0.6300\n",
      "\n",
      "Epoch 00010: saving model to model_init_2020-03-3004_10_50.546452/model-00010-1.25633-0.47264-1.11956-0.63000.h5\n"
     ]
    },
    {
     "data": {
      "text/plain": [
       "<keras.callbacks.History at 0x7f8c199a1128>"
      ]
     },
     "execution_count": 11,
     "metadata": {},
     "output_type": "execute_result"
    }
   ],
   "source": [
    "model_a.fit_generator(train_generator, steps_per_epoch=steps_per_epoch, epochs=num_epochs, verbose=1, \n",
    "                    callbacks=callbacks_list, validation_data=val_generator, \n",
    "                    validation_steps=validation_steps, class_weight=None, workers=1, initial_epoch=0)"
   ]
  },
  {
   "cell_type": "code",
   "execution_count": 12,
   "metadata": {},
   "outputs": [],
   "source": [
    "classes = 5 #left swipe, right swipe, thumbs up, thumbs down, stop\n",
    "channel = 3\n",
    "x = 30 # number of frames\n",
    "y = 120 # image width\n",
    "z = 120 # image height\n",
    "\n",
    "def generator_ex(source_path, folder_list, batch_size):\n",
    "    print( 'Source path = ', source_path, '; batch size =', batch_size)\n",
    "    img_idx = [x for x in range(0,x)] #create a list of image numbers you want to use for a particular video\n",
    "    while True:\n",
    "        t = np.random.permutation(folder_list)\n",
    "        num_batches = len(folder_list)//batch_size # calculate the number of batches\n",
    "        for batch in range(num_batches): # we iterate over the number of batches\n",
    "            batch_data = np.zeros((batch_size,x,y,z,channel)) # x is the number of images you use for each video, (y,z) is the final size of the input images and 3 is the number of channels RGB\n",
    "            batch_labels = np.zeros((batch_size,classes)) # batch_labels is the one hot representation of the output\n",
    "            for folder in range(batch_size): # iterate over the batch_size\n",
    "                imgs = os.listdir(source_path+'/'+ t[folder + (batch*batch_size)].split(';')[0]) # read all the images in the folder\n",
    "                for idx,item in enumerate(img_idx): #  Iterate iver the frames/images of a folder to read them in\n",
    "                    image = imread(source_path+'/'+ t[folder + (batch*batch_size)].strip().split(';')[0]+'/'+imgs[item]).astype(np.float32)\n",
    "                    \n",
    "                    #crop the images and resize them. Note that the images are of 2 different shape \n",
    "                    #and the conv3D will throw error if the inputs in a batch have different shapes\n",
    "                    \n",
    "                    temp = imresize(image,(y,z))\n",
    "                    #Converting to gray scale\n",
    "                    temp = temp.mean(axis=-1,keepdims=1) \n",
    "                    temp = temp/127.5-1 #Normalize data\n",
    "                    batch_data[folder,idx] = temp #normalise and feed in the image\n",
    "                    \n",
    "                batch_labels[folder, int(t[folder + (batch*batch_size)].strip().split(';')[2])] = 1\n",
    "                \n",
    "            yield batch_data, batch_labels #you yield the batch_data and the batch_labels, remember what does yield do\n",
    "\n",
    "        \n",
    "        # write the code for the remaining data points which are left after full batches\n",
    "        if (len(folder_list) != batch_size*num_batches):\n",
    "            print(\"Batch: \",num_batches+1,\"Index:\", batch_size)\n",
    "            batch_size = len(folder_list) - (batch_size*num_batches)\n",
    "            batch_data = np.zeros((batch_size,x,y,z,channel)) # x is the number of images you use for each video, (y,z) is the final size of the input images and 3 is the number of channels RGB\n",
    "            batch_labels = np.zeros((batch_size,classes)) # batch_labels is the one hot representation of the output\n",
    "            for folder in range(batch_size): # iterate over the batch_size\n",
    "                imgs = os.listdir(source_path+'/'+ t[folder + (batch*batch_size)].split(';')[0]) # read all the images in the folder\n",
    "                for idx,item in enumerate(img_idx): #  Iterate iver the frames/images of a folder to read them in\n",
    "                    image = imread(source_path+'/'+ t[folder + (batch*batch_size)].strip().split(';')[0]+'/'+imgs[item]).astype(np.float32)\n",
    "                    \n",
    "                    #crop the images and resize them. Note that the images are of 2 different shape \n",
    "                    #and the conv3D will throw error if the inputs in a batch have different shapes\n",
    "                    temp = imresize(image,(y,z))\n",
    "                    #Converting to gray scale\n",
    "                    temp = temp.mean(axis=-1,keepdims=1) \n",
    "                    temp = temp/127.5-1 #Normalize data\n",
    "                    \n",
    "                    batch_data[folder,idx] = temp\n",
    "                   \n",
    "                batch_labels[folder, int(t[folder + (batch*batch_size)].strip().split(';')[2])] = 1\n",
    "            yield batch_data, batch_labels"
   ]
  },
  {
   "cell_type": "code",
   "execution_count": 13,
   "metadata": {},
   "outputs": [
    {
     "name": "stdout",
     "output_type": "stream",
     "text": [
      "_________________________________________________________________\n",
      "Layer (type)                 Output Shape              Param #   \n",
      "=================================================================\n",
      "conv3d_5 (Conv3D)            (None, 30, 120, 120, 32)  2624      \n",
      "_________________________________________________________________\n",
      "activation_5 (Activation)    (None, 30, 120, 120, 32)  0         \n",
      "_________________________________________________________________\n",
      "conv3d_6 (Conv3D)            (None, 30, 120, 120, 32)  27680     \n",
      "_________________________________________________________________\n",
      "activation_6 (Activation)    (None, 30, 120, 120, 32)  0         \n",
      "_________________________________________________________________\n",
      "max_pooling3d_5 (MaxPooling3 (None, 10, 40, 40, 32)    0         \n",
      "_________________________________________________________________\n",
      "dropout_3 (Dropout)          (None, 10, 40, 40, 32)    0         \n",
      "_________________________________________________________________\n",
      "conv3d_7 (Conv3D)            (None, 10, 40, 40, 64)    55360     \n",
      "_________________________________________________________________\n",
      "activation_7 (Activation)    (None, 10, 40, 40, 64)    0         \n",
      "_________________________________________________________________\n",
      "conv3d_8 (Conv3D)            (None, 10, 40, 40, 64)    110656    \n",
      "_________________________________________________________________\n",
      "activation_8 (Activation)    (None, 10, 40, 40, 64)    0         \n",
      "_________________________________________________________________\n",
      "max_pooling3d_6 (MaxPooling3 (None, 4, 14, 14, 64)     0         \n",
      "_________________________________________________________________\n",
      "dropout_4 (Dropout)          (None, 4, 14, 14, 64)     0         \n",
      "_________________________________________________________________\n",
      "flatten_2 (Flatten)          (None, 50176)             0         \n",
      "_________________________________________________________________\n",
      "dense_4 (Dense)              (None, 512)               25690624  \n",
      "_________________________________________________________________\n",
      "dropout_5 (Dropout)          (None, 512)               0         \n",
      "_________________________________________________________________\n",
      "dense_5 (Dense)              (None, 5)                 2565      \n",
      "=================================================================\n",
      "Total params: 25,889,509\n",
      "Trainable params: 25,889,509\n",
      "Non-trainable params: 0\n",
      "_________________________________________________________________\n"
     ]
    }
   ],
   "source": [
    "from keras.losses import categorical_crossentropy\n",
    "from keras.optimizers import Adam\n",
    "\n",
    "# Define model b\n",
    "model_b = Sequential()\n",
    "model_b.add(Conv3D(32, kernel_size=(3, 3, 3), input_shape=(x,y,z,channel), padding='same'))\n",
    "model_b.add(Activation('relu'))\n",
    "model_b.add(Conv3D(32, kernel_size=(3, 3, 3), padding='same'))\n",
    "model_b.add(Activation('relu'))\n",
    "model_b.add(MaxPooling3D(pool_size=(3, 3, 3), padding='same'))\n",
    "model_b.add(Dropout(0.25))\n",
    "\n",
    "model_b.add(Conv3D(64, kernel_size=(3, 3, 3), padding='same'))\n",
    "model_b.add(Activation('relu'))\n",
    "model_b.add(Conv3D(64, kernel_size=(3, 3, 3), padding='same'))\n",
    "model_b.add(Activation('relu'))\n",
    "model_b.add(MaxPooling3D(pool_size=(3, 3, 3), padding='same'))\n",
    "model_b.add(Dropout(0.25))\n",
    "\n",
    "model_b.add(Flatten())\n",
    "model_b.add(Dense(512, activation='relu'))\n",
    "model_b.add(Dropout(0.5))\n",
    "model_b.add(Dense(classes, activation='softmax'))\n",
    "\n",
    "model_b.compile(optimizer=Adam(), loss='categorical_crossentropy', metrics=['categorical_accuracy'])\n",
    "model_b.summary()"
   ]
  },
  {
   "cell_type": "code",
   "execution_count": 14,
   "metadata": {},
   "outputs": [],
   "source": [
    "train_generator = generator_ex(train_path, train_doc, batch_size)\n",
    "val_generator = generator_ex(val_path, val_doc, batch_size)"
   ]
  },
  {
   "cell_type": "code",
   "execution_count": 15,
   "metadata": {},
   "outputs": [
    {
     "name": "stdout",
     "output_type": "stream",
     "text": [
      "Source path =  Project_data/val ; batch size = 10\n",
      "Source path =  Project_data/train ; batch size = 10\n",
      "Epoch 1/10\n"
     ]
    },
    {
     "name": "stderr",
     "output_type": "stream",
     "text": [
      "/mnt/disks/user/anaconda3/lib/python3.6/site-packages/ipykernel_launcher.py:19: DeprecationWarning: `imread` is deprecated!\n",
      "`imread` is deprecated in SciPy 1.0.0, and will be removed in 1.2.0.\n",
      "Use ``imageio.imread`` instead.\n",
      "/mnt/disks/user/anaconda3/lib/python3.6/site-packages/ipykernel_launcher.py:24: DeprecationWarning: `imresize` is deprecated!\n",
      "`imresize` is deprecated in SciPy 1.0.0, and will be removed in 1.2.0.\n",
      "Use ``skimage.transform.resize`` instead.\n"
     ]
    },
    {
     "name": "stdout",
     "output_type": "stream",
     "text": [
      "56/67 [========================>.....] - ETA: 21s - loss: 1.8214 - categorical_accuracy: 0.1786Batch:  67 Index: 10\n"
     ]
    },
    {
     "name": "stderr",
     "output_type": "stream",
     "text": [
      "/mnt/disks/user/anaconda3/lib/python3.6/site-packages/ipykernel_launcher.py:44: DeprecationWarning: `imread` is deprecated!\n",
      "`imread` is deprecated in SciPy 1.0.0, and will be removed in 1.2.0.\n",
      "Use ``imageio.imread`` instead.\n",
      "/mnt/disks/user/anaconda3/lib/python3.6/site-packages/ipykernel_launcher.py:48: DeprecationWarning: `imresize` is deprecated!\n",
      "`imresize` is deprecated in SciPy 1.0.0, and will be removed in 1.2.0.\n",
      "Use ``skimage.transform.resize`` instead.\n"
     ]
    },
    {
     "name": "stdout",
     "output_type": "stream",
     "text": [
      "67/67 [==============================] - 136s 2s/step - loss: 1.7866 - categorical_accuracy: 0.1915 - val_loss: 1.6091 - val_categorical_accuracy: 0.2100\n",
      "\n",
      "Epoch 00001: saving model to model_init_2020-03-3004_10_50.546452/model-00001-1.78850-0.19005-1.60908-0.21000.h5\n",
      "Epoch 2/10\n",
      "67/67 [==============================] - 48s 715ms/step - loss: 1.6085 - categorical_accuracy: 0.1891 - val_loss: 1.6084 - val_categorical_accuracy: 0.2100\n",
      "\n",
      "Epoch 00002: saving model to model_init_2020-03-3004_10_50.546452/model-00002-1.60854-0.18905-1.60837-0.21000.h5\n",
      "Epoch 3/10\n",
      "67/67 [==============================] - 48s 716ms/step - loss: 1.6131 - categorical_accuracy: 0.1841 - val_loss: 1.6077 - val_categorical_accuracy: 0.2100\n",
      "\n",
      "Epoch 00003: saving model to model_init_2020-03-3004_10_50.546452/model-00003-1.61307-0.18408-1.60770-0.21000.h5\n",
      "Epoch 4/10\n",
      "67/67 [==============================] - 48s 715ms/step - loss: 1.6099 - categorical_accuracy: 0.2189 - val_loss: 1.6080 - val_categorical_accuracy: 0.2100\n",
      "\n",
      "Epoch 00004: saving model to model_init_2020-03-3004_10_50.546452/model-00004-1.60986-0.21891-1.60805-0.21000.h5\n",
      "Epoch 5/10\n",
      "67/67 [==============================] - 48s 716ms/step - loss: 1.6063 - categorical_accuracy: 0.2687 - val_loss: 1.6073 - val_categorical_accuracy: 0.2100\n",
      "\n",
      "Epoch 00005: saving model to model_init_2020-03-3004_10_50.546452/model-00005-1.60634-0.26866-1.60730-0.21000.h5\n",
      "Epoch 6/10\n",
      "67/67 [==============================] - 48s 716ms/step - loss: 1.6108 - categorical_accuracy: 0.1891 - val_loss: 1.6074 - val_categorical_accuracy: 0.2100\n",
      "\n",
      "Epoch 00006: saving model to model_init_2020-03-3004_10_50.546452/model-00006-1.61085-0.18905-1.60736-0.21000.h5\n",
      "Epoch 7/10\n",
      "67/67 [==============================] - 48s 715ms/step - loss: 1.6101 - categorical_accuracy: 0.1940 - val_loss: 1.6075 - val_categorical_accuracy: 0.2100\n",
      "\n",
      "Epoch 00007: saving model to model_init_2020-03-3004_10_50.546452/model-00007-1.61007-0.19403-1.60748-0.21000.h5\n",
      "\n",
      "Epoch 00007: ReduceLROnPlateau reducing learning rate to 0.0005000000237487257.\n",
      "Epoch 8/10\n",
      "67/67 [==============================] - 48s 715ms/step - loss: 1.6102 - categorical_accuracy: 0.1791 - val_loss: 1.6076 - val_categorical_accuracy: 0.2100\n",
      "\n",
      "Epoch 00008: saving model to model_init_2020-03-3004_10_50.546452/model-00008-1.61024-0.17910-1.60760-0.21000.h5\n",
      "Epoch 9/10\n",
      "67/67 [==============================] - 48s 715ms/step - loss: 1.6108 - categorical_accuracy: 0.2090 - val_loss: 1.6079 - val_categorical_accuracy: 0.2100\n",
      "\n",
      "Epoch 00009: saving model to model_init_2020-03-3004_10_50.546452/model-00009-1.61079-0.20896-1.60792-0.21000.h5\n",
      "\n",
      "Epoch 00009: ReduceLROnPlateau reducing learning rate to 0.0002500000118743628.\n",
      "Epoch 10/10\n",
      "67/67 [==============================] - 48s 715ms/step - loss: 1.6084 - categorical_accuracy: 0.1692 - val_loss: 1.6080 - val_categorical_accuracy: 0.2100\n",
      "\n",
      "Epoch 00010: saving model to model_init_2020-03-3004_10_50.546452/model-00010-1.60843-0.16915-1.60797-0.21000.h5\n"
     ]
    },
    {
     "data": {
      "text/plain": [
       "<keras.callbacks.History at 0x7f8b7004db70>"
      ]
     },
     "execution_count": 15,
     "metadata": {},
     "output_type": "execute_result"
    }
   ],
   "source": [
    "model_b.fit_generator(train_generator, steps_per_epoch=steps_per_epoch, epochs=num_epochs, verbose=1, \n",
    "                    callbacks=callbacks_list, validation_data=val_generator, \n",
    "                    validation_steps=validation_steps, class_weight=None, workers=1, initial_epoch=0)"
   ]
  },
  {
   "cell_type": "markdown",
   "metadata": {},
   "source": [
    "### Changing x,y,z values Experiment [1]"
   ]
  },
  {
   "cell_type": "code",
   "execution_count": 16,
   "metadata": {},
   "outputs": [],
   "source": [
    "x = 30 # number of frames\n",
    "y = 60 # image width\n",
    "z = 60 # image height"
   ]
  },
  {
   "cell_type": "code",
   "execution_count": 17,
   "metadata": {},
   "outputs": [
    {
     "name": "stdout",
     "output_type": "stream",
     "text": [
      "_________________________________________________________________\n",
      "Layer (type)                 Output Shape              Param #   \n",
      "=================================================================\n",
      "conv3d_9 (Conv3D)            (None, 30, 60, 60, 32)    2624      \n",
      "_________________________________________________________________\n",
      "activation_9 (Activation)    (None, 30, 60, 60, 32)    0         \n",
      "_________________________________________________________________\n",
      "conv3d_10 (Conv3D)           (None, 30, 60, 60, 32)    27680     \n",
      "_________________________________________________________________\n",
      "activation_10 (Activation)   (None, 30, 60, 60, 32)    0         \n",
      "_________________________________________________________________\n",
      "max_pooling3d_7 (MaxPooling3 (None, 10, 20, 20, 32)    0         \n",
      "_________________________________________________________________\n",
      "dropout_6 (Dropout)          (None, 10, 20, 20, 32)    0         \n",
      "_________________________________________________________________\n",
      "conv3d_11 (Conv3D)           (None, 10, 20, 20, 64)    55360     \n",
      "_________________________________________________________________\n",
      "activation_11 (Activation)   (None, 10, 20, 20, 64)    0         \n",
      "_________________________________________________________________\n",
      "conv3d_12 (Conv3D)           (None, 10, 20, 20, 64)    110656    \n",
      "_________________________________________________________________\n",
      "activation_12 (Activation)   (None, 10, 20, 20, 64)    0         \n",
      "_________________________________________________________________\n",
      "max_pooling3d_8 (MaxPooling3 (None, 4, 7, 7, 64)       0         \n",
      "_________________________________________________________________\n",
      "dropout_7 (Dropout)          (None, 4, 7, 7, 64)       0         \n",
      "_________________________________________________________________\n",
      "flatten_3 (Flatten)          (None, 12544)             0         \n",
      "_________________________________________________________________\n",
      "dense_6 (Dense)              (None, 512)               6423040   \n",
      "_________________________________________________________________\n",
      "dropout_8 (Dropout)          (None, 512)               0         \n",
      "_________________________________________________________________\n",
      "dense_7 (Dense)              (None, 5)                 2565      \n",
      "=================================================================\n",
      "Total params: 6,621,925\n",
      "Trainable params: 6,621,925\n",
      "Non-trainable params: 0\n",
      "_________________________________________________________________\n"
     ]
    }
   ],
   "source": [
    "# Define model b\n",
    "model_b = Sequential()\n",
    "model_b.add(Conv3D(32, kernel_size=(3, 3, 3), input_shape=(x,y,z,channel), padding='same'))\n",
    "model_b.add(Activation('relu'))\n",
    "model_b.add(Conv3D(32, kernel_size=(3, 3, 3), padding='same'))\n",
    "model_b.add(Activation('relu'))\n",
    "model_b.add(MaxPooling3D(pool_size=(3, 3, 3), padding='same'))\n",
    "model_b.add(Dropout(0.25))\n",
    "\n",
    "model_b.add(Conv3D(64, kernel_size=(3, 3, 3), padding='same'))\n",
    "model_b.add(Activation('relu'))\n",
    "model_b.add(Conv3D(64, kernel_size=(3, 3, 3), padding='same'))\n",
    "model_b.add(Activation('relu'))\n",
    "model_b.add(MaxPooling3D(pool_size=(3, 3, 3), padding='same'))\n",
    "model_b.add(Dropout(0.25))\n",
    "\n",
    "model_b.add(Flatten())\n",
    "model_b.add(Dense(512, activation='relu'))\n",
    "model_b.add(Dropout(0.5))\n",
    "model_b.add(Dense(classes, activation='softmax'))\n",
    "\n",
    "model_b.compile(optimizer=keras.optimizers.Adam(), loss='categorical_crossentropy', metrics=['categorical_accuracy'])\n",
    "model_b.summary()"
   ]
  },
  {
   "cell_type": "code",
   "execution_count": 18,
   "metadata": {},
   "outputs": [],
   "source": [
    "train_generator = generator_ex(train_path, train_doc, batch_size)\n",
    "val_generator = generator_ex(val_path, val_doc, batch_size)"
   ]
  },
  {
   "cell_type": "code",
   "execution_count": 19,
   "metadata": {},
   "outputs": [
    {
     "name": "stdout",
     "output_type": "stream",
     "text": [
      "Source path =  Project_data/val ; batch size = 10\n",
      "Source path =  Project_data/train ; batch size = 10\n",
      "Epoch 1/10\n"
     ]
    },
    {
     "name": "stderr",
     "output_type": "stream",
     "text": [
      "/mnt/disks/user/anaconda3/lib/python3.6/site-packages/ipykernel_launcher.py:19: DeprecationWarning: `imread` is deprecated!\n",
      "`imread` is deprecated in SciPy 1.0.0, and will be removed in 1.2.0.\n",
      "Use ``imageio.imread`` instead.\n",
      "/mnt/disks/user/anaconda3/lib/python3.6/site-packages/ipykernel_launcher.py:24: DeprecationWarning: `imresize` is deprecated!\n",
      "`imresize` is deprecated in SciPy 1.0.0, and will be removed in 1.2.0.\n",
      "Use ``skimage.transform.resize`` instead.\n"
     ]
    },
    {
     "name": "stdout",
     "output_type": "stream",
     "text": [
      "65/67 [============================>.] - ETA: 2s - loss: 1.5863 - categorical_accuracy: 0.2446Batch:  67 Index: 10\n"
     ]
    },
    {
     "name": "stderr",
     "output_type": "stream",
     "text": [
      "/mnt/disks/user/anaconda3/lib/python3.6/site-packages/ipykernel_launcher.py:44: DeprecationWarning: `imread` is deprecated!\n",
      "`imread` is deprecated in SciPy 1.0.0, and will be removed in 1.2.0.\n",
      "Use ``imageio.imread`` instead.\n",
      "/mnt/disks/user/anaconda3/lib/python3.6/site-packages/ipykernel_launcher.py:48: DeprecationWarning: `imresize` is deprecated!\n",
      "`imresize` is deprecated in SciPy 1.0.0, and will be removed in 1.2.0.\n",
      "Use ``skimage.transform.resize`` instead.\n"
     ]
    },
    {
     "name": "stdout",
     "output_type": "stream",
     "text": [
      "67/67 [==============================] - 73s 1s/step - loss: 1.5829 - categorical_accuracy: 0.2472 - val_loss: 1.4636 - val_categorical_accuracy: 0.2600\n",
      "\n",
      "Epoch 00001: saving model to model_init_2020-03-3004_10_50.546452/model-00001-1.58540-0.24284-1.46360-0.26000.h5\n",
      "Epoch 2/10\n",
      "67/67 [==============================] - 23s 343ms/step - loss: 1.4767 - categorical_accuracy: 0.3682 - val_loss: 1.4569 - val_categorical_accuracy: 0.4200\n",
      "\n",
      "Epoch 00002: saving model to model_init_2020-03-3004_10_50.546452/model-00002-1.47666-0.36816-1.45693-0.42000.h5\n",
      "Epoch 3/10\n",
      "67/67 [==============================] - 25s 372ms/step - loss: 1.5003 - categorical_accuracy: 0.3383 - val_loss: 1.3762 - val_categorical_accuracy: 0.3500\n",
      "\n",
      "Epoch 00003: saving model to model_init_2020-03-3004_10_50.546452/model-00003-1.50025-0.33831-1.37623-0.35000.h5\n",
      "Epoch 4/10\n",
      "67/67 [==============================] - 24s 357ms/step - loss: 1.4387 - categorical_accuracy: 0.3980 - val_loss: 1.4849 - val_categorical_accuracy: 0.4000\n",
      "\n",
      "Epoch 00004: saving model to model_init_2020-03-3004_10_50.546452/model-00004-1.43870-0.39801-1.48495-0.40000.h5\n",
      "Epoch 5/10\n",
      "67/67 [==============================] - 25s 368ms/step - loss: 1.3605 - categorical_accuracy: 0.4229 - val_loss: 1.3776 - val_categorical_accuracy: 0.4000\n",
      "\n",
      "Epoch 00005: saving model to model_init_2020-03-3004_10_50.546452/model-00005-1.36051-0.42289-1.37764-0.40000.h5\n",
      "\n",
      "Epoch 00005: ReduceLROnPlateau reducing learning rate to 0.0005000000237487257.\n",
      "Epoch 6/10\n",
      "67/67 [==============================] - 24s 363ms/step - loss: 1.2907 - categorical_accuracy: 0.4179 - val_loss: 1.3463 - val_categorical_accuracy: 0.4300\n",
      "\n",
      "Epoch 00006: saving model to model_init_2020-03-3004_10_50.546452/model-00006-1.29069-0.41791-1.34631-0.43000.h5\n",
      "Epoch 7/10\n",
      "67/67 [==============================] - 25s 366ms/step - loss: 1.2861 - categorical_accuracy: 0.4229 - val_loss: 1.2188 - val_categorical_accuracy: 0.4700\n",
      "\n",
      "Epoch 00007: saving model to model_init_2020-03-3004_10_50.546452/model-00007-1.28611-0.42289-1.21885-0.47000.h5\n",
      "Epoch 8/10\n",
      "67/67 [==============================] - 24s 358ms/step - loss: 1.1688 - categorical_accuracy: 0.4975 - val_loss: 1.1330 - val_categorical_accuracy: 0.5300\n",
      "\n",
      "Epoch 00008: saving model to model_init_2020-03-3004_10_50.546452/model-00008-1.16879-0.49751-1.13302-0.53000.h5\n",
      "Epoch 9/10\n",
      "67/67 [==============================] - 25s 367ms/step - loss: 1.0782 - categorical_accuracy: 0.5522 - val_loss: 1.1615 - val_categorical_accuracy: 0.4700\n",
      "\n",
      "Epoch 00009: saving model to model_init_2020-03-3004_10_50.546452/model-00009-1.07823-0.55224-1.16154-0.47000.h5\n",
      "Epoch 10/10\n",
      "67/67 [==============================] - 24s 361ms/step - loss: 1.0750 - categorical_accuracy: 0.4726 - val_loss: 1.1142 - val_categorical_accuracy: 0.5300\n",
      "\n",
      "Epoch 00010: saving model to model_init_2020-03-3004_10_50.546452/model-00010-1.07504-0.47264-1.11421-0.53000.h5\n"
     ]
    },
    {
     "data": {
      "text/plain": [
       "<keras.callbacks.History at 0x7f8b7021d0f0>"
      ]
     },
     "execution_count": 19,
     "metadata": {},
     "output_type": "execute_result"
    }
   ],
   "source": [
    "model_b.fit_generator(train_generator, steps_per_epoch=steps_per_epoch, epochs=num_epochs, verbose=1, \n",
    "                    callbacks=callbacks_list, validation_data=val_generator, \n",
    "                    validation_steps=validation_steps, class_weight=None, workers=1, initial_epoch=0)"
   ]
  },
  {
   "cell_type": "markdown",
   "metadata": {},
   "source": [
    "### Changing Batch size to 20 Experiment [2]"
   ]
  },
  {
   "cell_type": "code",
   "execution_count": 20,
   "metadata": {},
   "outputs": [],
   "source": [
    "train_generator = generator_ex(train_path, train_doc, 20)\n",
    "val_generator = generator_ex(val_path, val_doc, 20)"
   ]
  },
  {
   "cell_type": "code",
   "execution_count": 21,
   "metadata": {},
   "outputs": [
    {
     "name": "stdout",
     "output_type": "stream",
     "text": [
      "Source path =  Project_data/val ; batch size = 20Source path =  Project_data/train ; batch size = 20\n",
      "\n",
      "Epoch 1/10\n"
     ]
    },
    {
     "name": "stderr",
     "output_type": "stream",
     "text": [
      "/mnt/disks/user/anaconda3/lib/python3.6/site-packages/ipykernel_launcher.py:19: DeprecationWarning: `imread` is deprecated!\n",
      "`imread` is deprecated in SciPy 1.0.0, and will be removed in 1.2.0.\n",
      "Use ``imageio.imread`` instead.\n",
      "/mnt/disks/user/anaconda3/lib/python3.6/site-packages/ipykernel_launcher.py:24: DeprecationWarning: `imresize` is deprecated!\n",
      "`imresize` is deprecated in SciPy 1.0.0, and will be removed in 1.2.0.\n",
      "Use ``skimage.transform.resize`` instead.\n"
     ]
    },
    {
     "name": "stdout",
     "output_type": "stream",
     "text": [
      "32/67 [=============>................] - ETA: 1:19 - loss: 0.9578 - categorical_accuracy: 0.5906Batch:  34 Index: 20\n"
     ]
    },
    {
     "name": "stderr",
     "output_type": "stream",
     "text": [
      "/mnt/disks/user/anaconda3/lib/python3.6/site-packages/ipykernel_launcher.py:44: DeprecationWarning: `imread` is deprecated!\n",
      "`imread` is deprecated in SciPy 1.0.0, and will be removed in 1.2.0.\n",
      "Use ``imageio.imread`` instead.\n",
      "/mnt/disks/user/anaconda3/lib/python3.6/site-packages/ipykernel_launcher.py:48: DeprecationWarning: `imresize` is deprecated!\n",
      "`imresize` is deprecated in SciPy 1.0.0, and will be removed in 1.2.0.\n",
      "Use ``skimage.transform.resize`` instead.\n"
     ]
    },
    {
     "name": "stdout",
     "output_type": "stream",
     "text": [
      "67/67 [==============================] - 87s 1s/step - loss: 0.9117 - categorical_accuracy: 0.6282 - val_loss: 1.0566 - val_categorical_accuracy: 0.5500\n",
      "\n",
      "Epoch 00001: saving model to model_init_2020-03-3004_10_50.546452/model-00001-0.94848-0.59974-1.05664-0.55000.h5\n",
      "Epoch 2/10\n",
      "67/67 [==============================] - 28s 425ms/step - loss: 0.9651 - categorical_accuracy: 0.5771 - val_loss: 1.0996 - val_categorical_accuracy: 0.5200\n",
      "\n",
      "Epoch 00002: saving model to model_init_2020-03-3004_10_50.546452/model-00002-0.96505-0.57711-1.09957-0.52000.h5\n",
      "Epoch 3/10\n",
      "67/67 [==============================] - 30s 453ms/step - loss: 0.9546 - categorical_accuracy: 0.6169 - val_loss: 1.0643 - val_categorical_accuracy: 0.5200\n",
      "\n",
      "Epoch 00003: saving model to model_init_2020-03-3004_10_50.546452/model-00003-0.95462-0.61692-1.06425-0.52000.h5\n",
      "\n",
      "Epoch 00003: ReduceLROnPlateau reducing learning rate to 0.0002500000118743628.\n",
      "Epoch 4/10\n",
      "67/67 [==============================] - 30s 451ms/step - loss: 0.8757 - categorical_accuracy: 0.6119 - val_loss: 0.9274 - val_categorical_accuracy: 0.6300\n",
      "\n",
      "Epoch 00004: saving model to model_init_2020-03-3004_10_50.546452/model-00004-0.87566-0.61194-0.92736-0.63000.h5\n",
      "Epoch 5/10\n",
      "67/67 [==============================] - 30s 450ms/step - loss: 0.7090 - categorical_accuracy: 0.7164 - val_loss: 0.9397 - val_categorical_accuracy: 0.6600\n",
      "\n",
      "Epoch 00005: saving model to model_init_2020-03-3004_10_50.546452/model-00005-0.70899-0.71642-0.93971-0.66000.h5\n",
      "Epoch 6/10\n",
      "67/67 [==============================] - 30s 449ms/step - loss: 0.6600 - categorical_accuracy: 0.7363 - val_loss: 0.8965 - val_categorical_accuracy: 0.6200\n",
      "\n",
      "Epoch 00006: saving model to model_init_2020-03-3004_10_50.546452/model-00006-0.65996-0.73632-0.89645-0.62000.h5\n",
      "Epoch 7/10\n",
      "67/67 [==============================] - 30s 446ms/step - loss: 0.7413 - categorical_accuracy: 0.6418 - val_loss: 0.9081 - val_categorical_accuracy: 0.6300\n",
      "\n",
      "Epoch 00007: saving model to model_init_2020-03-3004_10_50.546452/model-00007-0.74134-0.64179-0.90810-0.63000.h5\n",
      "Epoch 8/10\n",
      "67/67 [==============================] - 30s 443ms/step - loss: 0.6661 - categorical_accuracy: 0.7214 - val_loss: 0.8820 - val_categorical_accuracy: 0.6200\n",
      "\n",
      "Epoch 00008: saving model to model_init_2020-03-3004_10_50.546452/model-00008-0.66611-0.72139-0.88196-0.62000.h5\n",
      "Epoch 9/10\n",
      "67/67 [==============================] - 30s 450ms/step - loss: 0.6174 - categorical_accuracy: 0.7413 - val_loss: 0.9502 - val_categorical_accuracy: 0.5900\n",
      "\n",
      "Epoch 00009: saving model to model_init_2020-03-3004_10_50.546452/model-00009-0.61738-0.74129-0.95019-0.59000.h5\n",
      "Epoch 10/10\n",
      "67/67 [==============================] - 30s 448ms/step - loss: 0.6999 - categorical_accuracy: 0.7114 - val_loss: 1.1185 - val_categorical_accuracy: 0.5900\n",
      "\n",
      "Epoch 00010: saving model to model_init_2020-03-3004_10_50.546452/model-00010-0.69988-0.71144-1.11852-0.59000.h5\n",
      "\n",
      "Epoch 00010: ReduceLROnPlateau reducing learning rate to 0.0001250000059371814.\n"
     ]
    },
    {
     "data": {
      "text/plain": [
       "<keras.callbacks.History at 0x7f8bb4030198>"
      ]
     },
     "execution_count": 21,
     "metadata": {},
     "output_type": "execute_result"
    }
   ],
   "source": [
    "model_b.fit_generator(train_generator, steps_per_epoch=steps_per_epoch, epochs=num_epochs, verbose=1, \n",
    "                    callbacks=callbacks_list, validation_data=val_generator, \n",
    "                    validation_steps=validation_steps, class_weight=None, workers=1, initial_epoch=0)"
   ]
  },
  {
   "cell_type": "markdown",
   "metadata": {},
   "source": [
    "### Changing Batch size to 30 Experiment [3]"
   ]
  },
  {
   "cell_type": "code",
   "execution_count": 22,
   "metadata": {},
   "outputs": [],
   "source": [
    "train_generator = generator_ex(train_path, train_doc, 30)\n",
    "val_generator = generator_ex(val_path, val_doc, 30)"
   ]
  },
  {
   "cell_type": "code",
   "execution_count": 23,
   "metadata": {},
   "outputs": [
    {
     "name": "stdout",
     "output_type": "stream",
     "text": [
      "Source path = Source path =  Project_data/trainEpoch 1/10\n",
      " ; batch size = 30\n",
      " Project_data/val ; batch size = 30\n"
     ]
    },
    {
     "name": "stderr",
     "output_type": "stream",
     "text": [
      "/mnt/disks/user/anaconda3/lib/python3.6/site-packages/ipykernel_launcher.py:19: DeprecationWarning: `imread` is deprecated!\n",
      "`imread` is deprecated in SciPy 1.0.0, and will be removed in 1.2.0.\n",
      "Use ``imageio.imread`` instead.\n",
      "/mnt/disks/user/anaconda3/lib/python3.6/site-packages/ipykernel_launcher.py:24: DeprecationWarning: `imresize` is deprecated!\n",
      "`imresize` is deprecated in SciPy 1.0.0, and will be removed in 1.2.0.\n",
      "Use ``skimage.transform.resize`` instead.\n"
     ]
    },
    {
     "name": "stdout",
     "output_type": "stream",
     "text": [
      " 3/67 [>.............................] - ETA: 4:57 - loss: 0.6738 - categorical_accuracy: 0.7444Batch:  4 Index: 30\n"
     ]
    },
    {
     "name": "stderr",
     "output_type": "stream",
     "text": [
      "/mnt/disks/user/anaconda3/lib/python3.6/site-packages/ipykernel_launcher.py:44: DeprecationWarning: `imread` is deprecated!\n",
      "`imread` is deprecated in SciPy 1.0.0, and will be removed in 1.2.0.\n",
      "Use ``imageio.imread`` instead.\n",
      "/mnt/disks/user/anaconda3/lib/python3.6/site-packages/ipykernel_launcher.py:48: DeprecationWarning: `imresize` is deprecated!\n",
      "`imresize` is deprecated in SciPy 1.0.0, and will be removed in 1.2.0.\n",
      "Use ``skimage.transform.resize`` instead.\n"
     ]
    },
    {
     "name": "stdout",
     "output_type": "stream",
     "text": [
      "21/67 [========>.....................] - ETA: 2:35 - loss: 0.5476 - categorical_accuracy: 0.8000Batch:  23 Index: 30\n",
      "67/67 [==============================] - 88s 1s/step - loss: 0.5762 - categorical_accuracy: 0.7920 - val_loss: 0.9627 - val_categorical_accuracy: 0.6313\n",
      "\n",
      "Epoch 00001: saving model to model_init_2020-03-3004_10_50.546452/model-00001-0.56468-0.79119-0.96271-0.63125.h5\n",
      "Epoch 2/10\n",
      "67/67 [==============================] - 25s 369ms/step - loss: 0.5015 - categorical_accuracy: 0.8060 - val_loss: 0.9279 - val_categorical_accuracy: 0.6100\n",
      "\n",
      "Epoch 00002: saving model to model_init_2020-03-3004_10_50.546452/model-00002-0.50150-0.80597-0.92789-0.61000.h5\n",
      "Epoch 3/10\n",
      "67/67 [==============================] - 24s 364ms/step - loss: 0.4823 - categorical_accuracy: 0.8109 - val_loss: 0.8731 - val_categorical_accuracy: 0.6600\n",
      "\n",
      "Epoch 00003: saving model to model_init_2020-03-3004_10_50.546452/model-00003-0.48229-0.81095-0.87311-0.66000.h5\n",
      "Epoch 4/10\n",
      "67/67 [==============================] - 23s 348ms/step - loss: 0.4339 - categorical_accuracy: 0.8259 - val_loss: 0.8381 - val_categorical_accuracy: 0.6700\n",
      "\n",
      "Epoch 00004: saving model to model_init_2020-03-3004_10_50.546452/model-00004-0.43393-0.82587-0.83806-0.67000.h5\n",
      "Epoch 5/10\n",
      "67/67 [==============================] - 23s 350ms/step - loss: 0.4246 - categorical_accuracy: 0.8358 - val_loss: 1.0235 - val_categorical_accuracy: 0.5500\n",
      "\n",
      "Epoch 00005: saving model to model_init_2020-03-3004_10_50.546452/model-00005-0.42463-0.83582-1.02350-0.55000.h5\n",
      "Epoch 6/10\n",
      "67/67 [==============================] - 24s 358ms/step - loss: 0.4438 - categorical_accuracy: 0.8259 - val_loss: 0.8056 - val_categorical_accuracy: 0.6900\n",
      "\n",
      "Epoch 00006: saving model to model_init_2020-03-3004_10_50.546452/model-00006-0.44380-0.82587-0.80563-0.69000.h5\n",
      "Epoch 7/10\n",
      "67/67 [==============================] - 26s 384ms/step - loss: 0.3854 - categorical_accuracy: 0.8607 - val_loss: 1.0035 - val_categorical_accuracy: 0.6300\n",
      "\n",
      "Epoch 00007: saving model to model_init_2020-03-3004_10_50.546452/model-00007-0.38544-0.86070-1.00348-0.63000.h5\n",
      "Epoch 8/10\n",
      "67/67 [==============================] - 25s 371ms/step - loss: 0.3812 - categorical_accuracy: 0.8557 - val_loss: 0.9482 - val_categorical_accuracy: 0.6300\n",
      "\n",
      "Epoch 00008: saving model to model_init_2020-03-3004_10_50.546452/model-00008-0.38123-0.85572-0.94816-0.63000.h5\n",
      "\n",
      "Epoch 00008: ReduceLROnPlateau reducing learning rate to 6.25000029685907e-05.\n",
      "Epoch 9/10\n",
      "67/67 [==============================] - 25s 376ms/step - loss: 0.2961 - categorical_accuracy: 0.9104 - val_loss: 1.0305 - val_categorical_accuracy: 0.6200\n",
      "\n",
      "Epoch 00009: saving model to model_init_2020-03-3004_10_50.546452/model-00009-0.29611-0.91045-1.03046-0.62000.h5\n",
      "Epoch 10/10\n",
      "67/67 [==============================] - 24s 362ms/step - loss: 0.3048 - categorical_accuracy: 0.8756 - val_loss: 0.9074 - val_categorical_accuracy: 0.6700\n",
      "\n",
      "Epoch 00010: saving model to model_init_2020-03-3004_10_50.546452/model-00010-0.30478-0.87562-0.90742-0.67000.h5\n",
      "\n",
      "Epoch 00010: ReduceLROnPlateau reducing learning rate to 3.125000148429535e-05.\n"
     ]
    },
    {
     "data": {
      "text/plain": [
       "<keras.callbacks.History at 0x7f8bb4030e10>"
      ]
     },
     "execution_count": 23,
     "metadata": {},
     "output_type": "execute_result"
    }
   ],
   "source": [
    "model_b.fit_generator(train_generator, steps_per_epoch=steps_per_epoch, epochs=num_epochs, verbose=1, \n",
    "                    callbacks=callbacks_list, validation_data=val_generator, \n",
    "                    validation_steps=validation_steps, class_weight=None, workers=1, initial_epoch=0)"
   ]
  },
  {
   "cell_type": "markdown",
   "metadata": {},
   "source": [
    "### Changing Batch size to 40 Experiment [4]"
   ]
  },
  {
   "cell_type": "code",
   "execution_count": 24,
   "metadata": {},
   "outputs": [],
   "source": [
    "train_generator = generator_ex(train_path, train_doc, 40)\n",
    "val_generator = generator_ex(val_path, val_doc, 40)"
   ]
  },
  {
   "cell_type": "code",
   "execution_count": 25,
   "metadata": {},
   "outputs": [
    {
     "name": "stdout",
     "output_type": "stream",
     "text": [
      "Source path =  Source path =  Project_data/train ; batch size = 40\n",
      "Project_data/val ; batch size = 40\n",
      "Epoch 1/10\n"
     ]
    },
    {
     "name": "stderr",
     "output_type": "stream",
     "text": [
      "/mnt/disks/user/anaconda3/lib/python3.6/site-packages/ipykernel_launcher.py:19: DeprecationWarning: `imread` is deprecated!\n",
      "`imread` is deprecated in SciPy 1.0.0, and will be removed in 1.2.0.\n",
      "Use ``imageio.imread`` instead.\n",
      "/mnt/disks/user/anaconda3/lib/python3.6/site-packages/ipykernel_launcher.py:24: DeprecationWarning: `imresize` is deprecated!\n",
      "`imresize` is deprecated in SciPy 1.0.0, and will be removed in 1.2.0.\n",
      "Use ``skimage.transform.resize`` instead.\n"
     ]
    },
    {
     "name": "stdout",
     "output_type": "stream",
     "text": [
      " 1/67 [..............................] - ETA: 11:26 - loss: 0.3630 - categorical_accuracy: 0.8250Batch:  3 Index: 40\n"
     ]
    },
    {
     "name": "stderr",
     "output_type": "stream",
     "text": [
      "/mnt/disks/user/anaconda3/lib/python3.6/site-packages/ipykernel_launcher.py:44: DeprecationWarning: `imread` is deprecated!\n",
      "`imread` is deprecated in SciPy 1.0.0, and will be removed in 1.2.0.\n",
      "Use ``imageio.imread`` instead.\n",
      "/mnt/disks/user/anaconda3/lib/python3.6/site-packages/ipykernel_launcher.py:48: DeprecationWarning: `imresize` is deprecated!\n",
      "`imresize` is deprecated in SciPy 1.0.0, and will be removed in 1.2.0.\n",
      "Use ``skimage.transform.resize`` instead.\n"
     ]
    },
    {
     "name": "stdout",
     "output_type": "stream",
     "text": [
      "15/67 [=====>........................] - ETA: 4:03 - loss: 0.2914 - categorical_accuracy: 0.8883Batch:  17 Index: 40\n",
      "44/67 [==================>...........] - ETA: 1:13 - loss: 0.2941 - categorical_accuracy: 0.8885Batch:  29 Index: 23\n",
      "67/67 [==============================] - 187s 3s/step - loss: 0.3007 - categorical_accuracy: 0.8879 - val_loss: 0.9434 - val_categorical_accuracy: 0.6667\n",
      "\n",
      "Epoch 00001: saving model to model_init_2020-03-3004_10_50.546452/model-00001-0.29789-0.88812-0.94339-0.66667.h5\n",
      "Epoch 2/10\n",
      "12/67 [====>.........................] - ETA: 2:03 - loss: 0.2619 - categorical_accuracy: 0.9123Batch:  35 Index: 19\n",
      "67/67 [==============================] - 127s 2s/step - loss: 0.2865 - categorical_accuracy: 0.9002 - val_loss: 0.9878 - val_categorical_accuracy: 0.6250\n",
      "\n",
      "Epoch 00002: saving model to model_init_2020-03-3004_10_50.546452/model-00002-0.28591-0.90043-0.98776-0.62500.h5\n",
      "Epoch 3/10\n",
      "67/67 [==============================] - 123s 2s/step - loss: 0.2837 - categorical_accuracy: 0.8999 - val_loss: 0.9866 - val_categorical_accuracy: 0.6550\n",
      "\n",
      "Epoch 00003: saving model to model_init_2020-03-3004_10_50.546452/model-00003-0.28374-0.89991-0.98658-0.65500.h5\n",
      "\n",
      "Epoch 00003: ReduceLROnPlateau reducing learning rate to 1.5625000742147677e-05.\n",
      "Epoch 4/10\n",
      "67/67 [==============================] - 122s 2s/step - loss: 0.2597 - categorical_accuracy: 0.9078 - val_loss: 0.9741 - val_categorical_accuracy: 0.6300\n",
      "\n",
      "Epoch 00004: saving model to model_init_2020-03-3004_10_50.546452/model-00004-0.25970-0.90781-0.97408-0.63000.h5\n",
      "Epoch 5/10\n",
      "67/67 [==============================] - 123s 2s/step - loss: 0.2904 - categorical_accuracy: 0.8938 - val_loss: 1.0474 - val_categorical_accuracy: 0.6400\n",
      "\n",
      "Epoch 00005: saving model to model_init_2020-03-3004_10_50.546452/model-00005-0.29045-0.89377-1.04736-0.64000.h5\n",
      "\n",
      "Epoch 00005: ReduceLROnPlateau reducing learning rate to 7.812500371073838e-06.\n",
      "Epoch 6/10\n",
      "67/67 [==============================] - 119s 2s/step - loss: 0.2651 - categorical_accuracy: 0.9140 - val_loss: 1.0063 - val_categorical_accuracy: 0.6350\n",
      "\n",
      "Epoch 00006: saving model to model_init_2020-03-3004_10_50.546452/model-00006-0.26511-0.91396-1.00632-0.63500.h5\n",
      "Epoch 7/10\n",
      "67/67 [==============================] - 125s 2s/step - loss: 0.2515 - categorical_accuracy: 0.9061 - val_loss: 0.9855 - val_categorical_accuracy: 0.6500\n",
      "\n",
      "Epoch 00007: saving model to model_init_2020-03-3004_10_50.546452/model-00007-0.25152-0.90606-0.98546-0.65000.h5\n",
      "\n",
      "Epoch 00007: ReduceLROnPlateau reducing learning rate to 3.906250185536919e-06.\n",
      "Epoch 8/10\n",
      "67/67 [==============================] - 124s 2s/step - loss: 0.2433 - categorical_accuracy: 0.9183 - val_loss: 0.9374 - val_categorical_accuracy: 0.6250\n",
      "\n",
      "Epoch 00008: saving model to model_init_2020-03-3004_10_50.546452/model-00008-0.24335-0.91835-0.93739-0.62500.h5\n",
      "Epoch 9/10\n",
      "67/67 [==============================] - 123s 2s/step - loss: 0.2440 - categorical_accuracy: 0.9131 - val_loss: 1.0463 - val_categorical_accuracy: 0.6350\n",
      "\n",
      "Epoch 00009: saving model to model_init_2020-03-3004_10_50.546452/model-00009-0.24396-0.91308-1.04628-0.63500.h5\n",
      "Epoch 10/10\n",
      "67/67 [==============================] - 123s 2s/step - loss: 0.2735 - categorical_accuracy: 0.9052 - val_loss: 1.0174 - val_categorical_accuracy: 0.6600\n",
      "\n",
      "Epoch 00010: saving model to model_init_2020-03-3004_10_50.546452/model-00010-0.27353-0.90518-1.01738-0.66000.h5\n",
      "\n",
      "Epoch 00010: ReduceLROnPlateau reducing learning rate to 1.9531250927684596e-06.\n"
     ]
    },
    {
     "data": {
      "text/plain": [
       "<keras.callbacks.History at 0x7f8bb407ee10>"
      ]
     },
     "execution_count": 25,
     "metadata": {},
     "output_type": "execute_result"
    }
   ],
   "source": [
    "model_b.fit_generator(train_generator, steps_per_epoch=steps_per_epoch, epochs=num_epochs, verbose=1, \n",
    "                    callbacks=callbacks_list, validation_data=val_generator, \n",
    "                    validation_steps=validation_steps, class_weight=None, workers=1, initial_epoch=0)"
   ]
  },
  {
   "cell_type": "markdown",
   "metadata": {},
   "source": [
    "### Change Optimizer to Adadelta Experiment [5]"
   ]
  },
  {
   "cell_type": "code",
   "execution_count": 26,
   "metadata": {},
   "outputs": [
    {
     "name": "stdout",
     "output_type": "stream",
     "text": [
      "_________________________________________________________________\n",
      "Layer (type)                 Output Shape              Param #   \n",
      "=================================================================\n",
      "conv3d_9 (Conv3D)            (None, 30, 60, 60, 32)    2624      \n",
      "_________________________________________________________________\n",
      "activation_9 (Activation)    (None, 30, 60, 60, 32)    0         \n",
      "_________________________________________________________________\n",
      "conv3d_10 (Conv3D)           (None, 30, 60, 60, 32)    27680     \n",
      "_________________________________________________________________\n",
      "activation_10 (Activation)   (None, 30, 60, 60, 32)    0         \n",
      "_________________________________________________________________\n",
      "max_pooling3d_7 (MaxPooling3 (None, 10, 20, 20, 32)    0         \n",
      "_________________________________________________________________\n",
      "dropout_6 (Dropout)          (None, 10, 20, 20, 32)    0         \n",
      "_________________________________________________________________\n",
      "conv3d_11 (Conv3D)           (None, 10, 20, 20, 64)    55360     \n",
      "_________________________________________________________________\n",
      "activation_11 (Activation)   (None, 10, 20, 20, 64)    0         \n",
      "_________________________________________________________________\n",
      "conv3d_12 (Conv3D)           (None, 10, 20, 20, 64)    110656    \n",
      "_________________________________________________________________\n",
      "activation_12 (Activation)   (None, 10, 20, 20, 64)    0         \n",
      "_________________________________________________________________\n",
      "max_pooling3d_8 (MaxPooling3 (None, 4, 7, 7, 64)       0         \n",
      "_________________________________________________________________\n",
      "dropout_7 (Dropout)          (None, 4, 7, 7, 64)       0         \n",
      "_________________________________________________________________\n",
      "flatten_3 (Flatten)          (None, 12544)             0         \n",
      "_________________________________________________________________\n",
      "dense_6 (Dense)              (None, 512)               6423040   \n",
      "_________________________________________________________________\n",
      "dropout_8 (Dropout)          (None, 512)               0         \n",
      "_________________________________________________________________\n",
      "dense_7 (Dense)              (None, 5)                 2565      \n",
      "=================================================================\n",
      "Total params: 6,621,925\n",
      "Trainable params: 6,621,925\n",
      "Non-trainable params: 0\n",
      "_________________________________________________________________\n"
     ]
    }
   ],
   "source": [
    "model_b.compile(optimizer=keras.optimizers.Adadelta(), loss='categorical_crossentropy', metrics=['categorical_accuracy'])\n",
    "model_b.summary()"
   ]
  },
  {
   "cell_type": "code",
   "execution_count": 27,
   "metadata": {},
   "outputs": [],
   "source": [
    "train_generator = generator_ex(train_path, train_doc, 40)\n",
    "val_generator = generator_ex(val_path, val_doc, 40)"
   ]
  },
  {
   "cell_type": "code",
   "execution_count": 28,
   "metadata": {},
   "outputs": [
    {
     "name": "stdout",
     "output_type": "stream",
     "text": [
      "Source path =  Project_data/val ; batch size = 40\n",
      "Source path =  Epoch 1/10Project_data/train ; batch size = 40\n",
      "\n"
     ]
    },
    {
     "name": "stderr",
     "output_type": "stream",
     "text": [
      "/mnt/disks/user/anaconda3/lib/python3.6/site-packages/ipykernel_launcher.py:19: DeprecationWarning: `imread` is deprecated!\n",
      "`imread` is deprecated in SciPy 1.0.0, and will be removed in 1.2.0.\n",
      "Use ``imageio.imread`` instead.\n",
      "/mnt/disks/user/anaconda3/lib/python3.6/site-packages/ipykernel_launcher.py:24: DeprecationWarning: `imresize` is deprecated!\n",
      "`imresize` is deprecated in SciPy 1.0.0, and will be removed in 1.2.0.\n",
      "Use ``skimage.transform.resize`` instead.\n"
     ]
    },
    {
     "name": "stdout",
     "output_type": "stream",
     "text": [
      " 2/67 [..............................] - ETA: 5:39 - loss: 0.2641 - categorical_accuracy: 0.9000Batch:  3 Index: 40\n"
     ]
    },
    {
     "name": "stderr",
     "output_type": "stream",
     "text": [
      "/mnt/disks/user/anaconda3/lib/python3.6/site-packages/ipykernel_launcher.py:44: DeprecationWarning: `imread` is deprecated!\n",
      "`imread` is deprecated in SciPy 1.0.0, and will be removed in 1.2.0.\n",
      "Use ``imageio.imread`` instead.\n",
      "/mnt/disks/user/anaconda3/lib/python3.6/site-packages/ipykernel_launcher.py:48: DeprecationWarning: `imresize` is deprecated!\n",
      "`imresize` is deprecated in SciPy 1.0.0, and will be removed in 1.2.0.\n",
      "Use ``skimage.transform.resize`` instead.\n"
     ]
    },
    {
     "name": "stdout",
     "output_type": "stream",
     "text": [
      "15/67 [=====>........................] - ETA: 4:01 - loss: 0.3781 - categorical_accuracy: 0.8483Batch:  17 Index: 40\n",
      "44/67 [==================>...........] - ETA: 1:12 - loss: 0.3767 - categorical_accuracy: 0.8447Batch:  29 Index: 23\n",
      "67/67 [==============================] - 189s 3s/step - loss: 0.3501 - categorical_accuracy: 0.8636 - val_loss: 1.4383 - val_categorical_accuracy: 0.6042\n",
      "\n",
      "Epoch 00001: saving model to model_init_2020-03-3004_10_50.546452/model-00001-0.35603-0.85971-1.43828-0.60417.h5\n",
      "Epoch 2/10\n",
      "12/67 [====>.........................] - ETA: 1:50 - loss: 0.2661 - categorical_accuracy: 0.8991Batch:  35 Index: 19\n",
      "67/67 [==============================] - 123s 2s/step - loss: 0.2760 - categorical_accuracy: 0.9035 - val_loss: 1.0144 - val_categorical_accuracy: 0.6650\n",
      "\n",
      "Epoch 00002: saving model to model_init_2020-03-3004_10_50.546452/model-00002-0.27642-0.90300-1.01438-0.66500.h5\n",
      "Epoch 3/10\n",
      "67/67 [==============================] - 121s 2s/step - loss: 0.1802 - categorical_accuracy: 0.9342 - val_loss: 1.7026 - val_categorical_accuracy: 0.6250\n",
      "\n",
      "Epoch 00003: saving model to model_init_2020-03-3004_10_50.546452/model-00003-0.18024-0.93415-1.70264-0.62500.h5\n",
      "Epoch 4/10\n",
      "67/67 [==============================] - 123s 2s/step - loss: 0.1708 - categorical_accuracy: 0.9438 - val_loss: 1.4130 - val_categorical_accuracy: 0.6800\n",
      "\n",
      "Epoch 00004: saving model to model_init_2020-03-3004_10_50.546452/model-00004-0.17084-0.94381-1.41301-0.68000.h5\n",
      "\n",
      "Epoch 00004: ReduceLROnPlateau reducing learning rate to 0.5.\n",
      "Epoch 5/10\n",
      "67/67 [==============================] - 121s 2s/step - loss: 0.0864 - categorical_accuracy: 0.9701 - val_loss: 1.6186 - val_categorical_accuracy: 0.6500\n",
      "\n",
      "Epoch 00005: saving model to model_init_2020-03-3004_10_50.546452/model-00005-0.08645-0.97015-1.61855-0.65000.h5\n",
      "Epoch 6/10\n",
      "67/67 [==============================] - 121s 2s/step - loss: 0.0758 - categorical_accuracy: 0.9781 - val_loss: 1.4767 - val_categorical_accuracy: 0.6600\n",
      "\n",
      "Epoch 00006: saving model to model_init_2020-03-3004_10_50.546452/model-00006-0.07581-0.97805-1.47673-0.66000.h5\n",
      "\n",
      "Epoch 00006: ReduceLROnPlateau reducing learning rate to 0.25.\n",
      "Epoch 7/10\n",
      "67/67 [==============================] - 122s 2s/step - loss: 0.0454 - categorical_accuracy: 0.9868 - val_loss: 1.6350 - val_categorical_accuracy: 0.6300\n",
      "\n",
      "Epoch 00007: saving model to model_init_2020-03-3004_10_50.546452/model-00007-0.04540-0.98683-1.63502-0.63000.h5\n",
      "Epoch 8/10\n",
      "67/67 [==============================] - 121s 2s/step - loss: 0.0419 - categorical_accuracy: 0.9860 - val_loss: 1.7154 - val_categorical_accuracy: 0.6900\n",
      "\n",
      "Epoch 00008: saving model to model_init_2020-03-3004_10_50.546452/model-00008-0.04188-0.98595-1.71543-0.69000.h5\n",
      "\n",
      "Epoch 00008: ReduceLROnPlateau reducing learning rate to 0.125.\n",
      "Epoch 9/10\n",
      "67/67 [==============================] - 124s 2s/step - loss: 0.0478 - categorical_accuracy: 0.9816 - val_loss: 1.4305 - val_categorical_accuracy: 0.6650\n",
      "\n",
      "Epoch 00009: saving model to model_init_2020-03-3004_10_50.546452/model-00009-0.04781-0.98156-1.43050-0.66500.h5\n",
      "Epoch 10/10\n",
      "67/67 [==============================] - 121s 2s/step - loss: 0.0339 - categorical_accuracy: 0.9895 - val_loss: 1.7755 - val_categorical_accuracy: 0.6550\n",
      "\n",
      "Epoch 00010: saving model to model_init_2020-03-3004_10_50.546452/model-00010-0.03391-0.98946-1.77546-0.65500.h5\n",
      "\n",
      "Epoch 00010: ReduceLROnPlateau reducing learning rate to 0.0625.\n"
     ]
    },
    {
     "data": {
      "text/plain": [
       "<keras.callbacks.History at 0x7f8ba7183160>"
      ]
     },
     "execution_count": 28,
     "metadata": {},
     "output_type": "execute_result"
    }
   ],
   "source": [
    "model_b.fit_generator(train_generator, steps_per_epoch=steps_per_epoch, epochs=num_epochs, verbose=1, \n",
    "                    callbacks=callbacks_list, validation_data=val_generator, \n",
    "                    validation_steps=validation_steps, class_weight=None, workers=1, initial_epoch=0)"
   ]
  },
  {
   "cell_type": "markdown",
   "metadata": {},
   "source": [
    "### Change epoch to 20 Experiment [6]"
   ]
  },
  {
   "cell_type": "code",
   "execution_count": 29,
   "metadata": {},
   "outputs": [
    {
     "name": "stdout",
     "output_type": "stream",
     "text": [
      "# epochs = 20\n"
     ]
    }
   ],
   "source": [
    "num_epochs = 20 # choose the number of epochs\n",
    "print ('# epochs =', num_epochs)"
   ]
  },
  {
   "cell_type": "code",
   "execution_count": 31,
   "metadata": {},
   "outputs": [
    {
     "name": "stdout",
     "output_type": "stream",
     "text": [
      "_________________________________________________________________\n",
      "Layer (type)                 Output Shape              Param #   \n",
      "=================================================================\n",
      "conv3d_9 (Conv3D)            (None, 30, 60, 60, 32)    2624      \n",
      "_________________________________________________________________\n",
      "activation_9 (Activation)    (None, 30, 60, 60, 32)    0         \n",
      "_________________________________________________________________\n",
      "conv3d_10 (Conv3D)           (None, 30, 60, 60, 32)    27680     \n",
      "_________________________________________________________________\n",
      "activation_10 (Activation)   (None, 30, 60, 60, 32)    0         \n",
      "_________________________________________________________________\n",
      "max_pooling3d_7 (MaxPooling3 (None, 10, 20, 20, 32)    0         \n",
      "_________________________________________________________________\n",
      "dropout_6 (Dropout)          (None, 10, 20, 20, 32)    0         \n",
      "_________________________________________________________________\n",
      "conv3d_11 (Conv3D)           (None, 10, 20, 20, 64)    55360     \n",
      "_________________________________________________________________\n",
      "activation_11 (Activation)   (None, 10, 20, 20, 64)    0         \n",
      "_________________________________________________________________\n",
      "conv3d_12 (Conv3D)           (None, 10, 20, 20, 64)    110656    \n",
      "_________________________________________________________________\n",
      "activation_12 (Activation)   (None, 10, 20, 20, 64)    0         \n",
      "_________________________________________________________________\n",
      "max_pooling3d_8 (MaxPooling3 (None, 4, 7, 7, 64)       0         \n",
      "_________________________________________________________________\n",
      "dropout_7 (Dropout)          (None, 4, 7, 7, 64)       0         \n",
      "_________________________________________________________________\n",
      "flatten_3 (Flatten)          (None, 12544)             0         \n",
      "_________________________________________________________________\n",
      "dense_6 (Dense)              (None, 512)               6423040   \n",
      "_________________________________________________________________\n",
      "dropout_8 (Dropout)          (None, 512)               0         \n",
      "_________________________________________________________________\n",
      "dense_7 (Dense)              (None, 5)                 2565      \n",
      "=================================================================\n",
      "Total params: 6,621,925\n",
      "Trainable params: 6,621,925\n",
      "Non-trainable params: 0\n",
      "_________________________________________________________________\n"
     ]
    }
   ],
   "source": [
    "import keras\n",
    "model_b.compile(optimizer=keras.optimizers.Adadelta(), loss='categorical_crossentropy', metrics=['categorical_accuracy'])\n",
    "model_b.summary()"
   ]
  },
  {
   "cell_type": "code",
   "execution_count": 32,
   "metadata": {},
   "outputs": [],
   "source": [
    "train_generator = generator_ex(train_path, train_doc, 40)\n",
    "val_generator = generator_ex(val_path, val_doc, 40)"
   ]
  },
  {
   "cell_type": "code",
   "execution_count": 33,
   "metadata": {},
   "outputs": [
    {
     "name": "stdout",
     "output_type": "stream",
     "text": [
      "Source path =  Project_data/val ; batch size = 40\n",
      "Source path =  Epoch 1/20\n",
      "Project_data/train ; batch size = 40\n"
     ]
    },
    {
     "name": "stderr",
     "output_type": "stream",
     "text": [
      "/mnt/disks/user/anaconda3/lib/python3.6/site-packages/ipykernel_launcher.py:19: DeprecationWarning: `imread` is deprecated!\n",
      "`imread` is deprecated in SciPy 1.0.0, and will be removed in 1.2.0.\n",
      "Use ``imageio.imread`` instead.\n",
      "/mnt/disks/user/anaconda3/lib/python3.6/site-packages/ipykernel_launcher.py:24: DeprecationWarning: `imresize` is deprecated!\n",
      "`imresize` is deprecated in SciPy 1.0.0, and will be removed in 1.2.0.\n",
      "Use ``skimage.transform.resize`` instead.\n"
     ]
    },
    {
     "name": "stdout",
     "output_type": "stream",
     "text": [
      " 2/67 [..............................] - ETA: 6:00 - loss: 0.0219 - categorical_accuracy: 1.0000Batch:  3 Index: 40\n"
     ]
    },
    {
     "name": "stderr",
     "output_type": "stream",
     "text": [
      "/mnt/disks/user/anaconda3/lib/python3.6/site-packages/ipykernel_launcher.py:44: DeprecationWarning: `imread` is deprecated!\n",
      "`imread` is deprecated in SciPy 1.0.0, and will be removed in 1.2.0.\n",
      "Use ``imageio.imread`` instead.\n",
      "/mnt/disks/user/anaconda3/lib/python3.6/site-packages/ipykernel_launcher.py:48: DeprecationWarning: `imresize` is deprecated!\n",
      "`imresize` is deprecated in SciPy 1.0.0, and will be removed in 1.2.0.\n",
      "Use ``skimage.transform.resize`` instead.\n"
     ]
    },
    {
     "name": "stdout",
     "output_type": "stream",
     "text": [
      "15/67 [=====>........................] - ETA: 3:58 - loss: 0.2095 - categorical_accuracy: 0.9550Batch:  17 Index: 40\n",
      "44/67 [==================>...........] - ETA: 1:11 - loss: 0.1264 - categorical_accuracy: 0.9638Batch:  29 Index: 23\n",
      "67/67 [==============================] - 184s 3s/step - loss: 0.1303 - categorical_accuracy: 0.9591 - val_loss: 1.9376 - val_categorical_accuracy: 0.6333\n",
      "\n",
      "Epoch 00001: saving model to model_init_2020-03-3004_10_50.546452/model-00001-0.14102-0.95884-1.93762-0.63333.h5\n",
      "Epoch 2/20\n",
      "12/67 [====>.........................] - ETA: 1:59 - loss: 0.0498 - categorical_accuracy: 0.9825Batch:  35 Index: 19\n",
      "67/67 [==============================] - 123s 2s/step - loss: 0.0729 - categorical_accuracy: 0.9749 - val_loss: 1.3213 - val_categorical_accuracy: 0.7450\n",
      "\n",
      "Epoch 00002: saving model to model_init_2020-03-3004_10_50.546452/model-00002-0.07235-0.97511-1.32130-0.74500.h5\n",
      "Epoch 3/20\n",
      "67/67 [==============================] - 123s 2s/step - loss: 0.0507 - categorical_accuracy: 0.9842 - val_loss: 2.0168 - val_categorical_accuracy: 0.6900\n",
      "\n",
      "Epoch 00003: saving model to model_init_2020-03-3004_10_50.546452/model-00003-0.05070-0.98420-2.01679-0.69000.h5\n",
      "Epoch 4/20\n",
      "67/67 [==============================] - 121s 2s/step - loss: 0.0408 - categorical_accuracy: 0.9886 - val_loss: 2.1468 - val_categorical_accuracy: 0.6750\n",
      "\n",
      "Epoch 00004: saving model to model_init_2020-03-3004_10_50.546452/model-00004-0.04078-0.98859-2.14683-0.67500.h5\n",
      "\n",
      "Epoch 00004: ReduceLROnPlateau reducing learning rate to 0.5.\n",
      "Epoch 5/20\n",
      "67/67 [==============================] - 122s 2s/step - loss: 0.0300 - categorical_accuracy: 0.9895 - val_loss: 2.1497 - val_categorical_accuracy: 0.6400\n",
      "\n",
      "Epoch 00005: saving model to model_init_2020-03-3004_10_50.546452/model-00005-0.02995-0.98946-2.14967-0.64000.h5\n",
      "Epoch 6/20\n",
      "67/67 [==============================] - 123s 2s/step - loss: 0.0148 - categorical_accuracy: 0.9947 - val_loss: 1.9327 - val_categorical_accuracy: 0.7350\n",
      "\n",
      "Epoch 00006: saving model to model_init_2020-03-3004_10_50.546452/model-00006-0.01480-0.99473-1.93274-0.73500.h5\n",
      "\n",
      "Epoch 00006: ReduceLROnPlateau reducing learning rate to 0.25.\n",
      "Epoch 7/20\n",
      "67/67 [==============================] - 121s 2s/step - loss: 0.0187 - categorical_accuracy: 0.9930 - val_loss: 2.2992 - val_categorical_accuracy: 0.6500\n",
      "\n",
      "Epoch 00007: saving model to model_init_2020-03-3004_10_50.546452/model-00007-0.01872-0.99298-2.29916-0.65000.h5\n",
      "Epoch 8/20\n",
      "67/67 [==============================] - 122s 2s/step - loss: 0.0199 - categorical_accuracy: 0.9930 - val_loss: 2.3220 - val_categorical_accuracy: 0.6650\n",
      "\n",
      "Epoch 00008: saving model to model_init_2020-03-3004_10_50.546452/model-00008-0.01993-0.99298-2.32203-0.66500.h5\n",
      "\n",
      "Epoch 00008: ReduceLROnPlateau reducing learning rate to 0.125.\n",
      "Epoch 9/20\n",
      "67/67 [==============================] - 125s 2s/step - loss: 0.0154 - categorical_accuracy: 0.9956 - val_loss: 2.0873 - val_categorical_accuracy: 0.6800\n",
      "\n",
      "Epoch 00009: saving model to model_init_2020-03-3004_10_50.546452/model-00009-0.01535-0.99561-2.08730-0.68000.h5\n",
      "Epoch 10/20\n",
      "67/67 [==============================] - 120s 2s/step - loss: 0.0079 - categorical_accuracy: 0.9991 - val_loss: 2.2178 - val_categorical_accuracy: 0.6600\n",
      "\n",
      "Epoch 00010: saving model to model_init_2020-03-3004_10_50.546452/model-00010-0.00785-0.99912-2.21776-0.66000.h5\n",
      "\n",
      "Epoch 00010: ReduceLROnPlateau reducing learning rate to 0.0625.\n",
      "Epoch 11/20\n",
      "67/67 [==============================] - 123s 2s/step - loss: 0.0073 - categorical_accuracy: 0.9991 - val_loss: 2.0951 - val_categorical_accuracy: 0.6750\n",
      "\n",
      "Epoch 00011: saving model to model_init_2020-03-3004_10_50.546452/model-00011-0.00732-0.99912-2.09506-0.67500.h5\n",
      "Epoch 12/20\n",
      "67/67 [==============================] - 122s 2s/step - loss: 0.0138 - categorical_accuracy: 0.9930 - val_loss: 2.3663 - val_categorical_accuracy: 0.6450\n",
      "\n",
      "Epoch 00012: saving model to model_init_2020-03-3004_10_50.546452/model-00012-0.01375-0.99298-2.36629-0.64500.h5\n",
      "\n",
      "Epoch 00012: ReduceLROnPlateau reducing learning rate to 0.03125.\n",
      "Epoch 13/20\n",
      "67/67 [==============================] - 122s 2s/step - loss: 0.0041 - categorical_accuracy: 0.9991 - val_loss: 2.1500 - val_categorical_accuracy: 0.6750\n",
      "\n",
      "Epoch 00013: saving model to model_init_2020-03-3004_10_50.546452/model-00013-0.00408-0.99912-2.14998-0.67500.h5\n",
      "Epoch 14/20\n",
      "67/67 [==============================] - 121s 2s/step - loss: 0.0052 - categorical_accuracy: 0.9991 - val_loss: 2.3670 - val_categorical_accuracy: 0.6650\n",
      "\n",
      "Epoch 00014: saving model to model_init_2020-03-3004_10_50.546452/model-00014-0.00525-0.99912-2.36705-0.66500.h5\n",
      "\n",
      "Epoch 00014: ReduceLROnPlateau reducing learning rate to 0.015625.\n",
      "Epoch 15/20\n",
      "67/67 [==============================] - 123s 2s/step - loss: 0.0081 - categorical_accuracy: 0.9974 - val_loss: 2.1935 - val_categorical_accuracy: 0.6550\n",
      "\n",
      "Epoch 00015: saving model to model_init_2020-03-3004_10_50.546452/model-00015-0.00806-0.99737-2.19351-0.65500.h5\n",
      "Epoch 16/20\n",
      "67/67 [==============================] - 123s 2s/step - loss: 0.0129 - categorical_accuracy: 0.9965 - val_loss: 2.1983 - val_categorical_accuracy: 0.6700\n",
      "\n",
      "Epoch 00016: saving model to model_init_2020-03-3004_10_50.546452/model-00016-0.01294-0.99649-2.19827-0.67000.h5\n",
      "\n",
      "Epoch 00016: ReduceLROnPlateau reducing learning rate to 0.0078125.\n",
      "Epoch 17/20\n",
      "67/67 [==============================] - 122s 2s/step - loss: 0.0099 - categorical_accuracy: 0.9974 - val_loss: 2.3187 - val_categorical_accuracy: 0.6950\n",
      "\n",
      "Epoch 00017: saving model to model_init_2020-03-3004_10_50.546452/model-00017-0.00989-0.99737-2.31869-0.69500.h5\n",
      "Epoch 18/20\n",
      "67/67 [==============================] - 123s 2s/step - loss: 0.0154 - categorical_accuracy: 0.9947 - val_loss: 1.9411 - val_categorical_accuracy: 0.6750\n",
      "\n",
      "Epoch 00018: saving model to model_init_2020-03-3004_10_50.546452/model-00018-0.01541-0.99473-1.94114-0.67500.h5\n",
      "\n",
      "Epoch 00018: ReduceLROnPlateau reducing learning rate to 0.00390625.\n",
      "Epoch 19/20\n",
      "67/67 [==============================] - 123s 2s/step - loss: 0.0100 - categorical_accuracy: 0.9974 - val_loss: 2.3391 - val_categorical_accuracy: 0.6600\n",
      "\n",
      "Epoch 00019: saving model to model_init_2020-03-3004_10_50.546452/model-00019-0.00999-0.99737-2.33907-0.66000.h5\n",
      "Epoch 20/20\n",
      "67/67 [==============================] - 123s 2s/step - loss: 0.0095 - categorical_accuracy: 0.9965 - val_loss: 2.0887 - val_categorical_accuracy: 0.6850\n",
      "\n",
      "Epoch 00020: saving model to model_init_2020-03-3004_10_50.546452/model-00020-0.00954-0.99649-2.08868-0.68500.h5\n",
      "\n",
      "Epoch 00020: ReduceLROnPlateau reducing learning rate to 0.001953125.\n"
     ]
    },
    {
     "data": {
      "text/plain": [
       "<keras.callbacks.History at 0x7f8ba7189240>"
      ]
     },
     "execution_count": 33,
     "metadata": {},
     "output_type": "execute_result"
    }
   ],
   "source": [
    "model_b.fit_generator(train_generator, steps_per_epoch=steps_per_epoch, epochs=num_epochs, verbose=1, \n",
    "                    callbacks=callbacks_list, validation_data=val_generator, \n",
    "                    validation_steps=validation_steps, class_weight=None, workers=1, initial_epoch=0)"
   ]
  },
  {
   "cell_type": "markdown",
   "metadata": {},
   "source": [
    "## Till this point we achieved 99.39% accuracy in training data"
   ]
  },
  {
   "cell_type": "markdown",
   "metadata": {},
   "source": [
    "### Model D Experiment [7]"
   ]
  },
  {
   "cell_type": "code",
   "execution_count": 35,
   "metadata": {},
   "outputs": [
    {
     "name": "stdout",
     "output_type": "stream",
     "text": [
      "_________________________________________________________________\n",
      "Layer (type)                 Output Shape              Param #   \n",
      "=================================================================\n",
      "conv3d_19 (Conv3D)           (None, 30, 60, 60, 8)     656       \n",
      "_________________________________________________________________\n",
      "batch_normalization_6 (Batch (None, 30, 60, 60, 8)     32        \n",
      "_________________________________________________________________\n",
      "activation_19 (Activation)   (None, 30, 60, 60, 8)     0         \n",
      "_________________________________________________________________\n",
      "max_pooling3d_12 (MaxPooling (None, 15, 30, 30, 8)     0         \n",
      "_________________________________________________________________\n",
      "conv3d_20 (Conv3D)           (None, 15, 30, 30, 16)    3472      \n",
      "_________________________________________________________________\n",
      "batch_normalization_7 (Batch (None, 15, 30, 30, 16)    64        \n",
      "_________________________________________________________________\n",
      "activation_20 (Activation)   (None, 15, 30, 30, 16)    0         \n",
      "_________________________________________________________________\n",
      "max_pooling3d_13 (MaxPooling (None, 7, 15, 15, 16)     0         \n",
      "_________________________________________________________________\n",
      "conv3d_21 (Conv3D)           (None, 7, 15, 15, 32)     4640      \n",
      "_________________________________________________________________\n",
      "batch_normalization_8 (Batch (None, 7, 15, 15, 32)     128       \n",
      "_________________________________________________________________\n",
      "activation_21 (Activation)   (None, 7, 15, 15, 32)     0         \n",
      "_________________________________________________________________\n",
      "max_pooling3d_14 (MaxPooling (None, 3, 7, 7, 32)       0         \n",
      "_________________________________________________________________\n",
      "conv3d_22 (Conv3D)           (None, 3, 7, 7, 64)       18496     \n",
      "_________________________________________________________________\n",
      "batch_normalization_9 (Batch (None, 3, 7, 7, 64)       256       \n",
      "_________________________________________________________________\n",
      "activation_22 (Activation)   (None, 3, 7, 7, 64)       0         \n",
      "_________________________________________________________________\n",
      "max_pooling3d_15 (MaxPooling (None, 1, 3, 3, 64)       0         \n",
      "_________________________________________________________________\n",
      "flatten_5 (Flatten)          (None, 576)               0         \n",
      "_________________________________________________________________\n",
      "dense_10 (Dense)             (None, 1000)              577000    \n",
      "_________________________________________________________________\n",
      "dropout_13 (Dropout)         (None, 1000)              0         \n",
      "_________________________________________________________________\n",
      "dense_11 (Dense)             (None, 500)               500500    \n",
      "_________________________________________________________________\n",
      "dropout_14 (Dropout)         (None, 500)               0         \n",
      "_________________________________________________________________\n",
      "dense_12 (Dense)             (None, 5)                 2505      \n",
      "=================================================================\n",
      "Total params: 1,107,749\n",
      "Trainable params: 1,107,509\n",
      "Non-trainable params: 240\n",
      "_________________________________________________________________\n"
     ]
    }
   ],
   "source": [
    "input_shape=(x,y,z,channel)\n",
    "\n",
    "nb_filters = [8,16,32,64]\n",
    "nb_dense = [1000, 500, 5]\n",
    "# Define model\n",
    "model_d = Sequential()\n",
    "\n",
    "model_d.add(Conv3D(nb_filters[0], \n",
    "                 kernel_size=(3,3,3), \n",
    "                 input_shape=input_shape,\n",
    "                 padding='same'))\n",
    "model_d.add(BatchNormalization())\n",
    "model_d.add(Activation('relu'))\n",
    "\n",
    "model_d.add(MaxPooling3D(pool_size=(2,2,2)))\n",
    "\n",
    "model_d.add(Conv3D(nb_filters[1], \n",
    "                 kernel_size=(3,3,3), \n",
    "                 padding='same'))\n",
    "model_d.add(BatchNormalization())\n",
    "model_d.add(Activation('relu'))\n",
    "\n",
    "model_d.add(MaxPooling3D(pool_size=(2,2,2)))\n",
    "\n",
    "model_d.add(Conv3D(nb_filters[2], \n",
    "                 kernel_size=(1,3,3), \n",
    "                 padding='same'))\n",
    "model_d.add(BatchNormalization())\n",
    "model_d.add(Activation('relu'))\n",
    "\n",
    "model_d.add(MaxPooling3D(pool_size=(2,2,2)))\n",
    "\n",
    "model_d.add(Conv3D(nb_filters[3], \n",
    "                 kernel_size=(1,3,3), \n",
    "                 padding='same'))\n",
    "model_d.add(BatchNormalization())\n",
    "model_d.add(Activation('relu'))\n",
    "\n",
    "model_d.add(MaxPooling3D(pool_size=(2,2,2)))\n",
    "\n",
    "#Flatten Layers\n",
    "model_d.add(Flatten())\n",
    "\n",
    "model_d.add(Dense(nb_dense[0], activation='relu'))\n",
    "model_d.add(Dropout(0.5))\n",
    "\n",
    "model_d.add(Dense(nb_dense[1], activation='relu'))\n",
    "model_d.add(Dropout(0.5))\n",
    "\n",
    "#softmax layer\n",
    "model_d.add(Dense(nb_dense[2], activation='softmax'))\n",
    "model_d.compile(optimizer=keras.optimizers.Adadelta(), loss='categorical_crossentropy', metrics=['categorical_accuracy'])\n",
    "model_d.summary()"
   ]
  },
  {
   "cell_type": "code",
   "execution_count": 36,
   "metadata": {},
   "outputs": [
    {
     "name": "stdout",
     "output_type": "stream",
     "text": [
      "Source path =  Project_data/val ; batch size = 10\n",
      "Source path =  Project_data/train ; batch size = 10\n",
      "Epoch 1/10\n"
     ]
    },
    {
     "name": "stderr",
     "output_type": "stream",
     "text": [
      "/mnt/disks/user/anaconda3/lib/python3.6/site-packages/ipykernel_launcher.py:19: DeprecationWarning: `imread` is deprecated!\n",
      "`imread` is deprecated in SciPy 1.0.0, and will be removed in 1.2.0.\n",
      "Use ``imageio.imread`` instead.\n",
      "/mnt/disks/user/anaconda3/lib/python3.6/site-packages/ipykernel_launcher.py:24: DeprecationWarning: `imresize` is deprecated!\n",
      "`imresize` is deprecated in SciPy 1.0.0, and will be removed in 1.2.0.\n",
      "Use ``skimage.transform.resize`` instead.\n"
     ]
    },
    {
     "name": "stdout",
     "output_type": "stream",
     "text": [
      "65/67 [============================>.] - ETA: 2s - loss: 2.0893 - categorical_accuracy: 0.2877Batch:  67 Index: 10\n",
      "66/67 [============================>.] - ETA: 1s - loss: 2.0798 - categorical_accuracy: 0.2879"
     ]
    },
    {
     "name": "stderr",
     "output_type": "stream",
     "text": [
      "/mnt/disks/user/anaconda3/lib/python3.6/site-packages/ipykernel_launcher.py:44: DeprecationWarning: `imread` is deprecated!\n",
      "`imread` is deprecated in SciPy 1.0.0, and will be removed in 1.2.0.\n",
      "Use ``imageio.imread`` instead.\n",
      "/mnt/disks/user/anaconda3/lib/python3.6/site-packages/ipykernel_launcher.py:48: DeprecationWarning: `imresize` is deprecated!\n",
      "`imresize` is deprecated in SciPy 1.0.0, and will be removed in 1.2.0.\n",
      "Use ``skimage.transform.resize`` instead.\n"
     ]
    },
    {
     "name": "stdout",
     "output_type": "stream",
     "text": [
      "67/67 [==============================] - 71s 1s/step - loss: 2.0780 - categorical_accuracy: 0.2886 - val_loss: 1.6151 - val_categorical_accuracy: 0.3100\n",
      "\n",
      "Epoch 00001: saving model to model_init_2020-03-3004_10_50.546452/model-00001-2.07930-0.28808-1.61512-0.31000.h5\n",
      "Epoch 2/10\n",
      "67/67 [==============================] - 22s 326ms/step - loss: 1.8124 - categorical_accuracy: 0.2886 - val_loss: 1.3198 - val_categorical_accuracy: 0.4700\n",
      "\n",
      "Epoch 00002: saving model to model_init_2020-03-3004_10_50.546452/model-00002-1.81239-0.28856-1.31977-0.47000.h5\n",
      "Epoch 3/10\n",
      "67/67 [==============================] - 23s 350ms/step - loss: 1.5449 - categorical_accuracy: 0.3433 - val_loss: 1.0643 - val_categorical_accuracy: 0.5500\n",
      "\n",
      "Epoch 00003: saving model to model_init_2020-03-3004_10_50.546452/model-00003-1.54486-0.34328-1.06427-0.55000.h5\n",
      "Epoch 4/10\n",
      "67/67 [==============================] - 23s 345ms/step - loss: 1.5489 - categorical_accuracy: 0.3433 - val_loss: 1.2111 - val_categorical_accuracy: 0.5300\n",
      "\n",
      "Epoch 00004: saving model to model_init_2020-03-3004_10_50.546452/model-00004-1.54886-0.34328-1.21112-0.53000.h5\n",
      "Epoch 5/10\n",
      "67/67 [==============================] - 25s 372ms/step - loss: 1.3843 - categorical_accuracy: 0.4478 - val_loss: 1.7491 - val_categorical_accuracy: 0.3600\n",
      "\n",
      "Epoch 00005: saving model to model_init_2020-03-3004_10_50.546452/model-00005-1.38431-0.44776-1.74910-0.36000.h5\n",
      "\n",
      "Epoch 00005: ReduceLROnPlateau reducing learning rate to 0.5.\n",
      "Epoch 6/10\n",
      "67/67 [==============================] - 22s 330ms/step - loss: 1.3175 - categorical_accuracy: 0.4080 - val_loss: 1.0135 - val_categorical_accuracy: 0.5500\n",
      "\n",
      "Epoch 00006: saving model to model_init_2020-03-3004_10_50.546452/model-00006-1.31747-0.40796-1.01352-0.55000.h5\n",
      "Epoch 7/10\n",
      "67/67 [==============================] - 24s 353ms/step - loss: 1.1955 - categorical_accuracy: 0.4925 - val_loss: 1.0256 - val_categorical_accuracy: 0.5100\n",
      "\n",
      "Epoch 00007: saving model to model_init_2020-03-3004_10_50.546452/model-00007-1.19551-0.49254-1.02563-0.51000.h5\n",
      "Epoch 8/10\n",
      "67/67 [==============================] - 23s 343ms/step - loss: 1.2625 - categorical_accuracy: 0.4677 - val_loss: 0.9572 - val_categorical_accuracy: 0.6000\n",
      "\n",
      "Epoch 00008: saving model to model_init_2020-03-3004_10_50.546452/model-00008-1.26247-0.46766-0.95716-0.60000.h5\n",
      "Epoch 9/10\n",
      "67/67 [==============================] - 24s 362ms/step - loss: 1.1922 - categorical_accuracy: 0.5224 - val_loss: 1.0250 - val_categorical_accuracy: 0.5400\n",
      "\n",
      "Epoch 00009: saving model to model_init_2020-03-3004_10_50.546452/model-00009-1.19222-0.52239-1.02502-0.54000.h5\n",
      "Epoch 10/10\n",
      "67/67 [==============================] - 24s 356ms/step - loss: 1.2257 - categorical_accuracy: 0.4527 - val_loss: 0.8782 - val_categorical_accuracy: 0.6800\n",
      "\n",
      "Epoch 00010: saving model to model_init_2020-03-3004_10_50.546452/model-00010-1.22566-0.45274-0.87821-0.68000.h5\n"
     ]
    },
    {
     "data": {
      "text/plain": [
       "<keras.callbacks.History at 0x7f8ba021beb8>"
      ]
     },
     "execution_count": 36,
     "metadata": {},
     "output_type": "execute_result"
    }
   ],
   "source": [
    "train_generator = generator_ex(train_path, train_doc, batch_size)\n",
    "val_generator = generator_ex(val_path, val_doc, batch_size)\n",
    "num_epochs = 10\n",
    "model_d.fit_generator(train_generator, steps_per_epoch=steps_per_epoch, epochs=num_epochs, verbose=1, \n",
    "                    callbacks=callbacks_list, validation_data=val_generator, \n",
    "                    validation_steps=validation_steps, class_weight=None, workers=1, initial_epoch=0)"
   ]
  },
  {
   "cell_type": "markdown",
   "metadata": {},
   "source": [
    "### Changing Model with images per frame, width and height of the images Experiment [8]"
   ]
  },
  {
   "cell_type": "code",
   "execution_count": 37,
   "metadata": {},
   "outputs": [],
   "source": [
    "x = 30 # number of frames\n",
    "y = 64 # image width\n",
    "z = 64 # image height \n",
    "\n",
    "classes = 5\n",
    "channel = 1"
   ]
  },
  {
   "cell_type": "code",
   "execution_count": 38,
   "metadata": {},
   "outputs": [
    {
     "name": "stdout",
     "output_type": "stream",
     "text": [
      "_________________________________________________________________\n",
      "Layer (type)                 Output Shape              Param #   \n",
      "=================================================================\n",
      "conv3d_23 (Conv3D)           (None, 30, 64, 64, 32)    896       \n",
      "_________________________________________________________________\n",
      "activation_23 (Activation)   (None, 30, 64, 64, 32)    0         \n",
      "_________________________________________________________________\n",
      "conv3d_24 (Conv3D)           (None, 30, 64, 64, 32)    27680     \n",
      "_________________________________________________________________\n",
      "activation_24 (Activation)   (None, 30, 64, 64, 32)    0         \n",
      "_________________________________________________________________\n",
      "max_pooling3d_16 (MaxPooling (None, 10, 22, 22, 32)    0         \n",
      "_________________________________________________________________\n",
      "dropout_15 (Dropout)         (None, 10, 22, 22, 32)    0         \n",
      "_________________________________________________________________\n",
      "conv3d_25 (Conv3D)           (None, 10, 22, 22, 64)    55360     \n",
      "_________________________________________________________________\n",
      "activation_25 (Activation)   (None, 10, 22, 22, 64)    0         \n",
      "_________________________________________________________________\n",
      "conv3d_26 (Conv3D)           (None, 10, 22, 22, 64)    110656    \n",
      "_________________________________________________________________\n",
      "activation_26 (Activation)   (None, 10, 22, 22, 64)    0         \n",
      "_________________________________________________________________\n",
      "max_pooling3d_17 (MaxPooling (None, 4, 8, 8, 64)       0         \n",
      "_________________________________________________________________\n",
      "dropout_16 (Dropout)         (None, 4, 8, 8, 64)       0         \n",
      "_________________________________________________________________\n",
      "conv3d_27 (Conv3D)           (None, 4, 8, 8, 64)       110656    \n",
      "_________________________________________________________________\n",
      "activation_27 (Activation)   (None, 4, 8, 8, 64)       0         \n",
      "_________________________________________________________________\n",
      "conv3d_28 (Conv3D)           (None, 4, 8, 8, 64)       110656    \n",
      "_________________________________________________________________\n",
      "activation_28 (Activation)   (None, 4, 8, 8, 64)       0         \n",
      "_________________________________________________________________\n",
      "max_pooling3d_18 (MaxPooling (None, 2, 3, 3, 64)       0         \n",
      "_________________________________________________________________\n",
      "dropout_17 (Dropout)         (None, 2, 3, 3, 64)       0         \n",
      "_________________________________________________________________\n",
      "flatten_6 (Flatten)          (None, 1152)              0         \n",
      "_________________________________________________________________\n",
      "dense_13 (Dense)             (None, 512)               590336    \n",
      "_________________________________________________________________\n",
      "batch_normalization_10 (Batc (None, 512)               2048      \n",
      "_________________________________________________________________\n",
      "dropout_18 (Dropout)         (None, 512)               0         \n",
      "_________________________________________________________________\n",
      "dense_14 (Dense)             (None, 5)                 2565      \n",
      "=================================================================\n",
      "Total params: 1,010,853\n",
      "Trainable params: 1,009,829\n",
      "Non-trainable params: 1,024\n",
      "_________________________________________________________________\n"
     ]
    }
   ],
   "source": [
    "model_e = Sequential()\n",
    "model_e.add(Conv3D(32, kernel_size=(3, 3, 3), input_shape=(x,y,z,channel), padding=\"same\"))\n",
    "model_e.add(Activation('relu'))\n",
    "model_e.add(Conv3D(32, padding=\"same\", kernel_size=(3, 3, 3)))\n",
    "model_e.add(Activation('relu'))\n",
    "model_e.add(MaxPooling3D(pool_size=(3, 3, 3), padding=\"same\"))\n",
    "model_e.add(Dropout(0.25))\n",
    "\n",
    "model_e.add(Conv3D(64, padding=\"same\", kernel_size=(3, 3, 3)))\n",
    "model_e.add(Activation('relu'))\n",
    "model_e.add(Conv3D(64, padding=\"same\", kernel_size=(3, 3, 3)))\n",
    "model_e.add(Activation('relu'))\n",
    "model_e.add(MaxPooling3D(pool_size=(3, 3, 3), padding=\"same\"))\n",
    "model_e.add(Dropout(0.25))\n",
    "\n",
    "model_e.add(Conv3D(64, padding=\"same\", kernel_size=(3, 3, 3)))\n",
    "model_e.add(Activation('relu'))\n",
    "model_e.add(Conv3D(64, padding=\"same\", kernel_size=(3, 3, 3)))\n",
    "model_e.add(Activation('relu'))\n",
    "model_e.add(MaxPooling3D(pool_size=(3, 3, 3), padding=\"same\"))\n",
    "model_e.add(Dropout(0.25))\n",
    "\n",
    "model_e.add(Flatten())\n",
    "model_e.add(Dense(512, activation='relu'))\n",
    "model_e.add(BatchNormalization())\n",
    "model_e.add(Dropout(0.5))\n",
    "model_e.add(Dense(classes, activation='softmax'))\n",
    "model_e.compile(optimizer=keras.optimizers.Adadelta(), loss='categorical_crossentropy', metrics=['categorical_accuracy'])\n",
    "model_e.summary()"
   ]
  },
  {
   "cell_type": "code",
   "execution_count": 39,
   "metadata": {},
   "outputs": [
    {
     "name": "stdout",
     "output_type": "stream",
     "text": [
      "Source path =  Project_data/val ; batch size = 5\n",
      "Source path =  Project_data/train ; batch size = 5\n",
      "Epoch 1/20\n"
     ]
    },
    {
     "name": "stderr",
     "output_type": "stream",
     "text": [
      "/mnt/disks/user/anaconda3/lib/python3.6/site-packages/ipykernel_launcher.py:19: DeprecationWarning: `imread` is deprecated!\n",
      "`imread` is deprecated in SciPy 1.0.0, and will be removed in 1.2.0.\n",
      "Use ``imageio.imread`` instead.\n",
      "/mnt/disks/user/anaconda3/lib/python3.6/site-packages/ipykernel_launcher.py:24: DeprecationWarning: `imresize` is deprecated!\n",
      "`imresize` is deprecated in SciPy 1.0.0, and will be removed in 1.2.0.\n",
      "Use ``skimage.transform.resize`` instead.\n"
     ]
    },
    {
     "name": "stdout",
     "output_type": "stream",
     "text": [
      "67/67 [==============================] - 38s 561ms/step - loss: 2.3012 - categorical_accuracy: 0.2328 - val_loss: 2.5908 - val_categorical_accuracy: 0.3000\n",
      "\n",
      "Epoch 00001: saving model to model_init_2020-03-3004_10_50.546452/model-00001-2.30120-0.23284-2.59084-0.30000.h5\n",
      "Epoch 2/20\n",
      "64/67 [===========================>..] - ETA: 1s - loss: 2.1346 - categorical_accuracy: 0.2500Batch:  133 Index: 5\n"
     ]
    },
    {
     "name": "stderr",
     "output_type": "stream",
     "text": [
      "/mnt/disks/user/anaconda3/lib/python3.6/site-packages/ipykernel_launcher.py:44: DeprecationWarning: `imread` is deprecated!\n",
      "`imread` is deprecated in SciPy 1.0.0, and will be removed in 1.2.0.\n",
      "Use ``imageio.imread`` instead.\n",
      "/mnt/disks/user/anaconda3/lib/python3.6/site-packages/ipykernel_launcher.py:48: DeprecationWarning: `imresize` is deprecated!\n",
      "`imresize` is deprecated in SciPy 1.0.0, and will be removed in 1.2.0.\n",
      "Use ``skimage.transform.resize`` instead.\n"
     ]
    },
    {
     "name": "stdout",
     "output_type": "stream",
     "text": [
      "67/67 [==============================] - 35s 525ms/step - loss: 2.1378 - categorical_accuracy: 0.2478 - val_loss: 2.3255 - val_categorical_accuracy: 0.2200\n",
      "\n",
      "Epoch 00002: saving model to model_init_2020-03-3004_10_50.546452/model-00002-2.13216-0.25076-2.32552-0.22000.h5\n",
      "Epoch 3/20\n",
      "67/67 [==============================] - 20s 306ms/step - loss: 2.1537 - categorical_accuracy: 0.2090 - val_loss: 2.1431 - val_categorical_accuracy: 0.3000\n",
      "\n",
      "Epoch 00003: saving model to model_init_2020-03-3004_10_50.546452/model-00003-2.15368-0.20896-2.14307-0.30000.h5\n",
      "Epoch 4/20\n",
      "67/67 [==============================] - 23s 342ms/step - loss: 2.0102 - categorical_accuracy: 0.2488 - val_loss: 2.5489 - val_categorical_accuracy: 0.2000\n",
      "\n",
      "Epoch 00004: saving model to model_init_2020-03-3004_10_50.546452/model-00004-2.01022-0.24876-2.54888-0.20000.h5\n",
      "Epoch 5/20\n",
      "67/67 [==============================] - 23s 346ms/step - loss: 1.9522 - categorical_accuracy: 0.2338 - val_loss: 1.5994 - val_categorical_accuracy: 0.3200\n",
      "\n",
      "Epoch 00005: saving model to model_init_2020-03-3004_10_50.546452/model-00005-1.95225-0.23383-1.59937-0.32000.h5\n",
      "Epoch 6/20\n",
      "67/67 [==============================] - 22s 329ms/step - loss: 1.9342 - categorical_accuracy: 0.2139 - val_loss: 1.9008 - val_categorical_accuracy: 0.1800\n",
      "\n",
      "Epoch 00006: saving model to model_init_2020-03-3004_10_50.546452/model-00006-1.93418-0.21393-1.90079-0.18000.h5\n",
      "Epoch 7/20\n",
      "67/67 [==============================] - 23s 337ms/step - loss: 2.0635 - categorical_accuracy: 0.2040 - val_loss: 1.6613 - val_categorical_accuracy: 0.3200\n",
      "\n",
      "Epoch 00007: saving model to model_init_2020-03-3004_10_50.546452/model-00007-2.06351-0.20398-1.66127-0.32000.h5\n",
      "\n",
      "Epoch 00007: ReduceLROnPlateau reducing learning rate to 0.5.\n",
      "Epoch 8/20\n",
      "67/67 [==============================] - 23s 344ms/step - loss: 1.9986 - categorical_accuracy: 0.2139 - val_loss: 1.5710 - val_categorical_accuracy: 0.3000\n",
      "\n",
      "Epoch 00008: saving model to model_init_2020-03-3004_10_50.546452/model-00008-1.99857-0.21393-1.57102-0.30000.h5\n",
      "Epoch 9/20\n",
      "67/67 [==============================] - 24s 352ms/step - loss: 1.8293 - categorical_accuracy: 0.2587 - val_loss: 1.4574 - val_categorical_accuracy: 0.4000\n",
      "\n",
      "Epoch 00009: saving model to model_init_2020-03-3004_10_50.546452/model-00009-1.82929-0.25871-1.45743-0.40000.h5\n",
      "Epoch 10/20\n",
      "67/67 [==============================] - 23s 336ms/step - loss: 1.9012 - categorical_accuracy: 0.2537 - val_loss: 1.7378 - val_categorical_accuracy: 0.3200\n",
      "\n",
      "Epoch 00010: saving model to model_init_2020-03-3004_10_50.546452/model-00010-1.90118-0.25373-1.73783-0.32000.h5\n",
      "Epoch 11/20\n",
      "67/67 [==============================] - 22s 330ms/step - loss: 1.8681 - categorical_accuracy: 0.2388 - val_loss: 1.5425 - val_categorical_accuracy: 0.2400\n",
      "\n",
      "Epoch 00011: saving model to model_init_2020-03-3004_10_50.546452/model-00011-1.86814-0.23881-1.54248-0.24000.h5\n",
      "\n",
      "Epoch 00011: ReduceLROnPlateau reducing learning rate to 0.25.\n",
      "Epoch 12/20\n",
      "67/67 [==============================] - 22s 332ms/step - loss: 1.7448 - categorical_accuracy: 0.3134 - val_loss: 1.5924 - val_categorical_accuracy: 0.3400\n",
      "\n",
      "Epoch 00012: saving model to model_init_2020-03-3004_10_50.546452/model-00012-1.74477-0.31343-1.59238-0.34000.h5\n",
      "Epoch 13/20\n",
      "67/67 [==============================] - 22s 325ms/step - loss: 1.7795 - categorical_accuracy: 0.2786 - val_loss: 1.4697 - val_categorical_accuracy: 0.3400\n",
      "\n",
      "Epoch 00013: saving model to model_init_2020-03-3004_10_50.546452/model-00013-1.77953-0.27861-1.46965-0.34000.h5\n",
      "\n",
      "Epoch 00013: ReduceLROnPlateau reducing learning rate to 0.125.\n",
      "Epoch 14/20\n",
      "67/67 [==============================] - 22s 327ms/step - loss: 1.8661 - categorical_accuracy: 0.2488 - val_loss: 1.3339 - val_categorical_accuracy: 0.4600\n",
      "\n",
      "Epoch 00014: saving model to model_init_2020-03-3004_10_50.546452/model-00014-1.86606-0.24876-1.33388-0.46000.h5\n",
      "Epoch 15/20\n",
      "67/67 [==============================] - 23s 338ms/step - loss: 1.8394 - categorical_accuracy: 0.2338 - val_loss: 1.4252 - val_categorical_accuracy: 0.4000\n",
      "\n",
      "Epoch 00015: saving model to model_init_2020-03-3004_10_50.546452/model-00015-1.83942-0.23383-1.42516-0.40000.h5\n",
      "Epoch 16/20\n",
      "67/67 [==============================] - 23s 342ms/step - loss: 1.6682 - categorical_accuracy: 0.3333 - val_loss: 1.3752 - val_categorical_accuracy: 0.3200\n",
      "\n",
      "Epoch 00016: saving model to model_init_2020-03-3004_10_50.546452/model-00016-1.66820-0.33333-1.37524-0.32000.h5\n",
      "\n",
      "Epoch 00016: ReduceLROnPlateau reducing learning rate to 0.0625.\n",
      "Epoch 17/20\n",
      "67/67 [==============================] - 24s 358ms/step - loss: 1.9038 - categorical_accuracy: 0.2587 - val_loss: 1.4841 - val_categorical_accuracy: 0.3400\n",
      "\n",
      "Epoch 00017: saving model to model_init_2020-03-3004_10_50.546452/model-00017-1.90378-0.25871-1.48413-0.34000.h5\n",
      "Epoch 18/20\n",
      "67/67 [==============================] - 21s 317ms/step - loss: 1.6596 - categorical_accuracy: 0.3134 - val_loss: 1.3139 - val_categorical_accuracy: 0.4800\n",
      "\n",
      "Epoch 00018: saving model to model_init_2020-03-3004_10_50.546452/model-00018-1.65955-0.31343-1.31389-0.48000.h5\n",
      "Epoch 19/20\n",
      "67/67 [==============================] - 22s 332ms/step - loss: 1.7749 - categorical_accuracy: 0.2189 - val_loss: 1.3925 - val_categorical_accuracy: 0.3800\n",
      "\n",
      "Epoch 00019: saving model to model_init_2020-03-3004_10_50.546452/model-00019-1.77491-0.21891-1.39246-0.38000.h5\n",
      "Epoch 20/20\n",
      "67/67 [==============================] - 21s 318ms/step - loss: 1.7317 - categorical_accuracy: 0.2687 - val_loss: 1.4053 - val_categorical_accuracy: 0.4200\n",
      "\n",
      "Epoch 00020: saving model to model_init_2020-03-3004_10_50.546452/model-00020-1.73166-0.26866-1.40533-0.42000.h5\n",
      "\n",
      "Epoch 00020: ReduceLROnPlateau reducing learning rate to 0.03125.\n"
     ]
    },
    {
     "data": {
      "text/plain": [
       "<keras.callbacks.History at 0x7f8ba54b3668>"
      ]
     },
     "execution_count": 39,
     "metadata": {},
     "output_type": "execute_result"
    }
   ],
   "source": [
    "batch_size = 5\n",
    "train_generator = generator_ex(train_path, train_doc, batch_size)\n",
    "val_generator = generator_ex(val_path, val_doc, batch_size)\n",
    "num_epochs = 20\n",
    "model_e.fit_generator(train_generator, steps_per_epoch=steps_per_epoch, epochs=num_epochs, verbose=1, \n",
    "                    callbacks=callbacks_list, validation_data=val_generator, \n",
    "                    validation_steps=validation_steps, class_weight=None, workers=1, initial_epoch=0)"
   ]
  },
  {
   "cell_type": "markdown",
   "metadata": {},
   "source": [
    "### Model F Experiment [9]"
   ]
  },
  {
   "cell_type": "code",
   "execution_count": 40,
   "metadata": {},
   "outputs": [
    {
     "name": "stdout",
     "output_type": "stream",
     "text": [
      "_________________________________________________________________\n",
      "Layer (type)                 Output Shape              Param #   \n",
      "=================================================================\n",
      "conv3d_29 (Conv3D)           (None, 30, 120, 120, 8)   224       \n",
      "_________________________________________________________________\n",
      "batch_normalization_11 (Batc (None, 30, 120, 120, 8)   32        \n",
      "_________________________________________________________________\n",
      "activation_29 (Activation)   (None, 30, 120, 120, 8)   0         \n",
      "_________________________________________________________________\n",
      "max_pooling3d_19 (MaxPooling (None, 15, 60, 60, 8)     0         \n",
      "_________________________________________________________________\n",
      "conv3d_30 (Conv3D)           (None, 15, 60, 60, 16)    3472      \n",
      "_________________________________________________________________\n",
      "batch_normalization_12 (Batc (None, 15, 60, 60, 16)    64        \n",
      "_________________________________________________________________\n",
      "activation_30 (Activation)   (None, 15, 60, 60, 16)    0         \n",
      "_________________________________________________________________\n",
      "max_pooling3d_20 (MaxPooling (None, 7, 30, 30, 16)     0         \n",
      "_________________________________________________________________\n",
      "conv3d_31 (Conv3D)           (None, 7, 30, 30, 32)     4640      \n",
      "_________________________________________________________________\n",
      "batch_normalization_13 (Batc (None, 7, 30, 30, 32)     128       \n",
      "_________________________________________________________________\n",
      "activation_31 (Activation)   (None, 7, 30, 30, 32)     0         \n",
      "_________________________________________________________________\n",
      "max_pooling3d_21 (MaxPooling (None, 3, 15, 15, 32)     0         \n",
      "_________________________________________________________________\n",
      "conv3d_32 (Conv3D)           (None, 3, 15, 15, 64)     18496     \n",
      "_________________________________________________________________\n",
      "batch_normalization_14 (Batc (None, 3, 15, 15, 64)     256       \n",
      "_________________________________________________________________\n",
      "activation_32 (Activation)   (None, 3, 15, 15, 64)     0         \n",
      "_________________________________________________________________\n",
      "max_pooling3d_22 (MaxPooling (None, 1, 7, 7, 64)       0         \n",
      "_________________________________________________________________\n",
      "flatten_7 (Flatten)          (None, 3136)              0         \n",
      "_________________________________________________________________\n",
      "dense_15 (Dense)             (None, 1000)              3137000   \n",
      "_________________________________________________________________\n",
      "dropout_19 (Dropout)         (None, 1000)              0         \n",
      "_________________________________________________________________\n",
      "dense_16 (Dense)             (None, 500)               500500    \n",
      "_________________________________________________________________\n",
      "dropout_20 (Dropout)         (None, 500)               0         \n",
      "_________________________________________________________________\n",
      "dense_17 (Dense)             (None, 5)                 2505      \n",
      "=================================================================\n",
      "Total params: 3,667,317\n",
      "Trainable params: 3,667,077\n",
      "Non-trainable params: 240\n",
      "_________________________________________________________________\n"
     ]
    }
   ],
   "source": [
    "x = 30 # number of frames\n",
    "y = 120 # image width\n",
    "z = 120 # image height \n",
    "\n",
    "classes = 5\n",
    "channel = 1\n",
    "nb_dense = [1000, 500, 5]\n",
    "\n",
    "input_shape=(x,y,z,channel)\n",
    "\n",
    "# Define model\n",
    "model_f = Sequential()\n",
    "\n",
    "model_f.add(Conv3D(nb_filters[0], \n",
    "                 kernel_size=(3,3,3), \n",
    "                 input_shape=input_shape,\n",
    "                 padding='same'))\n",
    "model_f.add(BatchNormalization())\n",
    "model_f.add(Activation('relu'))\n",
    "\n",
    "model_f.add(MaxPooling3D(pool_size=(2,2,2)))\n",
    "\n",
    "model_f.add(Conv3D(nb_filters[1], \n",
    "                 kernel_size=(3,3,3), \n",
    "                 padding='same'))\n",
    "model_f.add(BatchNormalization())\n",
    "model_f.add(Activation('relu'))\n",
    "\n",
    "model_f.add(MaxPooling3D(pool_size=(2,2,2)))\n",
    "\n",
    "model_f.add(Conv3D(nb_filters[2], \n",
    "                 kernel_size=(1,3,3), \n",
    "                 padding='same'))\n",
    "model_f.add(BatchNormalization())\n",
    "model_f.add(Activation('relu'))\n",
    "\n",
    "model_f.add(MaxPooling3D(pool_size=(2,2,2)))\n",
    "\n",
    "model_f.add(Conv3D(nb_filters[3], \n",
    "                 kernel_size=(1,3,3), \n",
    "                 padding='same'))\n",
    "model_f.add(BatchNormalization())\n",
    "model_f.add(Activation('relu'))\n",
    "\n",
    "model_f.add(MaxPooling3D(pool_size=(2,2,2)))\n",
    "\n",
    "#Flatten Layers\n",
    "model_f.add(Flatten())\n",
    "\n",
    "model_f.add(Dense(nb_dense[0], activation='relu'))\n",
    "model_f.add(Dropout(0.5))\n",
    "\n",
    "model_f.add(Dense(nb_dense[1], activation='relu'))\n",
    "model_f.add(Dropout(0.5))\n",
    "\n",
    "#softmax layer\n",
    "model_f.add(Dense(nb_dense[2], activation='softmax'))\n",
    "model_f.compile(optimizer=keras.optimizers.Adadelta(), loss='categorical_crossentropy', metrics=['categorical_accuracy'])\n",
    "model_f.summary()"
   ]
  },
  {
   "cell_type": "code",
   "execution_count": 41,
   "metadata": {},
   "outputs": [
    {
     "name": "stdout",
     "output_type": "stream",
     "text": [
      "Source path = Source path =  Project_data/train ; batch size = 10\n",
      "Epoch 1/30\n",
      " Project_data/val ; batch size = 10\n"
     ]
    },
    {
     "name": "stderr",
     "output_type": "stream",
     "text": [
      "/mnt/disks/user/anaconda3/lib/python3.6/site-packages/ipykernel_launcher.py:19: DeprecationWarning: `imread` is deprecated!\n",
      "`imread` is deprecated in SciPy 1.0.0, and will be removed in 1.2.0.\n",
      "Use ``imageio.imread`` instead.\n",
      "/mnt/disks/user/anaconda3/lib/python3.6/site-packages/ipykernel_launcher.py:24: DeprecationWarning: `imresize` is deprecated!\n",
      "`imresize` is deprecated in SciPy 1.0.0, and will be removed in 1.2.0.\n",
      "Use ``skimage.transform.resize`` instead.\n"
     ]
    },
    {
     "name": "stdout",
     "output_type": "stream",
     "text": [
      "65/67 [============================>.] - ETA: 2s - loss: 6.2486 - categorical_accuracy: 0.2723Batch:  67 Index: 10\n"
     ]
    },
    {
     "name": "stderr",
     "output_type": "stream",
     "text": [
      "/mnt/disks/user/anaconda3/lib/python3.6/site-packages/ipykernel_launcher.py:44: DeprecationWarning: `imread` is deprecated!\n",
      "`imread` is deprecated in SciPy 1.0.0, and will be removed in 1.2.0.\n",
      "Use ``imageio.imread`` instead.\n",
      "/mnt/disks/user/anaconda3/lib/python3.6/site-packages/ipykernel_launcher.py:48: DeprecationWarning: `imresize` is deprecated!\n",
      "`imresize` is deprecated in SciPy 1.0.0, and will be removed in 1.2.0.\n",
      "Use ``skimage.transform.resize`` instead.\n"
     ]
    },
    {
     "name": "stdout",
     "output_type": "stream",
     "text": [
      "67/67 [==============================] - 80s 1s/step - loss: 6.1396 - categorical_accuracy: 0.2736 - val_loss: 1.3060 - val_categorical_accuracy: 0.5100\n",
      "\n",
      "Epoch 00001: saving model to model_init_2020-03-3004_10_50.546452/model-00001-6.17850-0.27300-1.30603-0.51000.h5\n",
      "Epoch 2/30\n",
      "67/67 [==============================] - 24s 365ms/step - loss: 2.7373 - categorical_accuracy: 0.2886 - val_loss: 1.7598 - val_categorical_accuracy: 0.3800\n",
      "\n",
      "Epoch 00002: saving model to model_init_2020-03-3004_10_50.546452/model-00002-2.73734-0.28856-1.75976-0.38000.h5\n",
      "Epoch 3/30\n",
      "67/67 [==============================] - 26s 384ms/step - loss: 1.8585 - categorical_accuracy: 0.3035 - val_loss: 1.2220 - val_categorical_accuracy: 0.4600\n",
      "\n",
      "Epoch 00003: saving model to model_init_2020-03-3004_10_50.546452/model-00003-1.85848-0.30348-1.22204-0.46000.h5\n",
      "Epoch 4/30\n",
      "67/67 [==============================] - 25s 376ms/step - loss: 1.7889 - categorical_accuracy: 0.2687 - val_loss: 1.1331 - val_categorical_accuracy: 0.5400\n",
      "\n",
      "Epoch 00004: saving model to model_init_2020-03-3004_10_50.546452/model-00004-1.78890-0.26866-1.13314-0.54000.h5\n",
      "Epoch 5/30\n",
      "67/67 [==============================] - 25s 368ms/step - loss: 1.5743 - categorical_accuracy: 0.3234 - val_loss: 1.3668 - val_categorical_accuracy: 0.3800\n",
      "\n",
      "Epoch 00005: saving model to model_init_2020-03-3004_10_50.546452/model-00005-1.57431-0.32338-1.36678-0.38000.h5\n",
      "Epoch 6/30\n",
      "67/67 [==============================] - 27s 398ms/step - loss: 1.5423 - categorical_accuracy: 0.3532 - val_loss: 1.2560 - val_categorical_accuracy: 0.4100\n",
      "\n",
      "Epoch 00006: saving model to model_init_2020-03-3004_10_50.546452/model-00006-1.54232-0.35323-1.25600-0.41000.h5\n",
      "\n",
      "Epoch 00006: ReduceLROnPlateau reducing learning rate to 0.5.\n",
      "Epoch 7/30\n",
      "67/67 [==============================] - 26s 388ms/step - loss: 1.4034 - categorical_accuracy: 0.3980 - val_loss: 1.1945 - val_categorical_accuracy: 0.5200\n",
      "\n",
      "Epoch 00007: saving model to model_init_2020-03-3004_10_50.546452/model-00007-1.40338-0.39801-1.19454-0.52000.h5\n",
      "Epoch 8/30\n",
      "67/67 [==============================] - 24s 365ms/step - loss: 1.3583 - categorical_accuracy: 0.4229 - val_loss: 1.1120 - val_categorical_accuracy: 0.5600\n",
      "\n",
      "Epoch 00008: saving model to model_init_2020-03-3004_10_50.546452/model-00008-1.35828-0.42289-1.11198-0.56000.h5\n",
      "Epoch 9/30\n",
      "67/67 [==============================] - 28s 412ms/step - loss: 1.3211 - categorical_accuracy: 0.3930 - val_loss: 1.1176 - val_categorical_accuracy: 0.5600\n",
      "\n",
      "Epoch 00009: saving model to model_init_2020-03-3004_10_50.546452/model-00009-1.32115-0.39303-1.11763-0.56000.h5\n",
      "Epoch 10/30\n",
      "67/67 [==============================] - 25s 375ms/step - loss: 1.2986 - categorical_accuracy: 0.4726 - val_loss: 1.1060 - val_categorical_accuracy: 0.5100\n",
      "\n",
      "Epoch 00010: saving model to model_init_2020-03-3004_10_50.546452/model-00010-1.29858-0.47264-1.10605-0.51000.h5\n",
      "Epoch 11/30\n",
      "67/67 [==============================] - 25s 378ms/step - loss: 1.2810 - categorical_accuracy: 0.4527 - val_loss: 1.0933 - val_categorical_accuracy: 0.5500\n",
      "\n",
      "Epoch 00011: saving model to model_init_2020-03-3004_10_50.546452/model-00011-1.28095-0.45274-1.09332-0.55000.h5\n",
      "Epoch 12/30\n",
      "67/67 [==============================] - 26s 390ms/step - loss: 1.3506 - categorical_accuracy: 0.4527 - val_loss: 0.9966 - val_categorical_accuracy: 0.5900\n",
      "\n",
      "Epoch 00012: saving model to model_init_2020-03-3004_10_50.546452/model-00012-1.35062-0.45274-0.99657-0.59000.h5\n",
      "Epoch 13/30\n",
      "67/67 [==============================] - 26s 387ms/step - loss: 1.2283 - categorical_accuracy: 0.5075 - val_loss: 1.0424 - val_categorical_accuracy: 0.5300\n",
      "\n",
      "Epoch 00013: saving model to model_init_2020-03-3004_10_50.546452/model-00013-1.22830-0.50746-1.04243-0.53000.h5\n",
      "Epoch 14/30\n",
      "67/67 [==============================] - 25s 377ms/step - loss: 1.3640 - categorical_accuracy: 0.4677 - val_loss: 0.9824 - val_categorical_accuracy: 0.6400\n",
      "\n",
      "Epoch 00014: saving model to model_init_2020-03-3004_10_50.546452/model-00014-1.36396-0.46766-0.98237-0.64000.h5\n",
      "Epoch 15/30\n",
      "67/67 [==============================] - 26s 394ms/step - loss: 1.2157 - categorical_accuracy: 0.4876 - val_loss: 1.0729 - val_categorical_accuracy: 0.5700\n",
      "\n",
      "Epoch 00015: saving model to model_init_2020-03-3004_10_50.546452/model-00015-1.21571-0.48756-1.07293-0.57000.h5\n",
      "Epoch 16/30\n",
      "67/67 [==============================] - 25s 375ms/step - loss: 1.2461 - categorical_accuracy: 0.4925 - val_loss: 1.0136 - val_categorical_accuracy: 0.5600\n",
      "\n",
      "Epoch 00016: saving model to model_init_2020-03-3004_10_50.546452/model-00016-1.24610-0.49254-1.01362-0.56000.h5\n",
      "\n",
      "Epoch 00016: ReduceLROnPlateau reducing learning rate to 0.25.\n",
      "Epoch 17/30\n",
      "67/67 [==============================] - 26s 389ms/step - loss: 1.1030 - categorical_accuracy: 0.5522 - val_loss: 0.9635 - val_categorical_accuracy: 0.5700\n",
      "\n",
      "Epoch 00017: saving model to model_init_2020-03-3004_10_50.546452/model-00017-1.10301-0.55224-0.96352-0.57000.h5\n",
      "Epoch 18/30\n",
      "67/67 [==============================] - 26s 395ms/step - loss: 1.0797 - categorical_accuracy: 0.5274 - val_loss: 0.9402 - val_categorical_accuracy: 0.6100\n",
      "\n",
      "Epoch 00018: saving model to model_init_2020-03-3004_10_50.546452/model-00018-1.07968-0.52736-0.94024-0.61000.h5\n",
      "Epoch 19/30\n",
      "67/67 [==============================] - 27s 403ms/step - loss: 1.0960 - categorical_accuracy: 0.5124 - val_loss: 0.9821 - val_categorical_accuracy: 0.5800\n",
      "\n",
      "Epoch 00019: saving model to model_init_2020-03-3004_10_50.546452/model-00019-1.09605-0.51244-0.98205-0.58000.h5\n",
      "Epoch 20/30\n",
      "67/67 [==============================] - 25s 379ms/step - loss: 1.0236 - categorical_accuracy: 0.5672 - val_loss: 0.9905 - val_categorical_accuracy: 0.6000\n",
      "\n",
      "Epoch 00020: saving model to model_init_2020-03-3004_10_50.546452/model-00020-1.02363-0.56716-0.99055-0.60000.h5\n",
      "\n",
      "Epoch 00020: ReduceLROnPlateau reducing learning rate to 0.125.\n",
      "Epoch 21/30\n",
      "67/67 [==============================] - 26s 388ms/step - loss: 1.0258 - categorical_accuracy: 0.5871 - val_loss: 0.8638 - val_categorical_accuracy: 0.6500\n",
      "\n",
      "Epoch 00021: saving model to model_init_2020-03-3004_10_50.546452/model-00021-1.02575-0.58706-0.86384-0.65000.h5\n",
      "Epoch 22/30\n",
      "67/67 [==============================] - 25s 376ms/step - loss: 0.9067 - categorical_accuracy: 0.6617 - val_loss: 0.9179 - val_categorical_accuracy: 0.6000\n",
      "\n",
      "Epoch 00022: saving model to model_init_2020-03-3004_10_50.546452/model-00022-0.90672-0.66169-0.91793-0.60000.h5\n",
      "Epoch 23/30\n",
      "67/67 [==============================] - 26s 382ms/step - loss: 1.0455 - categorical_accuracy: 0.5473 - val_loss: 0.9299 - val_categorical_accuracy: 0.5900\n",
      "\n",
      "Epoch 00023: saving model to model_init_2020-03-3004_10_50.546452/model-00023-1.04550-0.54726-0.92988-0.59000.h5\n",
      "\n",
      "Epoch 00023: ReduceLROnPlateau reducing learning rate to 0.0625.\n",
      "Epoch 24/30\n",
      "67/67 [==============================] - 25s 379ms/step - loss: 1.0226 - categorical_accuracy: 0.5970 - val_loss: 0.8937 - val_categorical_accuracy: 0.6300\n",
      "\n",
      "Epoch 00024: saving model to model_init_2020-03-3004_10_50.546452/model-00024-1.02264-0.59701-0.89371-0.63000.h5\n",
      "Epoch 25/30\n",
      "67/67 [==============================] - 26s 385ms/step - loss: 0.9450 - categorical_accuracy: 0.6219 - val_loss: 0.8369 - val_categorical_accuracy: 0.6300\n",
      "\n",
      "Epoch 00025: saving model to model_init_2020-03-3004_10_50.546452/model-00025-0.94500-0.62189-0.83689-0.63000.h5\n",
      "Epoch 26/30\n",
      "67/67 [==============================] - 26s 386ms/step - loss: 0.9371 - categorical_accuracy: 0.5721 - val_loss: 0.8281 - val_categorical_accuracy: 0.6700\n",
      "\n",
      "Epoch 00026: saving model to model_init_2020-03-3004_10_50.546452/model-00026-0.93712-0.57214-0.82814-0.67000.h5\n",
      "Epoch 27/30\n",
      "67/67 [==============================] - 25s 379ms/step - loss: 0.8269 - categorical_accuracy: 0.6617 - val_loss: 0.8027 - val_categorical_accuracy: 0.6800\n",
      "\n",
      "Epoch 00027: saving model to model_init_2020-03-3004_10_50.546452/model-00027-0.82689-0.66169-0.80269-0.68000.h5\n",
      "Epoch 28/30\n",
      "67/67 [==============================] - 27s 399ms/step - loss: 0.8793 - categorical_accuracy: 0.6318 - val_loss: 0.8066 - val_categorical_accuracy: 0.7000\n",
      "\n",
      "Epoch 00028: saving model to model_init_2020-03-3004_10_50.546452/model-00028-0.87934-0.63184-0.80657-0.70000.h5\n",
      "Epoch 29/30\n",
      "67/67 [==============================] - 26s 381ms/step - loss: 0.8362 - categorical_accuracy: 0.6816 - val_loss: 0.7797 - val_categorical_accuracy: 0.7200\n",
      "\n",
      "Epoch 00029: saving model to model_init_2020-03-3004_10_50.546452/model-00029-0.83622-0.68159-0.77970-0.72000.h5\n",
      "Epoch 30/30\n",
      "67/67 [==============================] - 25s 374ms/step - loss: 0.9040 - categorical_accuracy: 0.6070 - val_loss: 0.7861 - val_categorical_accuracy: 0.6700\n",
      "\n",
      "Epoch 00030: saving model to model_init_2020-03-3004_10_50.546452/model-00030-0.90395-0.60697-0.78608-0.67000.h5\n"
     ]
    },
    {
     "data": {
      "text/plain": [
       "<keras.callbacks.History at 0x7f8ba586f8d0>"
      ]
     },
     "execution_count": 41,
     "metadata": {},
     "output_type": "execute_result"
    }
   ],
   "source": [
    "batch_size = 10\n",
    "train_generator = generator_ex(train_path, train_doc, batch_size)\n",
    "val_generator = generator_ex(val_path, val_doc, batch_size)\n",
    "num_epochs = 30\n",
    "model_f.fit_generator(train_generator, steps_per_epoch=steps_per_epoch, epochs=num_epochs, verbose=1, \n",
    "                    callbacks=callbacks_list, validation_data=val_generator, \n",
    "                    validation_steps=validation_steps, class_weight=None, workers=1, initial_epoch=0)"
   ]
  },
  {
   "cell_type": "markdown",
   "metadata": {},
   "source": [
    "### Model G Experiment [10]"
   ]
  },
  {
   "cell_type": "code",
   "execution_count": 42,
   "metadata": {},
   "outputs": [
    {
     "name": "stdout",
     "output_type": "stream",
     "text": [
      "_________________________________________________________________\n",
      "Layer (type)                 Output Shape              Param #   \n",
      "=================================================================\n",
      "conv3d_33 (Conv3D)           (None, 30, 120, 120, 8)   656       \n",
      "_________________________________________________________________\n",
      "batch_normalization_15 (Batc (None, 30, 120, 120, 8)   32        \n",
      "_________________________________________________________________\n",
      "activation_33 (Activation)   (None, 30, 120, 120, 8)   0         \n",
      "_________________________________________________________________\n",
      "max_pooling3d_23 (MaxPooling (None, 15, 60, 60, 8)     0         \n",
      "_________________________________________________________________\n",
      "conv3d_34 (Conv3D)           (None, 15, 60, 60, 16)    3472      \n",
      "_________________________________________________________________\n",
      "batch_normalization_16 (Batc (None, 15, 60, 60, 16)    64        \n",
      "_________________________________________________________________\n",
      "activation_34 (Activation)   (None, 15, 60, 60, 16)    0         \n",
      "_________________________________________________________________\n",
      "max_pooling3d_24 (MaxPooling (None, 7, 30, 30, 16)     0         \n",
      "_________________________________________________________________\n",
      "conv3d_35 (Conv3D)           (None, 7, 30, 30, 32)     4640      \n",
      "_________________________________________________________________\n",
      "batch_normalization_17 (Batc (None, 7, 30, 30, 32)     128       \n",
      "_________________________________________________________________\n",
      "activation_35 (Activation)   (None, 7, 30, 30, 32)     0         \n",
      "_________________________________________________________________\n",
      "max_pooling3d_25 (MaxPooling (None, 3, 15, 15, 32)     0         \n",
      "_________________________________________________________________\n",
      "conv3d_36 (Conv3D)           (None, 3, 15, 15, 64)     18496     \n",
      "_________________________________________________________________\n",
      "batch_normalization_18 (Batc (None, 3, 15, 15, 64)     256       \n",
      "_________________________________________________________________\n",
      "activation_36 (Activation)   (None, 3, 15, 15, 64)     0         \n",
      "_________________________________________________________________\n",
      "max_pooling3d_26 (MaxPooling (None, 1, 7, 7, 64)       0         \n",
      "_________________________________________________________________\n",
      "flatten_8 (Flatten)          (None, 3136)              0         \n",
      "_________________________________________________________________\n",
      "dense_18 (Dense)             (None, 1000)              3137000   \n",
      "_________________________________________________________________\n",
      "dropout_21 (Dropout)         (None, 1000)              0         \n",
      "_________________________________________________________________\n",
      "dense_19 (Dense)             (None, 500)               500500    \n",
      "_________________________________________________________________\n",
      "dropout_22 (Dropout)         (None, 500)               0         \n",
      "_________________________________________________________________\n",
      "dense_20 (Dense)             (None, 5)                 2505      \n",
      "=================================================================\n",
      "Total params: 3,667,749\n",
      "Trainable params: 3,667,509\n",
      "Non-trainable params: 240\n",
      "_________________________________________________________________\n"
     ]
    }
   ],
   "source": [
    "x = 30 # number of frames\n",
    "y = 120 # image width\n",
    "z = 120 # image height \n",
    "\n",
    "classes = 5\n",
    "channel = 3\n",
    "nb_dense = [1000, 500, 5]\n",
    "\n",
    "input_shape=(x,y,z,channel)\n",
    "\n",
    "# Define model\n",
    "model_g = Sequential()\n",
    "\n",
    "model_g.add(Conv3D(nb_filters[0], \n",
    "                 kernel_size=(3,3,3), \n",
    "                 input_shape=input_shape,\n",
    "                 padding='same'))\n",
    "model_g.add(BatchNormalization())\n",
    "model_g.add(Activation('relu'))\n",
    "\n",
    "model_g.add(MaxPooling3D(pool_size=(2,2,2)))\n",
    "\n",
    "model_g.add(Conv3D(nb_filters[1], \n",
    "                 kernel_size=(3,3,3), \n",
    "                 padding='same'))\n",
    "model_g.add(BatchNormalization())\n",
    "model_g.add(Activation('relu'))\n",
    "\n",
    "model_g.add(MaxPooling3D(pool_size=(2,2,2)))\n",
    "\n",
    "model_g.add(Conv3D(nb_filters[2], \n",
    "                 kernel_size=(1,3,3), \n",
    "                 padding='same'))\n",
    "model_g.add(BatchNormalization())\n",
    "model_g.add(Activation('relu'))\n",
    "\n",
    "model_g.add(MaxPooling3D(pool_size=(2,2,2)))\n",
    "\n",
    "model_g.add(Conv3D(nb_filters[3], \n",
    "                 kernel_size=(1,3,3), \n",
    "                 padding='same'))\n",
    "model_g.add(BatchNormalization())\n",
    "model_g.add(Activation('relu'))\n",
    "\n",
    "model_g.add(MaxPooling3D(pool_size=(2,2,2)))\n",
    "\n",
    "#Flatten Layers\n",
    "model_g.add(Flatten())\n",
    "\n",
    "model_g.add(Dense(nb_dense[0], activation='relu'))\n",
    "model_g.add(Dropout(0.5))\n",
    "\n",
    "model_g.add(Dense(nb_dense[1], activation='relu'))\n",
    "model_g.add(Dropout(0.5))\n",
    "\n",
    "#softmax layer\n",
    "model_g.add(Dense(nb_dense[2], activation='softmax'))\n",
    "model_g.compile(optimizer=keras.optimizers.Adadelta(), loss='categorical_crossentropy', metrics=['categorical_accuracy'])\n",
    "model_g.summary()"
   ]
  },
  {
   "cell_type": "code",
   "execution_count": 43,
   "metadata": {},
   "outputs": [
    {
     "name": "stdout",
     "output_type": "stream",
     "text": [
      "Source path =  Project_data/val ; batch size = 10\n",
      "Source path =  Project_data/train ; batch size = 10\n",
      "Epoch 1/10\n"
     ]
    },
    {
     "name": "stderr",
     "output_type": "stream",
     "text": [
      "/mnt/disks/user/anaconda3/lib/python3.6/site-packages/ipykernel_launcher.py:19: DeprecationWarning: `imread` is deprecated!\n",
      "`imread` is deprecated in SciPy 1.0.0, and will be removed in 1.2.0.\n",
      "Use ``imageio.imread`` instead.\n",
      "/mnt/disks/user/anaconda3/lib/python3.6/site-packages/ipykernel_launcher.py:24: DeprecationWarning: `imresize` is deprecated!\n",
      "`imresize` is deprecated in SciPy 1.0.0, and will be removed in 1.2.0.\n",
      "Use ``skimage.transform.resize`` instead.\n"
     ]
    },
    {
     "name": "stdout",
     "output_type": "stream",
     "text": [
      "65/67 [============================>.] - ETA: 2s - loss: 5.1344 - categorical_accuracy: 0.2938Batch:  67 Index: 10\n"
     ]
    },
    {
     "name": "stderr",
     "output_type": "stream",
     "text": [
      "/mnt/disks/user/anaconda3/lib/python3.6/site-packages/ipykernel_launcher.py:44: DeprecationWarning: `imread` is deprecated!\n",
      "`imread` is deprecated in SciPy 1.0.0, and will be removed in 1.2.0.\n",
      "Use ``imageio.imread`` instead.\n",
      "/mnt/disks/user/anaconda3/lib/python3.6/site-packages/ipykernel_launcher.py:48: DeprecationWarning: `imresize` is deprecated!\n",
      "`imresize` is deprecated in SciPy 1.0.0, and will be removed in 1.2.0.\n",
      "Use ``skimage.transform.resize`` instead.\n"
     ]
    },
    {
     "name": "stdout",
     "output_type": "stream",
     "text": [
      "67/67 [==============================] - 87s 1s/step - loss: 5.0411 - categorical_accuracy: 0.2975 - val_loss: 3.1104 - val_categorical_accuracy: 0.3200\n",
      "\n",
      "Epoch 00001: saving model to model_init_2020-03-3004_10_50.546452/model-00001-5.06684-0.29713-3.11036-0.32000.h5\n",
      "Epoch 2/10\n",
      "67/67 [==============================] - 26s 386ms/step - loss: 2.5571 - categorical_accuracy: 0.3085 - val_loss: 2.5285 - val_categorical_accuracy: 0.2500\n",
      "\n",
      "Epoch 00002: saving model to model_init_2020-03-3004_10_50.546452/model-00002-2.55714-0.30846-2.52854-0.25000.h5\n",
      "Epoch 3/10\n",
      "67/67 [==============================] - 28s 425ms/step - loss: 1.8454 - categorical_accuracy: 0.2687 - val_loss: 1.4425 - val_categorical_accuracy: 0.2600\n",
      "\n",
      "Epoch 00003: saving model to model_init_2020-03-3004_10_50.546452/model-00003-1.84544-0.26866-1.44247-0.26000.h5\n",
      "Epoch 4/10\n",
      "67/67 [==============================] - 27s 406ms/step - loss: 1.6922 - categorical_accuracy: 0.2886 - val_loss: 1.2505 - val_categorical_accuracy: 0.4200\n",
      "\n",
      "Epoch 00004: saving model to model_init_2020-03-3004_10_50.546452/model-00004-1.69219-0.28856-1.25050-0.42000.h5\n",
      "Epoch 5/10\n",
      "67/67 [==============================] - 29s 433ms/step - loss: 1.6760 - categorical_accuracy: 0.3433 - val_loss: 1.3811 - val_categorical_accuracy: 0.4200\n",
      "\n",
      "Epoch 00005: saving model to model_init_2020-03-3004_10_50.546452/model-00005-1.67602-0.34328-1.38105-0.42000.h5\n",
      "Epoch 6/10\n",
      "67/67 [==============================] - 29s 437ms/step - loss: 1.4814 - categorical_accuracy: 0.3781 - val_loss: 1.2942 - val_categorical_accuracy: 0.4100\n",
      "\n",
      "Epoch 00006: saving model to model_init_2020-03-3004_10_50.546452/model-00006-1.48141-0.37811-1.29417-0.41000.h5\n",
      "\n",
      "Epoch 00006: ReduceLROnPlateau reducing learning rate to 0.5.\n",
      "Epoch 7/10\n",
      "67/67 [==============================] - 26s 387ms/step - loss: 1.4462 - categorical_accuracy: 0.3483 - val_loss: 1.2774 - val_categorical_accuracy: 0.4200\n",
      "\n",
      "Epoch 00007: saving model to model_init_2020-03-3004_10_50.546452/model-00007-1.44616-0.34826-1.27735-0.42000.h5\n",
      "Epoch 8/10\n",
      "67/67 [==============================] - 28s 419ms/step - loss: 1.3412 - categorical_accuracy: 0.4478 - val_loss: 1.0824 - val_categorical_accuracy: 0.5300\n",
      "\n",
      "Epoch 00008: saving model to model_init_2020-03-3004_10_50.546452/model-00008-1.34121-0.44776-1.08239-0.53000.h5\n",
      "Epoch 9/10\n",
      "67/67 [==============================] - 28s 424ms/step - loss: 1.2993 - categorical_accuracy: 0.4229 - val_loss: 1.2205 - val_categorical_accuracy: 0.3900\n",
      "\n",
      "Epoch 00009: saving model to model_init_2020-03-3004_10_50.546452/model-00009-1.29928-0.42289-1.22048-0.39000.h5\n",
      "Epoch 10/10\n",
      "67/67 [==============================] - 28s 418ms/step - loss: 1.2878 - categorical_accuracy: 0.3980 - val_loss: 0.9683 - val_categorical_accuracy: 0.6100\n",
      "\n",
      "Epoch 00010: saving model to model_init_2020-03-3004_10_50.546452/model-00010-1.28776-0.39801-0.96833-0.61000.h5\n"
     ]
    },
    {
     "data": {
      "text/plain": [
       "<keras.callbacks.History at 0x7f8ba2d0a780>"
      ]
     },
     "execution_count": 43,
     "metadata": {},
     "output_type": "execute_result"
    }
   ],
   "source": [
    "batch_size = 10\n",
    "train_generator = generator_ex(train_path, train_doc, batch_size)\n",
    "val_generator = generator_ex(val_path, val_doc, batch_size)\n",
    "num_epochs = 10\n",
    "model_g.fit_generator(train_generator, steps_per_epoch=steps_per_epoch, epochs=num_epochs, verbose=1, \n",
    "                    callbacks=callbacks_list, validation_data=val_generator, \n",
    "                    validation_steps=validation_steps, class_weight=None, workers=1, initial_epoch=0)"
   ]
  },
  {
   "cell_type": "markdown",
   "metadata": {},
   "source": [
    "### Model H Experiment [11]"
   ]
  },
  {
   "cell_type": "code",
   "execution_count": 44,
   "metadata": {},
   "outputs": [
    {
     "name": "stdout",
     "output_type": "stream",
     "text": [
      "_________________________________________________________________\n",
      "Layer (type)                 Output Shape              Param #   \n",
      "=================================================================\n",
      "conv3d_37 (Conv3D)           (None, 30, 120, 120, 8)   656       \n",
      "_________________________________________________________________\n",
      "batch_normalization_19 (Batc (None, 30, 120, 120, 8)   32        \n",
      "_________________________________________________________________\n",
      "activation_37 (Activation)   (None, 30, 120, 120, 8)   0         \n",
      "_________________________________________________________________\n",
      "max_pooling3d_27 (MaxPooling (None, 15, 60, 60, 8)     0         \n",
      "_________________________________________________________________\n",
      "conv3d_38 (Conv3D)           (None, 15, 60, 60, 16)    3472      \n",
      "_________________________________________________________________\n",
      "batch_normalization_20 (Batc (None, 15, 60, 60, 16)    64        \n",
      "_________________________________________________________________\n",
      "activation_38 (Activation)   (None, 15, 60, 60, 16)    0         \n",
      "_________________________________________________________________\n",
      "max_pooling3d_28 (MaxPooling (None, 7, 30, 30, 16)     0         \n",
      "_________________________________________________________________\n",
      "conv3d_39 (Conv3D)           (None, 7, 30, 30, 32)     4640      \n",
      "_________________________________________________________________\n",
      "batch_normalization_21 (Batc (None, 7, 30, 30, 32)     128       \n",
      "_________________________________________________________________\n",
      "activation_39 (Activation)   (None, 7, 30, 30, 32)     0         \n",
      "_________________________________________________________________\n",
      "max_pooling3d_29 (MaxPooling (None, 3, 15, 15, 32)     0         \n",
      "_________________________________________________________________\n",
      "conv3d_40 (Conv3D)           (None, 3, 15, 15, 64)     18496     \n",
      "_________________________________________________________________\n",
      "batch_normalization_22 (Batc (None, 3, 15, 15, 64)     256       \n",
      "_________________________________________________________________\n",
      "activation_40 (Activation)   (None, 3, 15, 15, 64)     0         \n",
      "_________________________________________________________________\n",
      "max_pooling3d_30 (MaxPooling (None, 1, 7, 7, 64)       0         \n",
      "_________________________________________________________________\n",
      "flatten_9 (Flatten)          (None, 3136)              0         \n",
      "_________________________________________________________________\n",
      "dense_21 (Dense)             (None, 1000)              3137000   \n",
      "_________________________________________________________________\n",
      "dropout_23 (Dropout)         (None, 1000)              0         \n",
      "_________________________________________________________________\n",
      "dense_22 (Dense)             (None, 500)               500500    \n",
      "_________________________________________________________________\n",
      "dropout_24 (Dropout)         (None, 500)               0         \n",
      "_________________________________________________________________\n",
      "dense_23 (Dense)             (None, 5)                 2505      \n",
      "=================================================================\n",
      "Total params: 3,667,749\n",
      "Trainable params: 3,667,509\n",
      "Non-trainable params: 240\n",
      "_________________________________________________________________\n"
     ]
    }
   ],
   "source": [
    "x = 30 # number of frames\n",
    "y = 120 # image width\n",
    "z = 120 # image height \n",
    "\n",
    "classes = 5\n",
    "channel = 3\n",
    "\n",
    "input_shape=(x,y,z,channel)\n",
    "\n",
    "# Define model\n",
    "model_h = Sequential()\n",
    "\n",
    "model_h.add(Conv3D(nb_filters[0], \n",
    "                 kernel_size=(3,3,3), \n",
    "                 input_shape=input_shape,\n",
    "                 padding='same'))\n",
    "model_h.add(BatchNormalization())\n",
    "model_h.add(Activation('relu'))\n",
    "\n",
    "model_h.add(MaxPooling3D(pool_size=(2,2,2)))\n",
    "\n",
    "model_h.add(Conv3D(nb_filters[1], \n",
    "                 kernel_size=(3,3,3), \n",
    "                 padding='same'))\n",
    "model_h.add(BatchNormalization())\n",
    "model_h.add(Activation('relu'))\n",
    "\n",
    "model_h.add(MaxPooling3D(pool_size=(2,2,2)))\n",
    "\n",
    "model_h.add(Conv3D(nb_filters[2], \n",
    "                 kernel_size=(1,3,3), \n",
    "                 padding='same'))\n",
    "model_h.add(BatchNormalization())\n",
    "model_h.add(Activation('relu'))\n",
    "\n",
    "model_h.add(MaxPooling3D(pool_size=(2,2,2)))\n",
    "\n",
    "model_h.add(Conv3D(nb_filters[3], \n",
    "                 kernel_size=(1,3,3), \n",
    "                 padding='same'))\n",
    "model_h.add(BatchNormalization())\n",
    "model_h.add(Activation('relu'))\n",
    "\n",
    "model_h.add(MaxPooling3D(pool_size=(2,2,2)))\n",
    "\n",
    "#Flatten Layers\n",
    "model_h.add(Flatten())\n",
    "\n",
    "model_h.add(Dense(nb_dense[0], activation='relu'))\n",
    "model_h.add(Dropout(0.5))\n",
    "\n",
    "model_h.add(Dense(nb_dense[1], activation='relu'))\n",
    "model_h.add(Dropout(0.5))\n",
    "\n",
    "#softmax layer\n",
    "model_h.add(Dense(nb_dense[2], activation='softmax'))\n",
    "model_h.compile(optimizer=keras.optimizers.Adadelta(), loss='categorical_crossentropy', metrics=['categorical_accuracy'])\n",
    "model_h.summary()"
   ]
  },
  {
   "cell_type": "code",
   "execution_count": 45,
   "metadata": {},
   "outputs": [
    {
     "name": "stdout",
     "output_type": "stream",
     "text": [
      "Source path = Source path = Epoch 1/10 Project_data/train ; batch size = 10\n",
      "\n",
      " Project_data/val ; batch size = 10\n"
     ]
    },
    {
     "name": "stderr",
     "output_type": "stream",
     "text": [
      "/mnt/disks/user/anaconda3/lib/python3.6/site-packages/ipykernel_launcher.py:19: DeprecationWarning: `imread` is deprecated!\n",
      "`imread` is deprecated in SciPy 1.0.0, and will be removed in 1.2.0.\n",
      "Use ``imageio.imread`` instead.\n",
      "/mnt/disks/user/anaconda3/lib/python3.6/site-packages/ipykernel_launcher.py:24: DeprecationWarning: `imresize` is deprecated!\n",
      "`imresize` is deprecated in SciPy 1.0.0, and will be removed in 1.2.0.\n",
      "Use ``skimage.transform.resize`` instead.\n"
     ]
    },
    {
     "name": "stdout",
     "output_type": "stream",
     "text": [
      "65/67 [============================>.] - ETA: 2s - loss: 6.9439 - categorical_accuracy: 0.2708Batch:  67 Index: 10\n"
     ]
    },
    {
     "name": "stderr",
     "output_type": "stream",
     "text": [
      "/mnt/disks/user/anaconda3/lib/python3.6/site-packages/ipykernel_launcher.py:44: DeprecationWarning: `imread` is deprecated!\n",
      "`imread` is deprecated in SciPy 1.0.0, and will be removed in 1.2.0.\n",
      "Use ``imageio.imread`` instead.\n",
      "/mnt/disks/user/anaconda3/lib/python3.6/site-packages/ipykernel_launcher.py:48: DeprecationWarning: `imresize` is deprecated!\n",
      "`imresize` is deprecated in SciPy 1.0.0, and will be removed in 1.2.0.\n",
      "Use ``skimage.transform.resize`` instead.\n"
     ]
    },
    {
     "name": "stdout",
     "output_type": "stream",
     "text": [
      "67/67 [==============================] - 87s 1s/step - loss: 6.7959 - categorical_accuracy: 0.2672 - val_loss: 5.9936 - val_categorical_accuracy: 0.2500\n",
      "\n",
      "Epoch 00001: saving model to model_init_2020-03-3004_10_50.546452/model-00001-6.83865-0.26998-5.99359-0.25000.h5\n",
      "Epoch 2/10\n",
      "67/67 [==============================] - 25s 372ms/step - loss: 2.8407 - categorical_accuracy: 0.2836 - val_loss: 6.7763 - val_categorical_accuracy: 0.2400\n",
      "\n",
      "Epoch 00002: saving model to model_init_2020-03-3004_10_50.546452/model-00002-2.84070-0.28358-6.77632-0.24000.h5\n",
      "Epoch 3/10\n",
      "67/67 [==============================] - 28s 412ms/step - loss: 1.9889 - categorical_accuracy: 0.3035 - val_loss: 1.3144 - val_categorical_accuracy: 0.4200\n",
      "\n",
      "Epoch 00003: saving model to model_init_2020-03-3004_10_50.546452/model-00003-1.98886-0.30348-1.31438-0.42000.h5\n",
      "Epoch 4/10\n",
      "67/67 [==============================] - 27s 400ms/step - loss: 1.7232 - categorical_accuracy: 0.3184 - val_loss: 1.7817 - val_categorical_accuracy: 0.3100\n",
      "\n",
      "Epoch 00004: saving model to model_init_2020-03-3004_10_50.546452/model-00004-1.72317-0.31841-1.78170-0.31000.h5\n",
      "Epoch 5/10\n",
      "67/67 [==============================] - 29s 428ms/step - loss: 1.6201 - categorical_accuracy: 0.3582 - val_loss: 1.2711 - val_categorical_accuracy: 0.3700\n",
      "\n",
      "Epoch 00005: saving model to model_init_2020-03-3004_10_50.546452/model-00005-1.62007-0.35821-1.27105-0.37000.h5\n",
      "Epoch 6/10\n",
      "67/67 [==============================] - 26s 388ms/step - loss: 1.5317 - categorical_accuracy: 0.3234 - val_loss: 1.7303 - val_categorical_accuracy: 0.2900\n",
      "\n",
      "Epoch 00006: saving model to model_init_2020-03-3004_10_50.546452/model-00006-1.53175-0.32338-1.73031-0.29000.h5\n",
      "Epoch 7/10\n",
      "67/67 [==============================] - 27s 410ms/step - loss: 1.4544 - categorical_accuracy: 0.3831 - val_loss: 1.6615 - val_categorical_accuracy: 0.2900\n",
      "\n",
      "Epoch 00007: saving model to model_init_2020-03-3004_10_50.546452/model-00007-1.45437-0.38308-1.66148-0.29000.h5\n",
      "\n",
      "Epoch 00007: ReduceLROnPlateau reducing learning rate to 0.5.\n",
      "Epoch 8/10\n",
      "67/67 [==============================] - 27s 398ms/step - loss: 1.4113 - categorical_accuracy: 0.3632 - val_loss: 1.4185 - val_categorical_accuracy: 0.3300\n",
      "\n",
      "Epoch 00008: saving model to model_init_2020-03-3004_10_50.546452/model-00008-1.41131-0.36318-1.41855-0.33000.h5\n",
      "Epoch 9/10\n",
      "67/67 [==============================] - 26s 386ms/step - loss: 1.3455 - categorical_accuracy: 0.4229 - val_loss: 1.0235 - val_categorical_accuracy: 0.5100\n",
      "\n",
      "Epoch 00009: saving model to model_init_2020-03-3004_10_50.546452/model-00009-1.34551-0.42289-1.02346-0.51000.h5\n",
      "Epoch 10/10\n",
      "67/67 [==============================] - 27s 401ms/step - loss: 1.2090 - categorical_accuracy: 0.4975 - val_loss: 1.0398 - val_categorical_accuracy: 0.5200\n",
      "\n",
      "Epoch 00010: saving model to model_init_2020-03-3004_10_50.546452/model-00010-1.20901-0.49751-1.03985-0.52000.h5\n"
     ]
    },
    {
     "data": {
      "text/plain": [
       "<keras.callbacks.History at 0x7f8ba16a9dd8>"
      ]
     },
     "execution_count": 45,
     "metadata": {},
     "output_type": "execute_result"
    }
   ],
   "source": [
    "batch_size = 10\n",
    "train_generator = generator_ex(train_path, train_doc, batch_size)\n",
    "val_generator = generator_ex(val_path, val_doc, batch_size)\n",
    "num_epochs = 10\n",
    "model_h.fit_generator(train_generator, steps_per_epoch=steps_per_epoch, epochs=num_epochs, verbose=1, \n",
    "                    callbacks=callbacks_list, validation_data=val_generator, \n",
    "                    validation_steps=validation_steps, class_weight=None, workers=1, initial_epoch=0)"
   ]
  },
  {
   "cell_type": "markdown",
   "metadata": {},
   "source": [
    "### Model I Experiment [12]"
   ]
  },
  {
   "cell_type": "code",
   "execution_count": 46,
   "metadata": {},
   "outputs": [
    {
     "name": "stdout",
     "output_type": "stream",
     "text": [
      "_________________________________________________________________\n",
      "Layer (type)                 Output Shape              Param #   \n",
      "=================================================================\n",
      "conv3d_41 (Conv3D)           (None, 30, 120, 120, 8)   656       \n",
      "_________________________________________________________________\n",
      "batch_normalization_23 (Batc (None, 30, 120, 120, 8)   32        \n",
      "_________________________________________________________________\n",
      "activation_41 (Activation)   (None, 30, 120, 120, 8)   0         \n",
      "_________________________________________________________________\n",
      "max_pooling3d_31 (MaxPooling (None, 15, 60, 60, 8)     0         \n",
      "_________________________________________________________________\n",
      "conv3d_42 (Conv3D)           (None, 15, 60, 60, 16)    3472      \n",
      "_________________________________________________________________\n",
      "batch_normalization_24 (Batc (None, 15, 60, 60, 16)    64        \n",
      "_________________________________________________________________\n",
      "activation_42 (Activation)   (None, 15, 60, 60, 16)    0         \n",
      "_________________________________________________________________\n",
      "max_pooling3d_32 (MaxPooling (None, 7, 30, 30, 16)     0         \n",
      "_________________________________________________________________\n",
      "conv3d_43 (Conv3D)           (None, 7, 30, 30, 32)     4640      \n",
      "_________________________________________________________________\n",
      "batch_normalization_25 (Batc (None, 7, 30, 30, 32)     128       \n",
      "_________________________________________________________________\n",
      "activation_43 (Activation)   (None, 7, 30, 30, 32)     0         \n",
      "_________________________________________________________________\n",
      "max_pooling3d_33 (MaxPooling (None, 3, 15, 15, 32)     0         \n",
      "_________________________________________________________________\n",
      "conv3d_44 (Conv3D)           (None, 3, 15, 15, 64)     18496     \n",
      "_________________________________________________________________\n",
      "activation_44 (Activation)   (None, 3, 15, 15, 64)     0         \n",
      "_________________________________________________________________\n",
      "dropout_25 (Dropout)         (None, 3, 15, 15, 64)     0         \n",
      "_________________________________________________________________\n",
      "max_pooling3d_34 (MaxPooling (None, 1, 7, 7, 64)       0         \n",
      "_________________________________________________________________\n",
      "flatten_10 (Flatten)         (None, 3136)              0         \n",
      "_________________________________________________________________\n",
      "dense_24 (Dense)             (None, 1000)              3137000   \n",
      "_________________________________________________________________\n",
      "dropout_26 (Dropout)         (None, 1000)              0         \n",
      "_________________________________________________________________\n",
      "dense_25 (Dense)             (None, 500)               500500    \n",
      "_________________________________________________________________\n",
      "dropout_27 (Dropout)         (None, 500)               0         \n",
      "_________________________________________________________________\n",
      "dense_26 (Dense)             (None, 5)                 2505      \n",
      "=================================================================\n",
      "Total params: 3,667,493\n",
      "Trainable params: 3,667,381\n",
      "Non-trainable params: 112\n",
      "_________________________________________________________________\n"
     ]
    }
   ],
   "source": [
    "x = 30 # number of frames\n",
    "y = 120 # image width\n",
    "z = 120 # image height \n",
    "\n",
    "classes = 5\n",
    "channel = 3\n",
    "\n",
    "input_shape=(x,y,z,channel)\n",
    "\n",
    "# Define model\n",
    "model_i = Sequential()\n",
    "\n",
    "model_i.add(Conv3D(nb_filters[0], \n",
    "                 kernel_size=(3,3,3), \n",
    "                 input_shape=input_shape,\n",
    "                 padding='same'))\n",
    "model_i.add(BatchNormalization())\n",
    "model_i.add(Activation('relu'))\n",
    "\n",
    "model_i.add(MaxPooling3D(pool_size=(2,2,2)))\n",
    "\n",
    "model_i.add(Conv3D(nb_filters[1], \n",
    "                 kernel_size=(3,3,3), \n",
    "                 padding='same'))\n",
    "model_i.add(BatchNormalization())\n",
    "model_i.add(Activation('relu'))\n",
    "\n",
    "model_i.add(MaxPooling3D(pool_size=(2,2,2)))\n",
    "\n",
    "model_i.add(Conv3D(nb_filters[2], \n",
    "                 kernel_size=(1,3,3), \n",
    "                 padding='same'))\n",
    "model_i.add(BatchNormalization())\n",
    "model_i.add(Activation('relu'))\n",
    "\n",
    "model_i.add(MaxPooling3D(pool_size=(2,2,2)))\n",
    "\n",
    "model_i.add(Conv3D(nb_filters[3], \n",
    "                 kernel_size=(1,3,3), \n",
    "                 padding='same'))\n",
    "model_i.add(Activation('relu'))\n",
    "model_i.add(Dropout(0.25))\n",
    "\n",
    "model_i.add(MaxPooling3D(pool_size=(2,2,2)))\n",
    "\n",
    "#Flatten Layers\n",
    "model_i.add(Flatten())\n",
    "\n",
    "model_i.add(Dense(nb_dense[0], activation='relu'))\n",
    "model_i.add(Dropout(0.5))\n",
    "\n",
    "model_i.add(Dense(nb_dense[1], activation='relu'))\n",
    "model_i.add(Dropout(0.5))\n",
    "\n",
    "#softmax layer\n",
    "model_i.add(Dense(nb_dense[2], activation='softmax'))\n",
    "model_i.compile(optimizer=keras.optimizers.Adadelta(), loss='categorical_crossentropy', metrics=['categorical_accuracy'])\n",
    "model_i.summary()"
   ]
  },
  {
   "cell_type": "code",
   "execution_count": 47,
   "metadata": {},
   "outputs": [
    {
     "name": "stdout",
     "output_type": "stream",
     "text": [
      "Source path =  Project_data/val ; batch size = 10\n",
      "Source path =  Project_data/train ; batch size = 10\n",
      "Epoch 1/10\n"
     ]
    },
    {
     "name": "stderr",
     "output_type": "stream",
     "text": [
      "/mnt/disks/user/anaconda3/lib/python3.6/site-packages/ipykernel_launcher.py:19: DeprecationWarning: `imread` is deprecated!\n",
      "`imread` is deprecated in SciPy 1.0.0, and will be removed in 1.2.0.\n",
      "Use ``imageio.imread`` instead.\n",
      "/mnt/disks/user/anaconda3/lib/python3.6/site-packages/ipykernel_launcher.py:24: DeprecationWarning: `imresize` is deprecated!\n",
      "`imresize` is deprecated in SciPy 1.0.0, and will be removed in 1.2.0.\n",
      "Use ``skimage.transform.resize`` instead.\n"
     ]
    },
    {
     "name": "stdout",
     "output_type": "stream",
     "text": [
      "65/67 [============================>.] - ETA: 2s - loss: 1.8883 - categorical_accuracy: 0.3077Batch:  67 Index: 10\n"
     ]
    },
    {
     "name": "stderr",
     "output_type": "stream",
     "text": [
      "/mnt/disks/user/anaconda3/lib/python3.6/site-packages/ipykernel_launcher.py:44: DeprecationWarning: `imread` is deprecated!\n",
      "`imread` is deprecated in SciPy 1.0.0, and will be removed in 1.2.0.\n",
      "Use ``imageio.imread`` instead.\n",
      "/mnt/disks/user/anaconda3/lib/python3.6/site-packages/ipykernel_launcher.py:48: DeprecationWarning: `imresize` is deprecated!\n",
      "`imresize` is deprecated in SciPy 1.0.0, and will be removed in 1.2.0.\n",
      "Use ``skimage.transform.resize`` instead.\n"
     ]
    },
    {
     "name": "stdout",
     "output_type": "stream",
     "text": [
      "67/67 [==============================] - 84s 1s/step - loss: 1.8747 - categorical_accuracy: 0.3109 - val_loss: 1.4121 - val_categorical_accuracy: 0.2700\n",
      "\n",
      "Epoch 00001: saving model to model_init_2020-03-3004_10_50.546452/model-00001-1.87965-0.31071-1.41214-0.27000.h5\n",
      "Epoch 2/10\n",
      "67/67 [==============================] - 24s 360ms/step - loss: 1.5907 - categorical_accuracy: 0.3632 - val_loss: 1.3142 - val_categorical_accuracy: 0.3600\n",
      "\n",
      "Epoch 00002: saving model to model_init_2020-03-3004_10_50.546452/model-00002-1.59074-0.36318-1.31420-0.36000.h5\n",
      "Epoch 3/10\n",
      "67/67 [==============================] - 27s 398ms/step - loss: 1.5060 - categorical_accuracy: 0.3333 - val_loss: 1.2637 - val_categorical_accuracy: 0.4900\n",
      "\n",
      "Epoch 00003: saving model to model_init_2020-03-3004_10_50.546452/model-00003-1.50596-0.33333-1.26374-0.49000.h5\n",
      "Epoch 4/10\n",
      "67/67 [==============================] - 27s 408ms/step - loss: 1.4880 - categorical_accuracy: 0.3731 - val_loss: 1.2316 - val_categorical_accuracy: 0.5200\n",
      "\n",
      "Epoch 00004: saving model to model_init_2020-03-3004_10_50.546452/model-00004-1.48798-0.37313-1.23159-0.52000.h5\n",
      "Epoch 5/10\n",
      "67/67 [==============================] - 27s 405ms/step - loss: 1.2636 - categorical_accuracy: 0.4677 - val_loss: 1.6657 - val_categorical_accuracy: 0.3600\n",
      "\n",
      "Epoch 00005: saving model to model_init_2020-03-3004_10_50.546452/model-00005-1.26356-0.46766-1.66572-0.36000.h5\n",
      "Epoch 6/10\n",
      "67/67 [==============================] - 28s 414ms/step - loss: 1.3810 - categorical_accuracy: 0.4627 - val_loss: 1.3486 - val_categorical_accuracy: 0.4100\n",
      "\n",
      "Epoch 00006: saving model to model_init_2020-03-3004_10_50.546452/model-00006-1.38095-0.46269-1.34860-0.41000.h5\n",
      "\n",
      "Epoch 00006: ReduceLROnPlateau reducing learning rate to 0.5.\n",
      "Epoch 7/10\n",
      "67/67 [==============================] - 26s 387ms/step - loss: 1.0826 - categorical_accuracy: 0.6070 - val_loss: 1.0242 - val_categorical_accuracy: 0.5900\n",
      "\n",
      "Epoch 00007: saving model to model_init_2020-03-3004_10_50.546452/model-00007-1.08260-0.60697-1.02418-0.59000.h5\n",
      "Epoch 8/10\n",
      "67/67 [==============================] - 27s 398ms/step - loss: 1.0157 - categorical_accuracy: 0.6119 - val_loss: 0.8997 - val_categorical_accuracy: 0.6600\n",
      "\n",
      "Epoch 00008: saving model to model_init_2020-03-3004_10_50.546452/model-00008-1.01573-0.61194-0.89975-0.66000.h5\n",
      "Epoch 9/10\n",
      "67/67 [==============================] - 26s 394ms/step - loss: 0.8844 - categorical_accuracy: 0.6219 - val_loss: 0.8950 - val_categorical_accuracy: 0.6400\n",
      "\n",
      "Epoch 00009: saving model to model_init_2020-03-3004_10_50.546452/model-00009-0.88436-0.62189-0.89501-0.64000.h5\n",
      "Epoch 10/10\n",
      "67/67 [==============================] - 28s 415ms/step - loss: 0.8693 - categorical_accuracy: 0.6468 - val_loss: 0.7932 - val_categorical_accuracy: 0.7400\n",
      "\n",
      "Epoch 00010: saving model to model_init_2020-03-3004_10_50.546452/model-00010-0.86931-0.64677-0.79323-0.74000.h5\n"
     ]
    },
    {
     "data": {
      "text/plain": [
       "<keras.callbacks.History at 0x7f8ba48ac5c0>"
      ]
     },
     "execution_count": 47,
     "metadata": {},
     "output_type": "execute_result"
    }
   ],
   "source": [
    "batch_size = 10\n",
    "train_generator = generator_ex(train_path, train_doc, batch_size)\n",
    "val_generator = generator_ex(val_path, val_doc, batch_size)\n",
    "num_epochs = 10\n",
    "model_i.fit_generator(train_generator, steps_per_epoch=steps_per_epoch, epochs=num_epochs, verbose=1, \n",
    "                    callbacks=callbacks_list, validation_data=val_generator, \n",
    "                    validation_steps=validation_steps, class_weight=None, workers=1, initial_epoch=0)"
   ]
  },
  {
   "cell_type": "markdown",
   "metadata": {},
   "source": [
    "### Model I Experiment [13]"
   ]
  },
  {
   "cell_type": "code",
   "execution_count": 48,
   "metadata": {},
   "outputs": [],
   "source": [
    "nb_filters = [8,16,32,64]\n",
    "nb_dense = [256, 128, 5]\n",
    "\n",
    "# Input\n",
    "input_shape=(30,120,120,3)\n",
    "\n",
    "# Define model\n",
    "model_final = Sequential()\n",
    "\n",
    "model_final.add(Conv3D(nb_filters[0], \n",
    "                 kernel_size=(3,3,3), \n",
    "                 input_shape=input_shape,\n",
    "                 padding='same'))\n",
    "model_final.add(BatchNormalization())\n",
    "model_final.add(Activation('relu'))\n",
    "\n",
    "model_final.add(MaxPooling3D(pool_size=(2,2,2)))\n",
    "\n",
    "model_final.add(Conv3D(nb_filters[1], \n",
    "                 kernel_size=(3,3,3), \n",
    "                 padding='same'))\n",
    "model_final.add(BatchNormalization())\n",
    "model_final.add(Activation('relu'))\n",
    "\n",
    "model_final.add(MaxPooling3D(pool_size=(2,2,2)))\n",
    "\n",
    "model_final.add(Conv3D(nb_filters[2], \n",
    "                 kernel_size=(1,3,3), \n",
    "                 padding='same'))\n",
    "model_final.add(BatchNormalization())\n",
    "model_final.add(Activation('relu'))\n",
    "\n",
    "model_final.add(MaxPooling3D(pool_size=(2,2,2)))\n",
    "\n",
    "model_final.add(Conv3D(nb_filters[3], \n",
    "                 kernel_size=(1,3,3), \n",
    "                 padding='same'))\n",
    "model_final.add(Activation('relu'))\n",
    "model_final.add(Dropout(0.25))\n",
    "\n",
    "model_final.add(MaxPooling3D(pool_size=(2,2,2)))\n",
    "\n",
    "#Flatten Layers\n",
    "model_final.add(Flatten())\n",
    "\n",
    "model_final.add(Dense(nb_dense[0], activation='relu'))\n",
    "model_final.add(Dropout(0.5))\n",
    "\n",
    "model_final.add(Dense(nb_dense[1], activation='relu'))\n",
    "model_final.add(Dropout(0.5))\n",
    "\n",
    "#softmax layer\n",
    "model_final.add(Dense(nb_dense[2], activation='softmax'))"
   ]
  },
  {
   "cell_type": "code",
   "execution_count": 49,
   "metadata": {},
   "outputs": [
    {
     "name": "stdout",
     "output_type": "stream",
     "text": [
      "_________________________________________________________________\n",
      "Layer (type)                 Output Shape              Param #   \n",
      "=================================================================\n",
      "conv3d_45 (Conv3D)           (None, 30, 120, 120, 8)   656       \n",
      "_________________________________________________________________\n",
      "batch_normalization_26 (Batc (None, 30, 120, 120, 8)   32        \n",
      "_________________________________________________________________\n",
      "activation_45 (Activation)   (None, 30, 120, 120, 8)   0         \n",
      "_________________________________________________________________\n",
      "max_pooling3d_35 (MaxPooling (None, 15, 60, 60, 8)     0         \n",
      "_________________________________________________________________\n",
      "conv3d_46 (Conv3D)           (None, 15, 60, 60, 16)    3472      \n",
      "_________________________________________________________________\n",
      "batch_normalization_27 (Batc (None, 15, 60, 60, 16)    64        \n",
      "_________________________________________________________________\n",
      "activation_46 (Activation)   (None, 15, 60, 60, 16)    0         \n",
      "_________________________________________________________________\n",
      "max_pooling3d_36 (MaxPooling (None, 7, 30, 30, 16)     0         \n",
      "_________________________________________________________________\n",
      "conv3d_47 (Conv3D)           (None, 7, 30, 30, 32)     4640      \n",
      "_________________________________________________________________\n",
      "batch_normalization_28 (Batc (None, 7, 30, 30, 32)     128       \n",
      "_________________________________________________________________\n",
      "activation_47 (Activation)   (None, 7, 30, 30, 32)     0         \n",
      "_________________________________________________________________\n",
      "max_pooling3d_37 (MaxPooling (None, 3, 15, 15, 32)     0         \n",
      "_________________________________________________________________\n",
      "conv3d_48 (Conv3D)           (None, 3, 15, 15, 64)     18496     \n",
      "_________________________________________________________________\n",
      "activation_48 (Activation)   (None, 3, 15, 15, 64)     0         \n",
      "_________________________________________________________________\n",
      "dropout_28 (Dropout)         (None, 3, 15, 15, 64)     0         \n",
      "_________________________________________________________________\n",
      "max_pooling3d_38 (MaxPooling (None, 1, 7, 7, 64)       0         \n",
      "_________________________________________________________________\n",
      "flatten_11 (Flatten)         (None, 3136)              0         \n",
      "_________________________________________________________________\n",
      "dense_27 (Dense)             (None, 256)               803072    \n",
      "_________________________________________________________________\n",
      "dropout_29 (Dropout)         (None, 256)               0         \n",
      "_________________________________________________________________\n",
      "dense_28 (Dense)             (None, 128)               32896     \n",
      "_________________________________________________________________\n",
      "dropout_30 (Dropout)         (None, 128)               0         \n",
      "_________________________________________________________________\n",
      "dense_29 (Dense)             (None, 5)                 645       \n",
      "=================================================================\n",
      "Total params: 864,101\n",
      "Trainable params: 863,989\n",
      "Non-trainable params: 112\n",
      "_________________________________________________________________\n",
      "None\n"
     ]
    }
   ],
   "source": [
    "optimiser = keras.optimizers.Adam() #write your optimizer\n",
    "model_final.compile(optimizer=optimiser, loss='categorical_crossentropy', metrics=['categorical_accuracy'])\n",
    "print (model_final.summary())"
   ]
  },
  {
   "cell_type": "code",
   "execution_count": 50,
   "metadata": {},
   "outputs": [],
   "source": [
    "train_generator = generator_ex(train_path, train_doc, batch_size)\n",
    "val_generator = generator_ex(val_path, val_doc, batch_size)"
   ]
  },
  {
   "cell_type": "code",
   "execution_count": 51,
   "metadata": {},
   "outputs": [
    {
     "name": "stdout",
     "output_type": "stream",
     "text": [
      "Source path =  Project_data/val ; batch size = 10\n",
      "Source path =  Project_data/train ; batch size = 10\n",
      "Epoch 1/20\n"
     ]
    },
    {
     "name": "stderr",
     "output_type": "stream",
     "text": [
      "/mnt/disks/user/anaconda3/lib/python3.6/site-packages/ipykernel_launcher.py:19: DeprecationWarning: `imread` is deprecated!\n",
      "`imread` is deprecated in SciPy 1.0.0, and will be removed in 1.2.0.\n",
      "Use ``imageio.imread`` instead.\n",
      "/mnt/disks/user/anaconda3/lib/python3.6/site-packages/ipykernel_launcher.py:24: DeprecationWarning: `imresize` is deprecated!\n",
      "`imresize` is deprecated in SciPy 1.0.0, and will be removed in 1.2.0.\n",
      "Use ``skimage.transform.resize`` instead.\n"
     ]
    },
    {
     "name": "stdout",
     "output_type": "stream",
     "text": [
      "65/67 [============================>.] - ETA: 2s - loss: 1.9641 - categorical_accuracy: 0.2369Batch:  67 Index: 10\n"
     ]
    },
    {
     "name": "stderr",
     "output_type": "stream",
     "text": [
      "/mnt/disks/user/anaconda3/lib/python3.6/site-packages/ipykernel_launcher.py:44: DeprecationWarning: `imread` is deprecated!\n",
      "`imread` is deprecated in SciPy 1.0.0, and will be removed in 1.2.0.\n",
      "Use ``imageio.imread`` instead.\n",
      "/mnt/disks/user/anaconda3/lib/python3.6/site-packages/ipykernel_launcher.py:48: DeprecationWarning: `imresize` is deprecated!\n",
      "`imresize` is deprecated in SciPy 1.0.0, and will be removed in 1.2.0.\n",
      "Use ``skimage.transform.resize`` instead.\n"
     ]
    },
    {
     "name": "stdout",
     "output_type": "stream",
     "text": [
      "67/67 [==============================] - 86s 1s/step - loss: 1.9500 - categorical_accuracy: 0.2442 - val_loss: 1.5218 - val_categorical_accuracy: 0.2800\n",
      "\n",
      "Epoch 00001: saving model to model_init_2020-03-3004_10_50.546452/model-00001-1.95611-0.23982-1.52179-0.28000.h5\n",
      "Epoch 2/20\n",
      "67/67 [==============================] - 26s 392ms/step - loss: 1.5787 - categorical_accuracy: 0.3234 - val_loss: 1.4428 - val_categorical_accuracy: 0.4800\n",
      "\n",
      "Epoch 00002: saving model to model_init_2020-03-3004_10_50.546452/model-00002-1.57865-0.32338-1.44285-0.48000.h5\n",
      "Epoch 3/20\n",
      "67/67 [==============================] - 27s 409ms/step - loss: 1.5158 - categorical_accuracy: 0.3184 - val_loss: 1.2818 - val_categorical_accuracy: 0.4700\n",
      "\n",
      "Epoch 00003: saving model to model_init_2020-03-3004_10_50.546452/model-00003-1.51584-0.31841-1.28182-0.47000.h5\n",
      "Epoch 4/20\n",
      "67/67 [==============================] - 26s 395ms/step - loss: 1.5968 - categorical_accuracy: 0.2935 - val_loss: 1.5306 - val_categorical_accuracy: 0.3900\n",
      "\n",
      "Epoch 00004: saving model to model_init_2020-03-3004_10_50.546452/model-00004-1.59683-0.29353-1.53058-0.39000.h5\n",
      "Epoch 5/20\n",
      "67/67 [==============================] - 28s 421ms/step - loss: 1.5469 - categorical_accuracy: 0.2587 - val_loss: 1.4613 - val_categorical_accuracy: 0.4000\n",
      "\n",
      "Epoch 00005: saving model to model_init_2020-03-3004_10_50.546452/model-00005-1.54687-0.25871-1.46126-0.40000.h5\n",
      "\n",
      "Epoch 00005: ReduceLROnPlateau reducing learning rate to 0.0005000000237487257.\n",
      "Epoch 6/20\n",
      "67/67 [==============================] - 26s 383ms/step - loss: 1.4433 - categorical_accuracy: 0.3483 - val_loss: 1.2961 - val_categorical_accuracy: 0.4000\n",
      "\n",
      "Epoch 00006: saving model to model_init_2020-03-3004_10_50.546452/model-00006-1.44325-0.34826-1.29607-0.40000.h5\n",
      "Epoch 7/20\n",
      "67/67 [==============================] - 28s 415ms/step - loss: 1.4176 - categorical_accuracy: 0.3483 - val_loss: 1.3930 - val_categorical_accuracy: 0.4100\n",
      "\n",
      "Epoch 00007: saving model to model_init_2020-03-3004_10_50.546452/model-00007-1.41759-0.34826-1.39304-0.41000.h5\n",
      "\n",
      "Epoch 00007: ReduceLROnPlateau reducing learning rate to 0.0002500000118743628.\n",
      "Epoch 8/20\n",
      "67/67 [==============================] - 27s 397ms/step - loss: 1.3346 - categorical_accuracy: 0.4428 - val_loss: 1.2922 - val_categorical_accuracy: 0.4200\n",
      "\n",
      "Epoch 00008: saving model to model_init_2020-03-3004_10_50.546452/model-00008-1.33457-0.44279-1.29224-0.42000.h5\n",
      "Epoch 9/20\n",
      "67/67 [==============================] - 29s 436ms/step - loss: 1.3672 - categorical_accuracy: 0.3781 - val_loss: 1.2306 - val_categorical_accuracy: 0.4700\n",
      "\n",
      "Epoch 00009: saving model to model_init_2020-03-3004_10_50.546452/model-00009-1.36720-0.37811-1.23060-0.47000.h5\n",
      "Epoch 10/20\n",
      "67/67 [==============================] - 27s 407ms/step - loss: 1.2879 - categorical_accuracy: 0.3980 - val_loss: 1.1990 - val_categorical_accuracy: 0.4800\n",
      "\n",
      "Epoch 00010: saving model to model_init_2020-03-3004_10_50.546452/model-00010-1.28792-0.39801-1.19901-0.48000.h5\n",
      "Epoch 11/20\n",
      "67/67 [==============================] - 27s 397ms/step - loss: 1.2841 - categorical_accuracy: 0.4129 - val_loss: 1.2251 - val_categorical_accuracy: 0.5100\n",
      "\n",
      "Epoch 00011: saving model to model_init_2020-03-3004_10_50.546452/model-00011-1.28415-0.41294-1.22512-0.51000.h5\n",
      "Epoch 12/20\n",
      "67/67 [==============================] - 28s 418ms/step - loss: 1.1951 - categorical_accuracy: 0.4975 - val_loss: 1.1117 - val_categorical_accuracy: 0.5900\n",
      "\n",
      "Epoch 00012: saving model to model_init_2020-03-3004_10_50.546452/model-00012-1.19512-0.49751-1.11166-0.59000.h5\n",
      "Epoch 13/20\n",
      "67/67 [==============================] - 26s 384ms/step - loss: 1.2431 - categorical_accuracy: 0.4925 - val_loss: 1.1345 - val_categorical_accuracy: 0.5200\n",
      "\n",
      "Epoch 00013: saving model to model_init_2020-03-3004_10_50.546452/model-00013-1.24311-0.49254-1.13449-0.52000.h5\n",
      "Epoch 14/20\n",
      "67/67 [==============================] - 27s 408ms/step - loss: 1.2241 - categorical_accuracy: 0.4527 - val_loss: 1.0728 - val_categorical_accuracy: 0.6400\n",
      "\n",
      "Epoch 00014: saving model to model_init_2020-03-3004_10_50.546452/model-00014-1.22410-0.45274-1.07284-0.64000.h5\n",
      "Epoch 15/20\n",
      "67/67 [==============================] - 29s 433ms/step - loss: 1.1057 - categorical_accuracy: 0.5473 - val_loss: 1.0124 - val_categorical_accuracy: 0.6300\n",
      "\n",
      "Epoch 00015: saving model to model_init_2020-03-3004_10_50.546452/model-00015-1.10567-0.54726-1.01237-0.63000.h5\n",
      "Epoch 16/20\n",
      "67/67 [==============================] - 27s 396ms/step - loss: 1.2050 - categorical_accuracy: 0.4726 - val_loss: 1.1326 - val_categorical_accuracy: 0.5700\n",
      "\n",
      "Epoch 00016: saving model to model_init_2020-03-3004_10_50.546452/model-00016-1.20501-0.47264-1.13264-0.57000.h5\n",
      "Epoch 17/20\n",
      "67/67 [==============================] - 26s 391ms/step - loss: 1.0745 - categorical_accuracy: 0.4876 - val_loss: 1.0111 - val_categorical_accuracy: 0.6100\n",
      "\n",
      "Epoch 00017: saving model to model_init_2020-03-3004_10_50.546452/model-00017-1.07446-0.48756-1.01111-0.61000.h5\n",
      "Epoch 18/20\n",
      "67/67 [==============================] - 27s 408ms/step - loss: 1.1392 - categorical_accuracy: 0.5174 - val_loss: 1.0259 - val_categorical_accuracy: 0.5200\n",
      "\n",
      "Epoch 00018: saving model to model_init_2020-03-3004_10_50.546452/model-00018-1.13924-0.51741-1.02595-0.52000.h5\n",
      "Epoch 19/20\n",
      "67/67 [==============================] - 28s 421ms/step - loss: 1.1167 - categorical_accuracy: 0.4876 - val_loss: 0.9912 - val_categorical_accuracy: 0.5500\n",
      "\n",
      "Epoch 00019: saving model to model_init_2020-03-3004_10_50.546452/model-00019-1.11666-0.48756-0.99117-0.55000.h5\n",
      "Epoch 20/20\n",
      "67/67 [==============================] - 26s 391ms/step - loss: 1.0227 - categorical_accuracy: 0.5920 - val_loss: 0.9733 - val_categorical_accuracy: 0.6100\n",
      "\n",
      "Epoch 00020: saving model to model_init_2020-03-3004_10_50.546452/model-00020-1.02274-0.59204-0.97330-0.61000.h5\n"
     ]
    },
    {
     "data": {
      "text/plain": [
       "<keras.callbacks.History at 0x7f8b9ef622e8>"
      ]
     },
     "execution_count": 51,
     "metadata": {},
     "output_type": "execute_result"
    }
   ],
   "source": [
    "batch_size = 10\n",
    "num_epochs = 20\n",
    "model_final.fit_generator(train_generator, steps_per_epoch=steps_per_epoch, epochs=num_epochs, verbose=1, \n",
    "                    callbacks=callbacks_list, validation_data=val_generator, \n",
    "                    validation_steps=validation_steps, class_weight=None, workers=1, initial_epoch=0)"
   ]
  },
  {
   "cell_type": "code",
   "execution_count": 52,
   "metadata": {},
   "outputs": [
    {
     "name": "stdout",
     "output_type": "stream",
     "text": [
      "Epoch 1/20\n"
     ]
    },
    {
     "name": "stderr",
     "output_type": "stream",
     "text": [
      "/mnt/disks/user/anaconda3/lib/python3.6/site-packages/ipykernel_launcher.py:19: DeprecationWarning: `imread` is deprecated!\n",
      "`imread` is deprecated in SciPy 1.0.0, and will be removed in 1.2.0.\n",
      "Use ``imageio.imread`` instead.\n",
      "/mnt/disks/user/anaconda3/lib/python3.6/site-packages/ipykernel_launcher.py:24: DeprecationWarning: `imresize` is deprecated!\n",
      "`imresize` is deprecated in SciPy 1.0.0, and will be removed in 1.2.0.\n",
      "Use ``skimage.transform.resize`` instead.\n"
     ]
    },
    {
     "name": "stdout",
     "output_type": "stream",
     "text": [
      "67/67 [==============================] - 30s 446ms/step - loss: 1.0592 - categorical_accuracy: 0.5821 - val_loss: 0.9573 - val_categorical_accuracy: 0.5800\n",
      "\n",
      "Epoch 00001: saving model to model_init_2020-03-3004_10_50.546452/model-00001-1.05921-0.58209-0.95726-0.58000.h5\n",
      "Epoch 2/20\n",
      "67/67 [==============================] - 27s 408ms/step - loss: 0.9937 - categorical_accuracy: 0.5821 - val_loss: 0.8887 - val_categorical_accuracy: 0.6100\n",
      "\n",
      "Epoch 00002: saving model to model_init_2020-03-3004_10_50.546452/model-00002-0.99368-0.58209-0.88873-0.61000.h5\n",
      "Epoch 3/20\n",
      "67/67 [==============================] - 29s 426ms/step - loss: 0.9342 - categorical_accuracy: 0.6318 - val_loss: 0.9415 - val_categorical_accuracy: 0.5700\n",
      "\n",
      "Epoch 00003: saving model to model_init_2020-03-3004_10_50.546452/model-00003-0.93425-0.63184-0.94147-0.57000.h5\n",
      "Epoch 4/20\n",
      "67/67 [==============================] - 27s 401ms/step - loss: 1.0250 - categorical_accuracy: 0.6020 - val_loss: 0.9950 - val_categorical_accuracy: 0.5500\n",
      "\n",
      "Epoch 00004: saving model to model_init_2020-03-3004_10_50.546452/model-00004-1.02496-0.60199-0.99499-0.55000.h5\n",
      "\n",
      "Epoch 00004: ReduceLROnPlateau reducing learning rate to 0.0001250000059371814.\n",
      "Epoch 5/20\n",
      "67/67 [==============================] - 27s 406ms/step - loss: 0.9069 - categorical_accuracy: 0.6020 - val_loss: 0.8666 - val_categorical_accuracy: 0.6400\n",
      "\n",
      "Epoch 00005: saving model to model_init_2020-03-3004_10_50.546452/model-00005-0.90694-0.60199-0.86655-0.64000.h5\n",
      "Epoch 6/20\n",
      "67/67 [==============================] - 28s 424ms/step - loss: 0.8165 - categorical_accuracy: 0.6716 - val_loss: 0.8247 - val_categorical_accuracy: 0.6400\n",
      "\n",
      "Epoch 00006: saving model to model_init_2020-03-3004_10_50.546452/model-00006-0.81648-0.67164-0.82468-0.64000.h5\n",
      "Epoch 7/20\n",
      "67/67 [==============================] - 29s 428ms/step - loss: 0.8446 - categorical_accuracy: 0.6368 - val_loss: 0.9021 - val_categorical_accuracy: 0.6100\n",
      "\n",
      "Epoch 00007: saving model to model_init_2020-03-3004_10_50.546452/model-00007-0.84460-0.63682-0.90214-0.61000.h5\n",
      "Epoch 8/20\n",
      "67/67 [==============================] - 26s 395ms/step - loss: 0.8587 - categorical_accuracy: 0.6866 - val_loss: 0.8366 - val_categorical_accuracy: 0.6500\n",
      "\n",
      "Epoch 00008: saving model to model_init_2020-03-3004_10_50.546452/model-00008-0.85869-0.68657-0.83662-0.65000.h5\n",
      "\n",
      "Epoch 00008: ReduceLROnPlateau reducing learning rate to 6.25000029685907e-05.\n",
      "Epoch 9/20\n",
      "67/67 [==============================] - 28s 417ms/step - loss: 0.8425 - categorical_accuracy: 0.6418 - val_loss: 0.8622 - val_categorical_accuracy: 0.6800\n",
      "\n",
      "Epoch 00009: saving model to model_init_2020-03-3004_10_50.546452/model-00009-0.84253-0.64179-0.86221-0.68000.h5\n",
      "Epoch 10/20\n",
      "67/67 [==============================] - 27s 405ms/step - loss: 0.7847 - categorical_accuracy: 0.6766 - val_loss: 0.8368 - val_categorical_accuracy: 0.6700\n",
      "\n",
      "Epoch 00010: saving model to model_init_2020-03-3004_10_50.546452/model-00010-0.78470-0.67662-0.83683-0.67000.h5\n",
      "\n",
      "Epoch 00010: ReduceLROnPlateau reducing learning rate to 3.125000148429535e-05.\n",
      "Epoch 11/20\n",
      "67/67 [==============================] - 28s 418ms/step - loss: 0.8295 - categorical_accuracy: 0.6816 - val_loss: 0.8643 - val_categorical_accuracy: 0.6200\n",
      "\n",
      "Epoch 00011: saving model to model_init_2020-03-3004_10_50.546452/model-00011-0.82948-0.68159-0.86427-0.62000.h5\n",
      "Epoch 12/20\n",
      "67/67 [==============================] - 29s 427ms/step - loss: 0.7465 - categorical_accuracy: 0.7164 - val_loss: 0.8096 - val_categorical_accuracy: 0.7000\n",
      "\n",
      "Epoch 00012: saving model to model_init_2020-03-3004_10_50.546452/model-00012-0.74645-0.71642-0.80960-0.70000.h5\n",
      "Epoch 13/20\n",
      "67/67 [==============================] - 28s 420ms/step - loss: 0.7070 - categorical_accuracy: 0.7363 - val_loss: 0.8452 - val_categorical_accuracy: 0.6500\n",
      "\n",
      "Epoch 00013: saving model to model_init_2020-03-3004_10_50.546452/model-00013-0.70703-0.73632-0.84518-0.65000.h5\n",
      "Epoch 14/20\n",
      "67/67 [==============================] - 28s 411ms/step - loss: 0.7950 - categorical_accuracy: 0.7015 - val_loss: 0.8123 - val_categorical_accuracy: 0.6900\n",
      "\n",
      "Epoch 00014: saving model to model_init_2020-03-3004_10_50.546452/model-00014-0.79502-0.70149-0.81233-0.69000.h5\n",
      "\n",
      "Epoch 00014: ReduceLROnPlateau reducing learning rate to 1.5625000742147677e-05.\n",
      "Epoch 15/20\n",
      "67/67 [==============================] - 28s 411ms/step - loss: 0.7049 - categorical_accuracy: 0.7114 - val_loss: 0.8003 - val_categorical_accuracy: 0.6800\n",
      "\n",
      "Epoch 00015: saving model to model_init_2020-03-3004_10_50.546452/model-00015-0.70487-0.71144-0.80035-0.68000.h5\n",
      "Epoch 16/20\n",
      "67/67 [==============================] - 29s 428ms/step - loss: 0.7134 - categorical_accuracy: 0.6866 - val_loss: 0.8486 - val_categorical_accuracy: 0.6500\n",
      "\n",
      "Epoch 00016: saving model to model_init_2020-03-3004_10_50.546452/model-00016-0.71339-0.68657-0.84856-0.65000.h5\n",
      "Epoch 17/20\n",
      "67/67 [==============================] - 27s 409ms/step - loss: 0.7205 - categorical_accuracy: 0.7065 - val_loss: 0.7790 - val_categorical_accuracy: 0.7200\n",
      "\n",
      "Epoch 00017: saving model to model_init_2020-03-3004_10_50.546452/model-00017-0.72047-0.70647-0.77903-0.72000.h5\n",
      "Epoch 18/20\n",
      "67/67 [==============================] - 29s 433ms/step - loss: 0.7812 - categorical_accuracy: 0.7065 - val_loss: 0.8344 - val_categorical_accuracy: 0.6700\n",
      "\n",
      "Epoch 00018: saving model to model_init_2020-03-3004_10_50.546452/model-00018-0.78123-0.70647-0.83443-0.67000.h5\n",
      "Epoch 19/20\n",
      "67/67 [==============================] - 28s 419ms/step - loss: 0.6718 - categorical_accuracy: 0.7164 - val_loss: 0.7873 - val_categorical_accuracy: 0.7000\n",
      "\n",
      "Epoch 00019: saving model to model_init_2020-03-3004_10_50.546452/model-00019-0.67178-0.71642-0.78725-0.70000.h5\n",
      "\n",
      "Epoch 00019: ReduceLROnPlateau reducing learning rate to 7.812500371073838e-06.\n",
      "Epoch 20/20\n",
      "67/67 [==============================] - 29s 430ms/step - loss: 0.7656 - categorical_accuracy: 0.6816 - val_loss: 0.8486 - val_categorical_accuracy: 0.6800\n",
      "\n",
      "Epoch 00020: saving model to model_init_2020-03-3004_10_50.546452/model-00020-0.76558-0.68159-0.84864-0.68000.h5\n"
     ]
    },
    {
     "data": {
      "text/plain": [
       "<keras.callbacks.History at 0x7f8b9ef62e10>"
      ]
     },
     "execution_count": 52,
     "metadata": {},
     "output_type": "execute_result"
    }
   ],
   "source": [
    "batch_size = 32\n",
    "num_epochs = 20\n",
    "model_final.fit_generator(train_generator, steps_per_epoch=steps_per_epoch, epochs=num_epochs, verbose=1, \n",
    "                    callbacks=callbacks_list, validation_data=val_generator, \n",
    "                    validation_steps=validation_steps, class_weight=None, workers=1, initial_epoch=0)"
   ]
  },
  {
   "cell_type": "code",
   "execution_count": 53,
   "metadata": {},
   "outputs": [
    {
     "name": "stdout",
     "output_type": "stream",
     "text": [
      "Source path =  Project_data/val ; batch size = 64\n",
      "Source path =  Project_data/train ; batch size = 64\n",
      "Epoch 1/20\n"
     ]
    },
    {
     "name": "stderr",
     "output_type": "stream",
     "text": [
      "/mnt/disks/user/anaconda3/lib/python3.6/site-packages/ipykernel_launcher.py:19: DeprecationWarning: `imread` is deprecated!\n",
      "`imread` is deprecated in SciPy 1.0.0, and will be removed in 1.2.0.\n",
      "Use ``imageio.imread`` instead.\n",
      "/mnt/disks/user/anaconda3/lib/python3.6/site-packages/ipykernel_launcher.py:24: DeprecationWarning: `imresize` is deprecated!\n",
      "`imresize` is deprecated in SciPy 1.0.0, and will be removed in 1.2.0.\n",
      "Use ``skimage.transform.resize`` instead.\n"
     ]
    },
    {
     "name": "stdout",
     "output_type": "stream",
     "text": [
      "Batch:  2 Index: 64\n"
     ]
    },
    {
     "name": "stderr",
     "output_type": "stream",
     "text": [
      "/mnt/disks/user/anaconda3/lib/python3.6/site-packages/ipykernel_launcher.py:44: DeprecationWarning: `imread` is deprecated!\n",
      "`imread` is deprecated in SciPy 1.0.0, and will be removed in 1.2.0.\n",
      "Use ``imageio.imread`` instead.\n",
      "/mnt/disks/user/anaconda3/lib/python3.6/site-packages/ipykernel_launcher.py:48: DeprecationWarning: `imresize` is deprecated!\n",
      "`imresize` is deprecated in SciPy 1.0.0, and will be removed in 1.2.0.\n",
      "Use ``skimage.transform.resize`` instead.\n"
     ]
    },
    {
     "name": "stdout",
     "output_type": "stream",
     "text": [
      " 2/67 [..............................] - ETA: 10:44 - loss: 0.6946 - categorical_accuracy: 0.7578Batch:  3 Index: 36\n",
      " 5/67 [=>............................] - ETA: 9:46 - loss: 0.6738 - categorical_accuracy: 0.7469Batch:  4 Index: 28\n",
      " 9/67 [===>..........................] - ETA: 8:31 - loss: 0.6741 - categorical_accuracy: 0.7431Batch:  11 Index: 64\n",
      "38/67 [================>.............] - ETA: 2:04 - loss: 0.6705 - categorical_accuracy: 0.7385Batch:  29 Index: 23\n",
      "67/67 [==============================] - 238s 4s/step - loss: 0.6690 - categorical_accuracy: 0.7352 - val_loss: 0.7883 - val_categorical_accuracy: 0.6994\n",
      "\n",
      "Epoch 00001: saving model to model_init_2020-03-3004_10_50.546452/model-00001-0.67080-0.73790-0.78829-0.69937.h5\n",
      "Epoch 2/20\n",
      " 5/67 [=>............................] - ETA: 1:41 - loss: 0.6731 - categorical_accuracy: 0.6842Batch:  7 Index: 16\n",
      " 6/67 [=>............................] - ETA: 1:53 - loss: 0.6676 - categorical_accuracy: 0.6930Batch:  35 Index: 19\n",
      "67/67 [==============================] - 139s 2s/step - loss: 0.6744 - categorical_accuracy: 0.7352 - val_loss: 0.8868 - val_categorical_accuracy: 0.6500\n",
      "\n",
      "Epoch 00002: saving model to model_init_2020-03-3004_10_50.546452/model-00002-0.67426-0.73461-0.88681-0.65000.h5\n",
      "Epoch 3/20\n",
      "67/67 [==============================] - 138s 2s/step - loss: 0.6565 - categorical_accuracy: 0.7489 - val_loss: 0.7220 - val_categorical_accuracy: 0.7750\n",
      "\n",
      "Epoch 00003: saving model to model_init_2020-03-3004_10_50.546452/model-00003-0.65649-0.74890-0.72201-0.77500.h5\n",
      "Epoch 4/20\n",
      "67/67 [==============================] - 142s 2s/step - loss: 0.7149 - categorical_accuracy: 0.7173 - val_loss: 0.7106 - val_categorical_accuracy: 0.6750\n",
      "\n",
      "Epoch 00004: saving model to model_init_2020-03-3004_10_50.546452/model-00004-0.71489-0.71730-0.71060-0.67500.h5\n",
      "Epoch 5/20\n",
      "67/67 [==============================] - 140s 2s/step - loss: 0.6914 - categorical_accuracy: 0.7322 - val_loss: 0.8338 - val_categorical_accuracy: 0.6250\n",
      "\n",
      "Epoch 00005: saving model to model_init_2020-03-3004_10_50.546452/model-00005-0.69145-0.73222-0.83376-0.62500.h5\n",
      "Epoch 6/20\n",
      "67/67 [==============================] - 138s 2s/step - loss: 0.6614 - categorical_accuracy: 0.7392 - val_loss: 0.8321 - val_categorical_accuracy: 0.7250\n",
      "\n",
      "Epoch 00006: saving model to model_init_2020-03-3004_10_50.546452/model-00006-0.66136-0.73924-0.83207-0.72500.h5\n",
      "\n",
      "Epoch 00006: ReduceLROnPlateau reducing learning rate to 3.906250185536919e-06.\n",
      "Epoch 7/20\n",
      "67/67 [==============================] - 141s 2s/step - loss: 0.6556 - categorical_accuracy: 0.7322 - val_loss: 0.7726 - val_categorical_accuracy: 0.7750\n",
      "\n",
      "Epoch 00007: saving model to model_init_2020-03-3004_10_50.546452/model-00007-0.65563-0.73222-0.77260-0.77500.h5\n",
      "Epoch 8/20\n",
      "67/67 [==============================] - 138s 2s/step - loss: 0.6498 - categorical_accuracy: 0.7445 - val_loss: 0.7961 - val_categorical_accuracy: 0.7000\n",
      "\n",
      "Epoch 00008: saving model to model_init_2020-03-3004_10_50.546452/model-00008-0.64979-0.74451-0.79606-0.70000.h5\n",
      "\n",
      "Epoch 00008: ReduceLROnPlateau reducing learning rate to 1.9531250927684596e-06.\n",
      "Epoch 9/20\n",
      "67/67 [==============================] - 140s 2s/step - loss: 0.6471 - categorical_accuracy: 0.7542 - val_loss: 0.7700 - val_categorical_accuracy: 0.6750\n",
      "\n",
      "Epoch 00009: saving model to model_init_2020-03-3004_10_50.546452/model-00009-0.64710-0.75417-0.77000-0.67500.h5\n",
      "Epoch 10/20\n",
      "67/67 [==============================] - 139s 2s/step - loss: 0.6795 - categorical_accuracy: 0.7357 - val_loss: 0.7404 - val_categorical_accuracy: 0.6750\n",
      "\n",
      "Epoch 00010: saving model to model_init_2020-03-3004_10_50.546452/model-00010-0.67950-0.73573-0.74035-0.67500.h5\n",
      "\n",
      "Epoch 00010: ReduceLROnPlateau reducing learning rate to 9.765625463842298e-07.\n",
      "Epoch 11/20\n",
      "67/67 [==============================] - 140s 2s/step - loss: 0.6739 - categorical_accuracy: 0.7419 - val_loss: 0.7251 - val_categorical_accuracy: 0.7500\n",
      "\n",
      "Epoch 00011: saving model to model_init_2020-03-3004_10_50.546452/model-00011-0.67387-0.74188-0.72510-0.75000.h5\n",
      "Epoch 12/20\n",
      "67/67 [==============================] - 140s 2s/step - loss: 0.6691 - categorical_accuracy: 0.7278 - val_loss: 0.8098 - val_categorical_accuracy: 0.7250\n",
      "\n",
      "Epoch 00012: saving model to model_init_2020-03-3004_10_50.546452/model-00012-0.66915-0.72783-0.80976-0.72500.h5\n",
      "\n",
      "Epoch 00012: ReduceLROnPlateau reducing learning rate to 4.882812731921149e-07.\n",
      "Epoch 13/20\n",
      "67/67 [==============================] - 141s 2s/step - loss: 0.6581 - categorical_accuracy: 0.7401 - val_loss: 0.8502 - val_categorical_accuracy: 0.6250\n",
      "\n",
      "Epoch 00013: saving model to model_init_2020-03-3004_10_50.546452/model-00013-0.65809-0.74012-0.85019-0.62500.h5\n",
      "Epoch 14/20\n",
      "67/67 [==============================] - 137s 2s/step - loss: 0.6881 - categorical_accuracy: 0.7331 - val_loss: 0.8408 - val_categorical_accuracy: 0.6500\n",
      "\n",
      "Epoch 00014: saving model to model_init_2020-03-3004_10_50.546452/model-00014-0.68809-0.73310-0.84083-0.65000.h5\n",
      "\n",
      "Epoch 00014: ReduceLROnPlateau reducing learning rate to 2.4414063659605745e-07.\n",
      "Epoch 15/20\n",
      "67/67 [==============================] - 140s 2s/step - loss: 0.6430 - categorical_accuracy: 0.7480 - val_loss: 0.7387 - val_categorical_accuracy: 0.8000\n",
      "\n",
      "Epoch 00015: saving model to model_init_2020-03-3004_10_50.546452/model-00015-0.64300-0.74802-0.73870-0.80000.h5\n",
      "Epoch 16/20\n",
      "67/67 [==============================] - 140s 2s/step - loss: 0.6548 - categorical_accuracy: 0.7428 - val_loss: 0.7982 - val_categorical_accuracy: 0.6500\n",
      "\n",
      "Epoch 00016: saving model to model_init_2020-03-3004_10_50.546452/model-00016-0.65478-0.74276-0.79816-0.65000.h5\n",
      "\n",
      "Epoch 00016: ReduceLROnPlateau reducing learning rate to 1.2207031829802872e-07.\n",
      "Epoch 17/20\n",
      "67/67 [==============================] - 140s 2s/step - loss: 0.6598 - categorical_accuracy: 0.7436 - val_loss: 0.8406 - val_categorical_accuracy: 0.6500\n",
      "\n",
      "Epoch 00017: saving model to model_init_2020-03-3004_10_50.546452/model-00017-0.65975-0.74363-0.84060-0.65000.h5\n",
      "Epoch 18/20\n",
      "67/67 [==============================] - 139s 2s/step - loss: 0.6592 - categorical_accuracy: 0.7384 - val_loss: 0.8029 - val_categorical_accuracy: 0.6500\n",
      "\n",
      "Epoch 00018: saving model to model_init_2020-03-3004_10_50.546452/model-00018-0.65924-0.73837-0.80292-0.65000.h5\n",
      "\n",
      "Epoch 00018: ReduceLROnPlateau reducing learning rate to 6.103515914901436e-08.\n",
      "Epoch 19/20\n",
      "67/67 [==============================] - 139s 2s/step - loss: 0.6757 - categorical_accuracy: 0.7419 - val_loss: 0.7860 - val_categorical_accuracy: 0.7500\n",
      "\n",
      "Epoch 00019: saving model to model_init_2020-03-3004_10_50.546452/model-00019-0.67568-0.74188-0.78600-0.75000.h5\n",
      "Epoch 20/20\n",
      "67/67 [==============================] - 140s 2s/step - loss: 0.6617 - categorical_accuracy: 0.7515 - val_loss: 0.8155 - val_categorical_accuracy: 0.6250\n",
      "\n",
      "Epoch 00020: saving model to model_init_2020-03-3004_10_50.546452/model-00020-0.66167-0.75154-0.81548-0.62500.h5\n",
      "\n",
      "Epoch 00020: ReduceLROnPlateau reducing learning rate to 3.051757957450718e-08.\n"
     ]
    },
    {
     "data": {
      "text/plain": [
       "<keras.callbacks.History at 0x7f8b9dea5390>"
      ]
     },
     "execution_count": 53,
     "metadata": {},
     "output_type": "execute_result"
    }
   ],
   "source": [
    "batch_size = 64\n",
    "num_epochs = 20\n",
    "\n",
    "train_generator = generator_ex(train_path, train_doc, batch_size)\n",
    "val_generator = generator_ex(val_path, val_doc, batch_size)\n",
    "\n",
    "\n",
    "model_final.fit_generator(train_generator, steps_per_epoch=steps_per_epoch, epochs=num_epochs, verbose=1, \n",
    "                    callbacks=callbacks_list, validation_data=val_generator, \n",
    "                    validation_steps=validation_steps, class_weight=None, workers=1, initial_epoch=0)"
   ]
  },
  {
   "cell_type": "code",
   "execution_count": 54,
   "metadata": {},
   "outputs": [
    {
     "name": "stdout",
     "output_type": "stream",
     "text": [
      "Source path =  Source path =  Project_data/train ; batch size = Epoch 1/20\n",
      "Project_data/val ; batch size = 40\n",
      "40\n"
     ]
    },
    {
     "name": "stderr",
     "output_type": "stream",
     "text": [
      "/mnt/disks/user/anaconda3/lib/python3.6/site-packages/ipykernel_launcher.py:19: DeprecationWarning: `imread` is deprecated!\n",
      "`imread` is deprecated in SciPy 1.0.0, and will be removed in 1.2.0.\n",
      "Use ``imageio.imread`` instead.\n",
      "/mnt/disks/user/anaconda3/lib/python3.6/site-packages/ipykernel_launcher.py:24: DeprecationWarning: `imresize` is deprecated!\n",
      "`imresize` is deprecated in SciPy 1.0.0, and will be removed in 1.2.0.\n",
      "Use ``skimage.transform.resize`` instead.\n"
     ]
    },
    {
     "name": "stdout",
     "output_type": "stream",
     "text": [
      " 2/67 [..............................] - ETA: 6:41 - loss: 0.6649 - categorical_accuracy: 0.7500Batch:  3 Index: 40\n"
     ]
    },
    {
     "name": "stderr",
     "output_type": "stream",
     "text": [
      "/mnt/disks/user/anaconda3/lib/python3.6/site-packages/ipykernel_launcher.py:44: DeprecationWarning: `imread` is deprecated!\n",
      "`imread` is deprecated in SciPy 1.0.0, and will be removed in 1.2.0.\n",
      "Use ``imageio.imread`` instead.\n",
      "/mnt/disks/user/anaconda3/lib/python3.6/site-packages/ipykernel_launcher.py:48: DeprecationWarning: `imresize` is deprecated!\n",
      "`imresize` is deprecated in SciPy 1.0.0, and will be removed in 1.2.0.\n",
      "Use ``skimage.transform.resize`` instead.\n"
     ]
    },
    {
     "name": "stdout",
     "output_type": "stream",
     "text": [
      "15/67 [=====>........................] - ETA: 4:38 - loss: 0.6520 - categorical_accuracy: 0.7567Batch:  17 Index: 40\n",
      "44/67 [==================>...........] - ETA: 1:25 - loss: 0.6559 - categorical_accuracy: 0.7578Batch:  29 Index: 23\n",
      "67/67 [==============================] - 223s 3s/step - loss: 0.6568 - categorical_accuracy: 0.7573 - val_loss: 0.7997 - val_categorical_accuracy: 0.6833\n",
      "\n",
      "Epoch 00001: saving model to model_init_2020-03-3004_10_50.546452/model-00001-0.65485-0.75768-0.79972-0.68333.h5\n",
      "Epoch 2/20\n",
      "12/67 [====>.........................] - ETA: 2:13 - loss: 0.6437 - categorical_accuracy: 0.7368Batch:  35 Index: 19\n",
      "67/67 [==============================] - 148s 2s/step - loss: 0.6543 - categorical_accuracy: 0.7437 - val_loss: 0.8109 - val_categorical_accuracy: 0.6750\n",
      "\n",
      "Epoch 00002: saving model to model_init_2020-03-3004_10_50.546452/model-00002-0.65410-0.74335-0.81092-0.67500.h5\n",
      "Epoch 3/20\n",
      "67/67 [==============================] - 145s 2s/step - loss: 0.6292 - categorical_accuracy: 0.7621 - val_loss: 0.8023 - val_categorical_accuracy: 0.6950\n",
      "\n",
      "Epoch 00003: saving model to model_init_2020-03-3004_10_50.546452/model-00003-0.62919-0.76207-0.80232-0.69500.h5\n",
      "\n",
      "Epoch 00003: ReduceLROnPlateau reducing learning rate to 1.525878978725359e-08.\n",
      "Epoch 4/20\n",
      "67/67 [==============================] - 147s 2s/step - loss: 0.6487 - categorical_accuracy: 0.7542 - val_loss: 0.7724 - val_categorical_accuracy: 0.7100\n",
      "\n",
      "Epoch 00004: saving model to model_init_2020-03-3004_10_50.546452/model-00004-0.64869-0.75417-0.77242-0.71000.h5\n",
      "Epoch 5/20\n",
      "67/67 [==============================] - 144s 2s/step - loss: 0.6909 - categorical_accuracy: 0.7226 - val_loss: 0.8099 - val_categorical_accuracy: 0.6500\n",
      "\n",
      "Epoch 00005: saving model to model_init_2020-03-3004_10_50.546452/model-00005-0.69088-0.72256-0.80991-0.65000.h5\n",
      "Epoch 6/20\n",
      "67/67 [==============================] - 146s 2s/step - loss: 0.6625 - categorical_accuracy: 0.7401 - val_loss: 0.7942 - val_categorical_accuracy: 0.7200\n",
      "\n",
      "Epoch 00006: saving model to model_init_2020-03-3004_10_50.546452/model-00006-0.66249-0.74012-0.79417-0.72000.h5\n",
      "\n",
      "Epoch 00006: ReduceLROnPlateau reducing learning rate to 7.629394893626795e-09.\n",
      "Epoch 7/20\n",
      "67/67 [==============================] - 145s 2s/step - loss: 0.6563 - categorical_accuracy: 0.7428 - val_loss: 0.8007 - val_categorical_accuracy: 0.6750\n",
      "\n",
      "Epoch 00007: saving model to model_init_2020-03-3004_10_50.546452/model-00007-0.65635-0.74276-0.80071-0.67500.h5\n",
      "Epoch 8/20\n",
      "67/67 [==============================] - 144s 2s/step - loss: 0.6887 - categorical_accuracy: 0.7234 - val_loss: 0.7921 - val_categorical_accuracy: 0.7100\n",
      "\n",
      "Epoch 00008: saving model to model_init_2020-03-3004_10_50.546452/model-00008-0.68873-0.72344-0.79211-0.71000.h5\n",
      "\n",
      "Epoch 00008: ReduceLROnPlateau reducing learning rate to 3.814697446813398e-09.\n",
      "Epoch 9/20\n",
      "67/67 [==============================] - 144s 2s/step - loss: 0.6466 - categorical_accuracy: 0.7410 - val_loss: 0.7734 - val_categorical_accuracy: 0.7050\n",
      "\n",
      "Epoch 00009: saving model to model_init_2020-03-3004_10_50.546452/model-00009-0.64664-0.74100-0.77339-0.70500.h5\n",
      "Epoch 10/20\n",
      "67/67 [==============================] - 147s 2s/step - loss: 0.6190 - categorical_accuracy: 0.7594 - val_loss: 0.8010 - val_categorical_accuracy: 0.6800\n",
      "\n",
      "Epoch 00010: saving model to model_init_2020-03-3004_10_50.546452/model-00010-0.61898-0.75944-0.80103-0.68000.h5\n",
      "\n",
      "Epoch 00010: ReduceLROnPlateau reducing learning rate to 1.907348723406699e-09.\n",
      "Epoch 11/20\n",
      "67/67 [==============================] - 145s 2s/step - loss: 0.6722 - categorical_accuracy: 0.7375 - val_loss: 0.7868 - val_categorical_accuracy: 0.6900\n",
      "\n",
      "Epoch 00011: saving model to model_init_2020-03-3004_10_50.546452/model-00011-0.67225-0.73749-0.78678-0.69000.h5\n",
      "Epoch 12/20\n",
      "67/67 [==============================] - 146s 2s/step - loss: 0.6730 - categorical_accuracy: 0.7401 - val_loss: 0.8295 - val_categorical_accuracy: 0.6800\n",
      "\n",
      "Epoch 00012: saving model to model_init_2020-03-3004_10_50.546452/model-00012-0.67305-0.74012-0.82952-0.68000.h5\n",
      "\n",
      "Epoch 00012: ReduceLROnPlateau reducing learning rate to 9.536743617033494e-10.\n",
      "Epoch 13/20\n",
      "67/67 [==============================] - 146s 2s/step - loss: 0.6689 - categorical_accuracy: 0.7375 - val_loss: 0.8080 - val_categorical_accuracy: 0.6850\n",
      "\n",
      "Epoch 00013: saving model to model_init_2020-03-3004_10_50.546452/model-00013-0.66891-0.73749-0.80800-0.68500.h5\n",
      "Epoch 14/20\n",
      "67/67 [==============================] - 145s 2s/step - loss: 0.6808 - categorical_accuracy: 0.7349 - val_loss: 0.7454 - val_categorical_accuracy: 0.7200\n",
      "\n",
      "Epoch 00014: saving model to model_init_2020-03-3004_10_50.546452/model-00014-0.68079-0.73486-0.74541-0.72000.h5\n",
      "Epoch 15/20\n",
      "67/67 [==============================] - 146s 2s/step - loss: 0.6938 - categorical_accuracy: 0.7199 - val_loss: 0.8030 - val_categorical_accuracy: 0.7000\n",
      "\n",
      "Epoch 00015: saving model to model_init_2020-03-3004_10_50.546452/model-00015-0.69376-0.71993-0.80296-0.70000.h5\n",
      "Epoch 16/20\n",
      "67/67 [==============================] - 145s 2s/step - loss: 0.6514 - categorical_accuracy: 0.7471 - val_loss: 0.7917 - val_categorical_accuracy: 0.6900\n",
      "\n",
      "Epoch 00016: saving model to model_init_2020-03-3004_10_50.546452/model-00016-0.65140-0.74715-0.79174-0.69000.h5\n",
      "\n",
      "Epoch 00016: ReduceLROnPlateau reducing learning rate to 4.768371808516747e-10.\n",
      "Epoch 17/20\n",
      "67/67 [==============================] - 145s 2s/step - loss: 0.6717 - categorical_accuracy: 0.7349 - val_loss: 0.8278 - val_categorical_accuracy: 0.6750\n",
      "\n",
      "Epoch 00017: saving model to model_init_2020-03-3004_10_50.546452/model-00017-0.67173-0.73486-0.82777-0.67500.h5\n",
      "Epoch 18/20\n",
      "67/67 [==============================] - 144s 2s/step - loss: 0.6770 - categorical_accuracy: 0.7313 - val_loss: 0.8173 - val_categorical_accuracy: 0.6700\n",
      "\n",
      "Epoch 00018: saving model to model_init_2020-03-3004_10_50.546452/model-00018-0.67703-0.73134-0.81728-0.67000.h5\n",
      "\n",
      "Epoch 00018: ReduceLROnPlateau reducing learning rate to 2.3841859042583735e-10.\n",
      "Epoch 19/20\n",
      "67/67 [==============================] - 144s 2s/step - loss: 0.6816 - categorical_accuracy: 0.7278 - val_loss: 0.7583 - val_categorical_accuracy: 0.7150\n",
      "\n",
      "Epoch 00019: saving model to model_init_2020-03-3004_10_50.546452/model-00019-0.68158-0.72783-0.75830-0.71500.h5\n",
      "Epoch 20/20\n",
      "67/67 [==============================] - 145s 2s/step - loss: 0.6818 - categorical_accuracy: 0.7217 - val_loss: 0.8364 - val_categorical_accuracy: 0.6650\n",
      "\n",
      "Epoch 00020: saving model to model_init_2020-03-3004_10_50.546452/model-00020-0.68176-0.72169-0.83635-0.66500.h5\n",
      "\n",
      "Epoch 00020: ReduceLROnPlateau reducing learning rate to 1.1920929521291868e-10.\n"
     ]
    },
    {
     "data": {
      "text/plain": [
       "<keras.callbacks.History at 0x7f8b9db086a0>"
      ]
     },
     "execution_count": 54,
     "metadata": {},
     "output_type": "execute_result"
    }
   ],
   "source": [
    "batch_size = 40\n",
    "num_epochs = 20\n",
    "\n",
    "train_generator = generator_ex(train_path, train_doc, batch_size)\n",
    "val_generator = generator_ex(val_path, val_doc, batch_size)\n",
    "\n",
    "\n",
    "model_final.fit_generator(train_generator, steps_per_epoch=steps_per_epoch, epochs=num_epochs, verbose=1, \n",
    "                    callbacks=callbacks_list, validation_data=val_generator, \n",
    "                    validation_steps=validation_steps, class_weight=None, workers=1, initial_epoch=0)"
   ]
  },
  {
   "cell_type": "markdown",
   "metadata": {},
   "source": [
    "### RNN CNN Model"
   ]
  },
  {
   "cell_type": "code",
   "execution_count": 10,
   "metadata": {},
   "outputs": [],
   "source": [
    "import numpy as np\n",
    "import os\n",
    "from scipy.misc import imread, imresize\n",
    "import datetime\n",
    "import os\n",
    "import warnings\n",
    "warnings.filterwarnings(\"ignore\")\n",
    "import abc\n",
    "from sys import getsizeof"
   ]
  },
  {
   "cell_type": "code",
   "execution_count": 11,
   "metadata": {},
   "outputs": [],
   "source": [
    "np.random.seed(30)\n",
    "import random as rn\n",
    "rn.seed(30)\n",
    "from keras import backend as K\n",
    "import tensorflow as tf\n",
    "tf.set_random_seed(30)"
   ]
  },
  {
   "cell_type": "code",
   "execution_count": 12,
   "metadata": {},
   "outputs": [],
   "source": [
    "import cv2\n",
    "import matplotlib.pyplot as plt\n",
    "% matplotlib inline"
   ]
  },
  {
   "cell_type": "code",
   "execution_count": 13,
   "metadata": {},
   "outputs": [],
   "source": [
    "from keras.models import Sequential, Model\n",
    "from keras.layers import Dense, GRU, Flatten, TimeDistributed, Flatten, BatchNormalization, Activation\n",
    "from keras.layers.convolutional import Conv3D, MaxPooling3D, Conv2D, MaxPooling2D\n",
    "from keras.layers.recurrent import LSTM\n",
    "from keras.callbacks import ModelCheckpoint, ReduceLROnPlateau\n",
    "from keras import optimizers\n",
    "from keras.layers import Dropout"
   ]
  },
  {
   "cell_type": "code",
   "execution_count": 14,
   "metadata": {},
   "outputs": [],
   "source": [
    "project_folder='Project_data'"
   ]
  },
  {
   "cell_type": "code",
   "execution_count": 15,
   "metadata": {},
   "outputs": [],
   "source": [
    "def plot(history):\n",
    "    fig, axes = plt.subplots(nrows=1, ncols=2, figsize=(15,4))\n",
    "    axes[0].plot(history.history['loss'])   \n",
    "    axes[0].plot(history.history['val_loss'])\n",
    "    axes[0].legend(['loss','val_loss'])\n",
    "\n",
    "    axes[1].plot(history.history['categorical_accuracy'])   \n",
    "    axes[1].plot(history.history['val_categorical_accuracy'])\n",
    "    axes[1].legend(['categorical_accuracy','val_categorical_accuracy'])"
   ]
  },
  {
   "cell_type": "markdown",
   "metadata": {},
   "source": [
    "### Model II Experiment [14]"
   ]
  },
  {
   "cell_type": "code",
   "execution_count": 16,
   "metadata": {},
   "outputs": [],
   "source": [
    "class ModelBuilder(metaclass= abc.ABCMeta):\n",
    "    \n",
    "    def initialize_path(self,project_folder):\n",
    "        self.train_doc = np.random.permutation(open(project_folder + '/' + 'train.csv').readlines())\n",
    "        self.val_doc = np.random.permutation(open(project_folder + '/' + 'val.csv').readlines())\n",
    "        self.train_path = project_folder + '/' + 'train'\n",
    "        self.val_path =  project_folder + '/' + 'val'\n",
    "        self.num_train_sequences = len(self.train_doc)\n",
    "        self.num_val_sequences = len(self.val_doc)\n",
    "        \n",
    "    def initialize_image_properties(self,image_height=100,image_width=100):\n",
    "        self.image_height=image_height\n",
    "        self.image_width=image_width\n",
    "        self.channels=3\n",
    "        self.num_classes=5\n",
    "        self.total_frames=30\n",
    "          \n",
    "    def initialize_hyperparams(self,frames_to_sample=30,batch_size=20,num_epochs=20):\n",
    "        self.frames_to_sample=frames_to_sample\n",
    "        self.batch_size=batch_size\n",
    "        self.num_epochs=num_epochs\n",
    "        \n",
    "        \n",
    "    def generator(self,source_path, folder_list, augment=False):\n",
    "        img_idx = np.round(np.linspace(0,self.total_frames-1,self.frames_to_sample)).astype(int)\n",
    "        batch_size=self.batch_size\n",
    "        while True:\n",
    "            t = np.random.permutation(folder_list)\n",
    "            num_batches = len(t)//batch_size\n",
    "        \n",
    "            for batch in range(num_batches): \n",
    "                batch_data, batch_labels= self.one_batch_data(source_path,t,batch,batch_size,img_idx,augment)\n",
    "                yield batch_data, batch_labels \n",
    "\n",
    "            remaining_seq=len(t)%batch_size\n",
    "        \n",
    "            if (remaining_seq != 0):\n",
    "                batch_data, batch_labels= self.one_batch_data(source_path,t,num_batches,batch_size,img_idx,augment,remaining_seq)\n",
    "                yield batch_data, batch_labels \n",
    "    \n",
    "    \n",
    "    def one_batch_data(self,source_path,t,batch,batch_size,img_idx,augment,remaining_seq=0):\n",
    "    \n",
    "        seq_len = remaining_seq if remaining_seq else batch_size\n",
    "    \n",
    "        batch_data = np.zeros((seq_len,len(img_idx),self.image_height,self.image_width,self.channels)) \n",
    "        batch_labels = np.zeros((seq_len,self.num_classes)) \n",
    "    \n",
    "        if (augment): batch_data_aug = np.zeros((seq_len,len(img_idx),self.image_height,self.image_width,self.channels))\n",
    "\n",
    "        \n",
    "        for folder in range(seq_len): \n",
    "            imgs = os.listdir(source_path+'/'+ t[folder + (batch*batch_size)].split(';')[0]) \n",
    "            for idx,item in enumerate(img_idx): \n",
    "                image = imread(source_path+'/'+ t[folder + (batch*batch_size)].strip().split(';')[0]+'/'+imgs[item]).astype(np.float32)\n",
    "                image_resized=imresize(image,(self.image_height,self.image_width,3))\n",
    "            \n",
    "\n",
    "                batch_data[folder,idx,:,:,0] = (image_resized[:,:,0])/255\n",
    "                batch_data[folder,idx,:,:,1] = (image_resized[:,:,1])/255\n",
    "                batch_data[folder,idx,:,:,2] = (image_resized[:,:,2])/255\n",
    "            \n",
    "                if (augment):\n",
    "                    shifted = cv2.warpAffine(image, \n",
    "                                             np.float32([[1, 0, np.random.randint(-30,30)],[0, 1, np.random.randint(-30,30)]]), \n",
    "                                            (image.shape[1], image.shape[0]))\n",
    "                    \n",
    "                    gray = cv2.cvtColor(shifted,cv2.COLOR_BGR2GRAY)\n",
    "\n",
    "                    x0, y0 = np.argwhere(gray > 0).min(axis=0)\n",
    "                    x1, y1 = np.argwhere(gray > 0).max(axis=0) \n",
    "                    \n",
    "                    cropped=shifted[x0:x1,y0:y1,:]\n",
    "                    \n",
    "                    image_resized=imresize(cropped,(self.image_height,self.image_width,3))\n",
    "                    \n",
    "                    #shifted = cv2.warpAffine(image_resized, \n",
    "                    #                        np.float32([[1, 0, np.random.randint(-3,3)],[0, 1, np.random.randint(-3,3)]]), \n",
    "                    #                        (image_resized.shape[1], image_resized.shape[0]))\n",
    "            \n",
    "                    batch_data_aug[folder,idx,:,:,0] = (image_resized[:,:,0])/255\n",
    "                    batch_data_aug[folder,idx,:,:,1] = (image_resized[:,:,1])/255\n",
    "                    batch_data_aug[folder,idx,:,:,2] = (image_resized[:,:,2])/255\n",
    "                \n",
    "            \n",
    "            batch_labels[folder, int(t[folder + (batch*batch_size)].strip().split(';')[2])] = 1\n",
    "            \n",
    "    \n",
    "        if (augment):\n",
    "            batch_data=np.concatenate([batch_data,batch_data_aug])\n",
    "            batch_labels=np.concatenate([batch_labels,batch_labels])\n",
    "\n",
    "        \n",
    "        return(batch_data,batch_labels)\n",
    "    \n",
    "    \n",
    "    def train_model(self, model, augment_data=False):\n",
    "        train_generator = self.generator(self.train_path, self.train_doc,augment=augment_data)\n",
    "        val_generator = self.generator(self.val_path, self.val_doc)\n",
    "\n",
    "        model_name = 'model_init' + '_' + str(datetime.datetime.now()).replace(' ','').replace(':','_') + '/'\n",
    "    \n",
    "        if not os.path.exists(model_name):\n",
    "            os.mkdir(model_name)\n",
    "        \n",
    "        filepath = model_name + 'model-{epoch:05d}-{loss:.5f}-{categorical_accuracy:.5f}-{val_loss:.5f}-{val_categorical_accuracy:.5f}.h5'\n",
    "\n",
    "        checkpoint = ModelCheckpoint(filepath, monitor='val_loss', verbose=1, save_best_only=False, save_weights_only=False, mode='auto', period=1)\n",
    "        LR = ReduceLROnPlateau(monitor='val_loss', factor=0.2, verbose=1, patience=4)\n",
    "        callbacks_list = [checkpoint, LR]\n",
    "\n",
    "        if (self.num_train_sequences%self.batch_size) == 0:\n",
    "            steps_per_epoch = int(self.num_train_sequences/self.batch_size)\n",
    "        else:\n",
    "            steps_per_epoch = (self.num_train_sequences//self.batch_size) + 1\n",
    "\n",
    "        if (self.num_val_sequences%self.batch_size) == 0:\n",
    "            validation_steps = int(self.num_val_sequences/self.batch_size)\n",
    "        else:\n",
    "            validation_steps = (self.num_val_sequences//self.batch_size) + 1\n",
    "    \n",
    "        history=model.fit_generator(train_generator, steps_per_epoch=steps_per_epoch, epochs=self.num_epochs, verbose=1, \n",
    "                            callbacks=callbacks_list, validation_data=val_generator, \n",
    "                            validation_steps=validation_steps, class_weight=None, workers=1, initial_epoch=0)\n",
    "        return history\n",
    "\n",
    "        \n",
    "    @abc.abstractmethod\n",
    "    def define_model(self):\n",
    "        pass"
   ]
  },
  {
   "cell_type": "code",
   "execution_count": 17,
   "metadata": {},
   "outputs": [],
   "source": [
    "class RNNCNN1(ModelBuilder):\n",
    "    \n",
    "    def define_model(self,lstm_cells=64,dense_neurons=64,dropout=0.25):\n",
    "\n",
    "        model = Sequential()\n",
    "\n",
    "        model.add(TimeDistributed(Conv2D(16, (3, 3) , padding='same', activation='relu'),\n",
    "                                  input_shape=(self.frames_to_sample,self.image_height,self.image_width,self.channels)))\n",
    "        model.add(TimeDistributed(BatchNormalization()))\n",
    "        model.add(TimeDistributed(MaxPooling2D((2, 2))))\n",
    "        \n",
    "        model.add(TimeDistributed(Conv2D(32, (3, 3) , padding='same', activation='relu')))\n",
    "        model.add(TimeDistributed(BatchNormalization()))\n",
    "        model.add(TimeDistributed(MaxPooling2D((2, 2))))\n",
    "        \n",
    "        model.add(TimeDistributed(Conv2D(64, (3, 3) , padding='same', activation='relu')))\n",
    "        model.add(TimeDistributed(BatchNormalization()))\n",
    "        model.add(TimeDistributed(MaxPooling2D((2, 2))))\n",
    "        \n",
    "        model.add(TimeDistributed(Conv2D(128, (3, 3) , padding='same', activation='relu')))\n",
    "        model.add(TimeDistributed(BatchNormalization()))\n",
    "        model.add(TimeDistributed(MaxPooling2D((2, 2))))\n",
    "        \n",
    "        model.add(TimeDistributed(Conv2D(256, (3, 3) , padding='same', activation='relu')))\n",
    "        model.add(TimeDistributed(BatchNormalization()))\n",
    "        model.add(TimeDistributed(MaxPooling2D((2, 2))))\n",
    "        \n",
    "        #model.add(TimeDistributed(Conv2D(512, (2, 2) , padding='valid', activation='relu')))\n",
    "       # model.add(TimeDistributed(BatchNormalization()))\n",
    "       # model.add(TimeDistributed(MaxPooling2D((2, 2))))\n",
    "\n",
    "        model.add(TimeDistributed(Flatten()))\n",
    "\n",
    "\n",
    "        model.add(LSTM(lstm_cells))\n",
    "        model.add(Dropout(dropout))\n",
    "        \n",
    "        model.add(Dense(dense_neurons,activation='relu'))\n",
    "        model.add(Dropout(dropout))\n",
    "        \n",
    "        model.add(Dense(self.num_classes, activation='softmax'))\n",
    "        optimiser = optimizers.Adam()\n",
    "        model.compile(optimizer=optimiser, loss='categorical_crossentropy', metrics=['categorical_accuracy'])\n",
    "        return model"
   ]
  },
  {
   "cell_type": "code",
   "execution_count": 18,
   "metadata": {},
   "outputs": [
    {
     "name": "stdout",
     "output_type": "stream",
     "text": [
      "_________________________________________________________________\n",
      "Layer (type)                 Output Shape              Param #   \n",
      "=================================================================\n",
      "time_distributed_17 (TimeDis (None, 18, 120, 120, 16)  448       \n",
      "_________________________________________________________________\n",
      "time_distributed_18 (TimeDis (None, 18, 120, 120, 16)  64        \n",
      "_________________________________________________________________\n",
      "time_distributed_19 (TimeDis (None, 18, 60, 60, 16)    0         \n",
      "_________________________________________________________________\n",
      "time_distributed_20 (TimeDis (None, 18, 60, 60, 32)    4640      \n",
      "_________________________________________________________________\n",
      "time_distributed_21 (TimeDis (None, 18, 60, 60, 32)    128       \n",
      "_________________________________________________________________\n",
      "time_distributed_22 (TimeDis (None, 18, 30, 30, 32)    0         \n",
      "_________________________________________________________________\n",
      "time_distributed_23 (TimeDis (None, 18, 30, 30, 64)    18496     \n",
      "_________________________________________________________________\n",
      "time_distributed_24 (TimeDis (None, 18, 30, 30, 64)    256       \n",
      "_________________________________________________________________\n",
      "time_distributed_25 (TimeDis (None, 18, 15, 15, 64)    0         \n",
      "_________________________________________________________________\n",
      "time_distributed_26 (TimeDis (None, 18, 15, 15, 128)   73856     \n",
      "_________________________________________________________________\n",
      "time_distributed_27 (TimeDis (None, 18, 15, 15, 128)   512       \n",
      "_________________________________________________________________\n",
      "time_distributed_28 (TimeDis (None, 18, 7, 7, 128)     0         \n",
      "_________________________________________________________________\n",
      "time_distributed_29 (TimeDis (None, 18, 7, 7, 256)     295168    \n",
      "_________________________________________________________________\n",
      "time_distributed_30 (TimeDis (None, 18, 7, 7, 256)     1024      \n",
      "_________________________________________________________________\n",
      "time_distributed_31 (TimeDis (None, 18, 3, 3, 256)     0         \n",
      "_________________________________________________________________\n",
      "time_distributed_32 (TimeDis (None, 18, 2304)          0         \n",
      "_________________________________________________________________\n",
      "lstm_2 (LSTM)                (None, 128)               1245696   \n",
      "_________________________________________________________________\n",
      "dropout_3 (Dropout)          (None, 128)               0         \n",
      "_________________________________________________________________\n",
      "dense_3 (Dense)              (None, 128)               16512     \n",
      "_________________________________________________________________\n",
      "dropout_4 (Dropout)          (None, 128)               0         \n",
      "_________________________________________________________________\n",
      "dense_4 (Dense)              (None, 5)                 645       \n",
      "=================================================================\n",
      "Total params: 1,657,445\n",
      "Trainable params: 1,656,453\n",
      "Non-trainable params: 992\n",
      "_________________________________________________________________\n"
     ]
    }
   ],
   "source": [
    "rnn_cnn1=RNNCNN1()\n",
    "rnn_cnn1.initialize_path(project_folder)\n",
    "rnn_cnn1.initialize_image_properties(image_height=120,image_width=120)\n",
    "rnn_cnn1.initialize_hyperparams(frames_to_sample=18,batch_size=20,num_epochs=20)\n",
    "rnn_cnn1_model=rnn_cnn1.define_model(lstm_cells=128,dense_neurons=128,dropout=0.25)\n",
    "rnn_cnn1_model.summary()"
   ]
  },
  {
   "cell_type": "code",
   "execution_count": 19,
   "metadata": {},
   "outputs": [
    {
     "name": "stdout",
     "output_type": "stream",
     "text": [
      "Total Params: 1657445\n",
      "Epoch 1/20\n",
      "34/34 [==============================] - 201s 6s/step - loss: 1.4109 - categorical_accuracy: 0.3819 - val_loss: 1.2195 - val_categorical_accuracy: 0.4900\n",
      "\n",
      "Epoch 00001: saving model to model_init_2020-03-3010_24_42.905043/model-00001-1.41795-0.38311-1.21946-0.49000.h5\n",
      "Epoch 2/20\n",
      "34/34 [==============================] - 97s 3s/step - loss: 1.1497 - categorical_accuracy: 0.5166 - val_loss: 1.6751 - val_categorical_accuracy: 0.3700\n",
      "\n",
      "Epoch 00002: saving model to model_init_2020-03-3010_24_42.905043/model-00002-1.15164-0.52112-1.67507-0.37000.h5\n",
      "Epoch 3/20\n",
      "34/34 [==============================] - 100s 3s/step - loss: 0.9940 - categorical_accuracy: 0.5931 - val_loss: 1.3843 - val_categorical_accuracy: 0.4600\n",
      "\n",
      "Epoch 00003: saving model to model_init_2020-03-3010_24_42.905043/model-00003-0.99651-0.59955-1.38433-0.46000.h5\n",
      "Epoch 4/20\n",
      "34/34 [==============================] - 100s 3s/step - loss: 0.8663 - categorical_accuracy: 0.6667 - val_loss: 1.0229 - val_categorical_accuracy: 0.6200\n",
      "\n",
      "Epoch 00004: saving model to model_init_2020-03-3010_24_42.905043/model-00004-0.86620-0.66667-1.02294-0.62000.h5\n",
      "Epoch 5/20\n",
      "34/34 [==============================] - 99s 3s/step - loss: 0.8361 - categorical_accuracy: 0.6711 - val_loss: 0.7635 - val_categorical_accuracy: 0.7000\n",
      "\n",
      "Epoch 00005: saving model to model_init_2020-03-3010_24_42.905043/model-00005-0.80189-0.67949-0.76348-0.70000.h5\n",
      "Epoch 6/20\n",
      "34/34 [==============================] - 99s 3s/step - loss: 0.7876 - categorical_accuracy: 0.6957 - val_loss: 1.3161 - val_categorical_accuracy: 0.4900\n",
      "\n",
      "Epoch 00006: saving model to model_init_2020-03-3010_24_42.905043/model-00006-0.78101-0.70060-1.31607-0.49000.h5\n",
      "Epoch 7/20\n",
      "34/34 [==============================] - 99s 3s/step - loss: 0.7121 - categorical_accuracy: 0.7219 - val_loss: 1.4181 - val_categorical_accuracy: 0.4500\n",
      "\n",
      "Epoch 00007: saving model to model_init_2020-03-3010_24_42.905043/model-00007-0.71983-0.71493-1.41808-0.45000.h5\n",
      "Epoch 8/20\n",
      "34/34 [==============================] - 99s 3s/step - loss: 0.5833 - categorical_accuracy: 0.7752 - val_loss: 2.6318 - val_categorical_accuracy: 0.2700\n",
      "\n",
      "Epoch 00008: saving model to model_init_2020-03-3010_24_42.905043/model-00008-0.58784-0.77376-2.63178-0.27000.h5\n",
      "Epoch 9/20\n",
      "34/34 [==============================] - 99s 3s/step - loss: 0.5483 - categorical_accuracy: 0.8010 - val_loss: 1.1230 - val_categorical_accuracy: 0.5400\n",
      "\n",
      "Epoch 00009: saving model to model_init_2020-03-3010_24_42.905043/model-00009-0.53753-0.80015-1.12299-0.54000.h5\n",
      "\n",
      "Epoch 00009: ReduceLROnPlateau reducing learning rate to 0.00020000000949949026.\n",
      "Epoch 10/20\n",
      "34/34 [==============================] - 100s 3s/step - loss: 0.5015 - categorical_accuracy: 0.8028 - val_loss: 0.9940 - val_categorical_accuracy: 0.6800\n",
      "\n",
      "Epoch 00010: saving model to model_init_2020-03-3010_24_42.905043/model-00010-0.48233-0.81448-0.99399-0.68000.h5\n",
      "Epoch 11/20\n",
      "34/34 [==============================] - 100s 3s/step - loss: 0.3902 - categorical_accuracy: 0.8462 - val_loss: 0.6411 - val_categorical_accuracy: 0.7500\n",
      "\n",
      "Epoch 00011: saving model to model_init_2020-03-3010_24_42.905043/model-00011-0.38427-0.85068-0.64113-0.75000.h5\n",
      "Epoch 12/20\n",
      "34/34 [==============================] - 99s 3s/step - loss: 0.3126 - categorical_accuracy: 0.8823 - val_loss: 0.5824 - val_categorical_accuracy: 0.7700\n",
      "\n",
      "Epoch 00012: saving model to model_init_2020-03-3010_24_42.905043/model-00012-0.31686-0.87934-0.58238-0.77000.h5\n",
      "Epoch 13/20\n",
      "34/34 [==============================] - 99s 3s/step - loss: 0.2891 - categorical_accuracy: 0.9054 - val_loss: 0.5752 - val_categorical_accuracy: 0.7900\n",
      "\n",
      "Epoch 00013: saving model to model_init_2020-03-3010_24_42.905043/model-00013-0.28840-0.90724-0.57518-0.79000.h5\n",
      "Epoch 14/20\n",
      "34/34 [==============================] - 99s 3s/step - loss: 0.3061 - categorical_accuracy: 0.8845 - val_loss: 0.5647 - val_categorical_accuracy: 0.8100\n",
      "\n",
      "Epoch 00014: saving model to model_init_2020-03-3010_24_42.905043/model-00014-0.28591-0.89819-0.56470-0.81000.h5\n",
      "Epoch 15/20\n",
      "34/34 [==============================] - 99s 3s/step - loss: 0.2460 - categorical_accuracy: 0.9117 - val_loss: 0.5322 - val_categorical_accuracy: 0.7800\n",
      "\n",
      "Epoch 00015: saving model to model_init_2020-03-3010_24_42.905043/model-00015-0.24966-0.90950-0.53216-0.78000.h5\n",
      "Epoch 16/20\n",
      "34/34 [==============================] - 100s 3s/step - loss: 0.2227 - categorical_accuracy: 0.9301 - val_loss: 0.5010 - val_categorical_accuracy: 0.8000\n",
      "\n",
      "Epoch 00016: saving model to model_init_2020-03-3010_24_42.905043/model-00016-0.22235-0.92836-0.50100-0.80000.h5\n",
      "Epoch 17/20\n",
      "34/34 [==============================] - 100s 3s/step - loss: 0.2465 - categorical_accuracy: 0.9121 - val_loss: 0.4986 - val_categorical_accuracy: 0.8200\n",
      "\n",
      "Epoch 00017: saving model to model_init_2020-03-3010_24_42.905043/model-00017-0.22765-0.92232-0.49856-0.82000.h5\n",
      "Epoch 18/20\n",
      "34/34 [==============================] - 100s 3s/step - loss: 0.1978 - categorical_accuracy: 0.9404 - val_loss: 0.6254 - val_categorical_accuracy: 0.7400\n",
      "\n",
      "Epoch 00018: saving model to model_init_2020-03-3010_24_42.905043/model-00018-0.20176-0.93891-0.62541-0.74000.h5\n",
      "Epoch 19/20\n",
      "34/34 [==============================] - 100s 3s/step - loss: 0.1927 - categorical_accuracy: 0.9437 - val_loss: 0.4881 - val_categorical_accuracy: 0.8100\n",
      "\n",
      "Epoch 00019: saving model to model_init_2020-03-3010_24_42.905043/model-00019-0.18470-0.94646-0.48806-0.81000.h5\n",
      "Epoch 20/20\n",
      "34/34 [==============================] - 99s 3s/step - loss: 0.1716 - categorical_accuracy: 0.9492 - val_loss: 0.5057 - val_categorical_accuracy: 0.8400\n",
      "\n",
      "Epoch 00020: saving model to model_init_2020-03-3010_24_42.905043/model-00020-0.17427-0.94796-0.50573-0.84000.h5\n"
     ]
    }
   ],
   "source": [
    "print(\"Total Params:\", rnn_cnn1_model.count_params())\n",
    "history_model9=rnn_cnn1.train_model(rnn_cnn1_model,augment_data=True)"
   ]
  },
  {
   "cell_type": "code",
   "execution_count": 20,
   "metadata": {},
   "outputs": [
    {
     "data": {
      "image/png": "[encoded data removed]",
      "text/plain": [
       "<Figure size 1080x288 with 2 Axes>"
      ]
     },
     "metadata": {},
     "output_type": "display_data"
    }
   ],
   "source": [
    "plot(history_model9)"
   ]
  },
  {
   "cell_type": "markdown",
   "metadata": {},
   "source": [
    "### Model II Experiment [15]"
   ]
  },
  {
   "cell_type": "code",
   "execution_count": 21,
   "metadata": {},
   "outputs": [],
   "source": [
    "class ModelBuilderMoreAugmentation(metaclass= abc.ABCMeta):\n",
    "    \n",
    "    def initialize_path(self,project_folder):\n",
    "        self.train_doc = np.random.permutation(open(project_folder + '/' + 'train.csv').readlines())\n",
    "        self.val_doc = np.random.permutation(open(project_folder + '/' + 'val.csv').readlines())\n",
    "        self.train_path = project_folder + '/' + 'train'\n",
    "        self.val_path =  project_folder + '/' + 'val'\n",
    "        self.num_train_sequences = len(self.train_doc)\n",
    "        self.num_val_sequences = len(self.val_doc)\n",
    "        \n",
    "    def initialize_image_properties(self,image_height=100,image_width=100):\n",
    "        self.image_height=image_height\n",
    "        self.image_width=image_width\n",
    "        self.channels=3\n",
    "        self.num_classes=5\n",
    "        self.total_frames=30\n",
    "          \n",
    "    def initialize_hyperparams(self,frames_to_sample=30,batch_size=20,num_epochs=20):\n",
    "        self.frames_to_sample=frames_to_sample\n",
    "        self.batch_size=batch_size\n",
    "        self.num_epochs=num_epochs\n",
    "        \n",
    "        \n",
    "    def generator(self,source_path, folder_list, augment=False):\n",
    "        img_idx = np.round(np.linspace(0,self.total_frames-1,self.frames_to_sample)).astype(int)\n",
    "        batch_size=self.batch_size\n",
    "        while True:\n",
    "            t = np.random.permutation(folder_list)\n",
    "            num_batches = len(t)//batch_size\n",
    "        \n",
    "            for batch in range(num_batches): \n",
    "                batch_data, batch_labels= self.one_batch_data(source_path,t,batch,batch_size,img_idx,augment)\n",
    "                yield batch_data, batch_labels \n",
    "\n",
    "            remaining_seq=len(t)%batch_size\n",
    "        \n",
    "            if (remaining_seq != 0):\n",
    "                batch_data, batch_labels= self.one_batch_data(source_path,t,num_batches,batch_size,img_idx,augment,remaining_seq)\n",
    "                yield batch_data, batch_labels \n",
    "    \n",
    "    \n",
    "    def one_batch_data(self,source_path,t,batch,batch_size,img_idx,augment,remaining_seq=0):\n",
    "    \n",
    "        seq_len = remaining_seq if remaining_seq else batch_size\n",
    "    \n",
    "        batch_data = np.zeros((seq_len,len(img_idx),self.image_height,self.image_width,self.channels)) \n",
    "        batch_labels = np.zeros((seq_len,self.num_classes)) \n",
    "    \n",
    "        if (augment): batch_data_aug = np.zeros((seq_len,len(img_idx),self.image_height,self.image_width,self.channels))\n",
    "\n",
    "        \n",
    "        for folder in range(seq_len): \n",
    "            imgs = os.listdir(source_path+'/'+ t[folder + (batch*batch_size)].split(';')[0]) \n",
    "            for idx,item in enumerate(img_idx): \n",
    "                image = imread(source_path+'/'+ t[folder + (batch*batch_size)].strip().split(';')[0]+'/'+imgs[item]).astype(np.float32)\n",
    "                image_resized=imresize(image,(self.image_height,self.image_width,3))\n",
    "            \n",
    "\n",
    "                batch_data[folder,idx,:,:,0] = (image_resized[:,:,0])/255\n",
    "                batch_data[folder,idx,:,:,1] = (image_resized[:,:,1])/255\n",
    "                batch_data[folder,idx,:,:,2] = (image_resized[:,:,2])/255\n",
    "            \n",
    "                if (augment):\n",
    "                    shifted = cv2.warpAffine(image, \n",
    "                                             np.float32([[1, 0, np.random.randint(-30,30)],[0, 1, np.random.randint(-30,30)]]), \n",
    "                                            (image.shape[1], image.shape[0]))\n",
    "                    \n",
    "                    gray = cv2.cvtColor(shifted,cv2.COLOR_BGR2GRAY)\n",
    "\n",
    "                    x0, y0 = np.argwhere(gray > 0).min(axis=0)\n",
    "                    x1, y1 = np.argwhere(gray > 0).max(axis=0) \n",
    "                    \n",
    "                    cropped=shifted[x0:x1,y0:y1,:]\n",
    "                    \n",
    "                    image_resized=imresize(cropped,(self.image_height,self.image_width,3))\n",
    "                    \n",
    "                    M = cv2.getRotationMatrix2D((self.image_width//2,self.image_height//2),\n",
    "                                                np.random.randint(-10,10), 1.0)\n",
    "                    rotated = cv2.warpAffine(image_resized, M, (self.image_width, self.image_height))\n",
    "                    \n",
    "                    #shifted = cv2.warpAffine(image_resized, \n",
    "                    #                        np.float32([[1, 0, np.random.randint(-3,3)],[0, 1, np.random.randint(-3,3)]]), \n",
    "                    #                        (image_resized.shape[1], image_resized.shape[0]))\n",
    "            \n",
    "                    batch_data_aug[folder,idx,:,:,0] = (rotated[:,:,0])/255\n",
    "                    batch_data_aug[folder,idx,:,:,1] = (rotated[:,:,1])/255\n",
    "                    batch_data_aug[folder,idx,:,:,2] = (rotated[:,:,2])/255\n",
    "                \n",
    "            \n",
    "            batch_labels[folder, int(t[folder + (batch*batch_size)].strip().split(';')[2])] = 1\n",
    "            \n",
    "    \n",
    "        if (augment):\n",
    "            batch_data=np.concatenate([batch_data,batch_data_aug])\n",
    "            batch_labels=np.concatenate([batch_labels,batch_labels])\n",
    "\n",
    "        \n",
    "        return(batch_data,batch_labels)\n",
    "    \n",
    "    \n",
    "    def train_model(self, model, augment_data=False):\n",
    "        train_generator = self.generator(self.train_path, self.train_doc,augment=augment_data)\n",
    "        val_generator = self.generator(self.val_path, self.val_doc)\n",
    "\n",
    "        model_name = 'model_init' + '_' + str(datetime.datetime.now()).replace(' ','').replace(':','_') + '/'\n",
    "    \n",
    "        if not os.path.exists(model_name):\n",
    "            os.mkdir(model_name)\n",
    "        \n",
    "        filepath = model_name + 'model-{epoch:05d}-{loss:.5f}-{categorical_accuracy:.5f}-{val_loss:.5f}-{val_categorical_accuracy:.5f}.h5'\n",
    "\n",
    "        checkpoint = ModelCheckpoint(filepath, monitor='val_loss', verbose=1, save_best_only=False, save_weights_only=False, mode='auto', period=1)\n",
    "        LR = ReduceLROnPlateau(monitor='val_loss', factor=0.2, verbose=1, patience=4)\n",
    "        callbacks_list = [checkpoint, LR]\n",
    "\n",
    "        if (self.num_train_sequences%self.batch_size) == 0:\n",
    "            steps_per_epoch = int(self.num_train_sequences/self.batch_size)\n",
    "        else:\n",
    "            steps_per_epoch = (self.num_train_sequences//self.batch_size) + 1\n",
    "\n",
    "        if (self.num_val_sequences%self.batch_size) == 0:\n",
    "            validation_steps = int(self.num_val_sequences/self.batch_size)\n",
    "        else:\n",
    "            validation_steps = (self.num_val_sequences//self.batch_size) + 1\n",
    "    \n",
    "        history=model.fit_generator(train_generator, steps_per_epoch=steps_per_epoch, epochs=self.num_epochs, verbose=1, \n",
    "                            callbacks=callbacks_list, validation_data=val_generator, \n",
    "                            validation_steps=validation_steps, class_weight=None, workers=1, initial_epoch=0)\n",
    "        return history\n",
    "\n",
    "        \n",
    "    @abc.abstractmethod\n",
    "    def define_model(self):\n",
    "        pass"
   ]
  },
  {
   "cell_type": "code",
   "execution_count": 22,
   "metadata": {},
   "outputs": [],
   "source": [
    "class RNNCNN2(ModelBuilderMoreAugmentation):\n",
    "    \n",
    "    def define_model(self,lstm_cells=64,dense_neurons=64,dropout=0.25):\n",
    "\n",
    "        model = Sequential()\n",
    "\n",
    "        model.add(TimeDistributed(Conv2D(16, (3, 3) , padding='same', activation='relu'),\n",
    "                                  input_shape=(self.frames_to_sample,self.image_height,self.image_width,self.channels)))\n",
    "        model.add(TimeDistributed(BatchNormalization()))\n",
    "        model.add(TimeDistributed(MaxPooling2D((2, 2))))\n",
    "        \n",
    "        model.add(TimeDistributed(Conv2D(32, (3, 3) , padding='same', activation='relu')))\n",
    "        model.add(TimeDistributed(BatchNormalization()))\n",
    "        model.add(TimeDistributed(MaxPooling2D((2, 2))))\n",
    "        \n",
    "        model.add(TimeDistributed(Conv2D(64, (3, 3) , padding='same', activation='relu')))\n",
    "        model.add(TimeDistributed(BatchNormalization()))\n",
    "        model.add(TimeDistributed(MaxPooling2D((2, 2))))\n",
    "        \n",
    "        model.add(TimeDistributed(Conv2D(128, (3, 3) , padding='same', activation='relu')))\n",
    "        model.add(TimeDistributed(BatchNormalization()))\n",
    "        model.add(TimeDistributed(MaxPooling2D((2, 2))))\n",
    "        \n",
    "\n",
    "        model.add(TimeDistributed(Flatten()))\n",
    "\n",
    "\n",
    "        model.add(GRU(lstm_cells))\n",
    "        model.add(Dropout(dropout))\n",
    "        \n",
    "        model.add(Dense(dense_neurons,activation='relu'))\n",
    "        model.add(Dropout(dropout))\n",
    "        \n",
    "        model.add(Dense(self.num_classes, activation='softmax'))\n",
    "        optimiser = optimizers.Adam(lr=0.0002)\n",
    "        model.compile(optimizer=optimiser, loss='categorical_crossentropy', metrics=['categorical_accuracy'])\n",
    "        return model"
   ]
  },
  {
   "cell_type": "code",
   "execution_count": 23,
   "metadata": {},
   "outputs": [
    {
     "name": "stdout",
     "output_type": "stream",
     "text": [
      "_________________________________________________________________\n",
      "Layer (type)                 Output Shape              Param #   \n",
      "=================================================================\n",
      "time_distributed_33 (TimeDis (None, 18, 120, 120, 16)  448       \n",
      "_________________________________________________________________\n",
      "time_distributed_34 (TimeDis (None, 18, 120, 120, 16)  64        \n",
      "_________________________________________________________________\n",
      "time_distributed_35 (TimeDis (None, 18, 60, 60, 16)    0         \n",
      "_________________________________________________________________\n",
      "time_distributed_36 (TimeDis (None, 18, 60, 60, 32)    4640      \n",
      "_________________________________________________________________\n",
      "time_distributed_37 (TimeDis (None, 18, 60, 60, 32)    128       \n",
      "_________________________________________________________________\n",
      "time_distributed_38 (TimeDis (None, 18, 30, 30, 32)    0         \n",
      "_________________________________________________________________\n",
      "time_distributed_39 (TimeDis (None, 18, 30, 30, 64)    18496     \n",
      "_________________________________________________________________\n",
      "time_distributed_40 (TimeDis (None, 18, 30, 30, 64)    256       \n",
      "_________________________________________________________________\n",
      "time_distributed_41 (TimeDis (None, 18, 15, 15, 64)    0         \n",
      "_________________________________________________________________\n",
      "time_distributed_42 (TimeDis (None, 18, 15, 15, 128)   73856     \n",
      "_________________________________________________________________\n",
      "time_distributed_43 (TimeDis (None, 18, 15, 15, 128)   512       \n",
      "_________________________________________________________________\n",
      "time_distributed_44 (TimeDis (None, 18, 7, 7, 128)     0         \n",
      "_________________________________________________________________\n",
      "time_distributed_45 (TimeDis (None, 18, 6272)          0         \n",
      "_________________________________________________________________\n",
      "gru_1 (GRU)                  (None, 128)               2457984   \n",
      "_________________________________________________________________\n",
      "dropout_5 (Dropout)          (None, 128)               0         \n",
      "_________________________________________________________________\n",
      "dense_5 (Dense)              (None, 128)               16512     \n",
      "_________________________________________________________________\n",
      "dropout_6 (Dropout)          (None, 128)               0         \n",
      "_________________________________________________________________\n",
      "dense_6 (Dense)              (None, 5)                 645       \n",
      "=================================================================\n",
      "Total params: 2,573,541\n",
      "Trainable params: 2,573,061\n",
      "Non-trainable params: 480\n",
      "_________________________________________________________________\n"
     ]
    }
   ],
   "source": [
    "rnn_cnn2=RNNCNN2()\n",
    "rnn_cnn2.initialize_path(project_folder)\n",
    "rnn_cnn2.initialize_image_properties(image_height=120,image_width=120)\n",
    "rnn_cnn2.initialize_hyperparams(frames_to_sample=18,batch_size=20,num_epochs=20)\n",
    "rnn_cnn2_model=rnn_cnn2.define_model(lstm_cells=128,dense_neurons=128,dropout=0.25)\n",
    "rnn_cnn2_model.summary()"
   ]
  },
  {
   "cell_type": "code",
   "execution_count": 24,
   "metadata": {},
   "outputs": [
    {
     "name": "stdout",
     "output_type": "stream",
     "text": [
      "Total Params: 2573541\n",
      "Epoch 1/20\n",
      "34/34 [==============================] - 107s 3s/step - loss: 1.5441 - categorical_accuracy: 0.3271 - val_loss: 1.2014 - val_categorical_accuracy: 0.5700\n",
      "\n",
      "Epoch 00001: saving model to model_init_2020-03-3011_24_13.236891/model-00001-1.53674-0.33107-1.20136-0.57000.h5\n",
      "Epoch 2/20\n",
      "34/34 [==============================] - 99s 3s/step - loss: 1.1142 - categorical_accuracy: 0.5614 - val_loss: 1.1158 - val_categorical_accuracy: 0.5200\n",
      "\n",
      "Epoch 00002: saving model to model_init_2020-03-3011_24_13.236891/model-00002-1.09968-0.56712-1.11585-0.52000.h5\n",
      "Epoch 3/20\n",
      "34/34 [==============================] - 101s 3s/step - loss: 0.9488 - categorical_accuracy: 0.6372 - val_loss: 0.9338 - val_categorical_accuracy: 0.6800\n",
      "\n",
      "Epoch 00003: saving model to model_init_2020-03-3011_24_13.236891/model-00003-0.93808-0.64480-0.93376-0.68000.h5\n",
      "Epoch 4/20\n",
      "34/34 [==============================] - 102s 3s/step - loss: 0.7743 - categorical_accuracy: 0.7163 - val_loss: 0.8416 - val_categorical_accuracy: 0.6900\n",
      "\n",
      "Epoch 00004: saving model to model_init_2020-03-3011_24_13.236891/model-00004-0.77642-0.71342-0.84157-0.69000.h5\n",
      "Epoch 5/20\n",
      "34/34 [==============================] - 101s 3s/step - loss: 0.6490 - categorical_accuracy: 0.7723 - val_loss: 0.8366 - val_categorical_accuracy: 0.6700\n",
      "\n",
      "Epoch 00005: saving model to model_init_2020-03-3011_24_13.236891/model-00005-0.63672-0.77074-0.83661-0.67000.h5\n",
      "Epoch 6/20\n",
      "34/34 [==============================] - 100s 3s/step - loss: 0.5472 - categorical_accuracy: 0.8113 - val_loss: 0.7593 - val_categorical_accuracy: 0.7300\n",
      "\n",
      "Epoch 00006: saving model to model_init_2020-03-3011_24_13.236891/model-00006-0.54158-0.81900-0.75930-0.73000.h5\n",
      "Epoch 7/20\n",
      "34/34 [==============================] - 100s 3s/step - loss: 0.4473 - categorical_accuracy: 0.8455 - val_loss: 0.7895 - val_categorical_accuracy: 0.7000\n",
      "\n",
      "Epoch 00007: saving model to model_init_2020-03-3011_24_13.236891/model-00007-0.45130-0.84163-0.78954-0.70000.h5\n",
      "Epoch 8/20\n",
      "34/34 [==============================] - 101s 3s/step - loss: 0.3655 - categorical_accuracy: 0.8918 - val_loss: 0.7175 - val_categorical_accuracy: 0.7600\n",
      "\n",
      "Epoch 00008: saving model to model_init_2020-03-3011_24_13.236891/model-00008-0.34337-0.89744-0.71755-0.76000.h5\n",
      "Epoch 9/20\n",
      "34/34 [==============================] - 100s 3s/step - loss: 0.3288 - categorical_accuracy: 0.9080 - val_loss: 0.7488 - val_categorical_accuracy: 0.7500\n",
      "\n",
      "Epoch 00009: saving model to model_init_2020-03-3011_24_13.236891/model-00009-0.33163-0.90573-0.74880-0.75000.h5\n",
      "Epoch 10/20\n",
      "34/34 [==============================] - 101s 3s/step - loss: 0.2588 - categorical_accuracy: 0.9242 - val_loss: 0.7368 - val_categorical_accuracy: 0.7900\n",
      "\n",
      "Epoch 00010: saving model to model_init_2020-03-3011_24_13.236891/model-00010-0.25977-0.92232-0.73678-0.79000.h5\n",
      "Epoch 11/20\n",
      "34/34 [==============================] - 101s 3s/step - loss: 0.2044 - categorical_accuracy: 0.9455 - val_loss: 0.6956 - val_categorical_accuracy: 0.7800\n",
      "\n",
      "Epoch 00011: saving model to model_init_2020-03-3011_24_13.236891/model-00011-0.20653-0.94419-0.69556-0.78000.h5\n",
      "Epoch 12/20\n",
      "34/34 [==============================] - 102s 3s/step - loss: 0.1738 - categorical_accuracy: 0.9581 - val_loss: 0.6899 - val_categorical_accuracy: 0.7600\n",
      "\n",
      "Epoch 00012: saving model to model_init_2020-03-3011_24_13.236891/model-00012-0.17681-0.95701-0.68987-0.76000.h5\n",
      "Epoch 13/20\n",
      "34/34 [==============================] - 102s 3s/step - loss: 0.1827 - categorical_accuracy: 0.9422 - val_loss: 0.7267 - val_categorical_accuracy: 0.7800\n",
      "\n",
      "Epoch 00013: saving model to model_init_2020-03-3011_24_13.236891/model-00013-0.16568-0.95324-0.72665-0.78000.h5\n",
      "Epoch 14/20\n",
      "34/34 [==============================] - 101s 3s/step - loss: 0.1778 - categorical_accuracy: 0.9441 - val_loss: 0.6887 - val_categorical_accuracy: 0.8100\n",
      "\n",
      "Epoch 00014: saving model to model_init_2020-03-3011_24_13.236891/model-00014-0.17970-0.94268-0.68866-0.81000.h5\n",
      "Epoch 15/20\n",
      "34/34 [==============================] - 100s 3s/step - loss: 0.1360 - categorical_accuracy: 0.9581 - val_loss: 0.7643 - val_categorical_accuracy: 0.7700\n",
      "\n",
      "Epoch 00015: saving model to model_init_2020-03-3011_24_13.236891/model-00015-0.13839-0.95701-0.76426-0.77000.h5\n",
      "Epoch 16/20\n",
      "34/34 [==============================] - 100s 3s/step - loss: 0.0901 - categorical_accuracy: 0.9845 - val_loss: 0.7623 - val_categorical_accuracy: 0.7600\n",
      "\n",
      "Epoch 00016: saving model to model_init_2020-03-3011_24_13.236891/model-00016-0.09115-0.98416-0.76235-0.76000.h5\n",
      "Epoch 17/20\n",
      "34/34 [==============================] - 102s 3s/step - loss: 0.0776 - categorical_accuracy: 0.9805 - val_loss: 0.7808 - val_categorical_accuracy: 0.7800\n",
      "\n",
      "Epoch 00017: saving model to model_init_2020-03-3011_24_13.236891/model-00017-0.07251-0.98416-0.78083-0.78000.h5\n",
      "Epoch 18/20\n",
      "34/34 [==============================] - 102s 3s/step - loss: 0.1095 - categorical_accuracy: 0.9698 - val_loss: 0.8350 - val_categorical_accuracy: 0.7400\n",
      "\n",
      "Epoch 00018: saving model to model_init_2020-03-3011_24_13.236891/model-00018-0.10998-0.96908-0.83498-0.74000.h5\n",
      "\n",
      "Epoch 00018: ReduceLROnPlateau reducing learning rate to 3.9999998989515007e-05.\n",
      "Epoch 19/20\n",
      "34/34 [==============================] - 101s 3s/step - loss: 0.0581 - categorical_accuracy: 0.9912 - val_loss: 0.8704 - val_categorical_accuracy: 0.7400\n",
      "\n",
      "Epoch 00019: saving model to model_init_2020-03-3011_24_13.236891/model-00019-0.05935-0.99095-0.87036-0.74000.h5\n",
      "Epoch 20/20\n",
      "34/34 [==============================] - 101s 3s/step - loss: 0.0761 - categorical_accuracy: 0.9746 - val_loss: 0.8359 - val_categorical_accuracy: 0.7600\n",
      "\n",
      "Epoch 00020: saving model to model_init_2020-03-3011_24_13.236891/model-00020-0.06131-0.98643-0.83589-0.76000.h5\n"
     ]
    }
   ],
   "source": [
    "print(\"Total Params:\", rnn_cnn2_model.count_params())\n",
    "history_model17=rnn_cnn2.train_model(rnn_cnn2_model,augment_data=True)"
   ]
  },
  {
   "cell_type": "code",
   "execution_count": 25,
   "metadata": {},
   "outputs": [
    {
     "data": {
      "image/png": "[encoded data removed]",
      "text/plain": [
       "<Figure size 1080x288 with 2 Axes>"
      ]
     },
     "metadata": {},
     "output_type": "display_data"
    }
   ],
   "source": [
    "plot(history_model17)"
   ]
  },
  {
   "cell_type": "markdown",
   "metadata": {},
   "source": [
    "### Model II Experiment [16]"
   ]
  },
  {
   "cell_type": "code",
   "execution_count": 26,
   "metadata": {},
   "outputs": [],
   "source": [
    "from keras.applications import mobilenet"
   ]
  },
  {
   "cell_type": "code",
   "execution_count": 27,
   "metadata": {},
   "outputs": [
    {
     "name": "stdout",
     "output_type": "stream",
     "text": [
      "Downloading data from https://github.com/fchollet/deep-learning-models/releases/download/v0.6/mobilenet_1_0_224_tf_no_top.h5\n",
      "17227776/17225924 [==============================] - 2s 0us/step\n"
     ]
    }
   ],
   "source": [
    "mobilenet_transfer = mobilenet.MobileNet(weights='imagenet', include_top=False)\n",
    "\n",
    "class RNNCNN_TL(ModelBuilderMoreAugmentation):\n",
    "    \n",
    "    def define_model(self,lstm_cells=64,dense_neurons=64,dropout=0.25):\n",
    "        \n",
    "        model = Sequential()\n",
    "        model.add(TimeDistributed(mobilenet_transfer,input_shape=(self.frames_to_sample,self.image_height,self.image_width,self.channels)))\n",
    "        \n",
    "        \n",
    "        for layer in model.layers:\n",
    "            layer.trainable = False\n",
    "        \n",
    "        \n",
    "        model.add(TimeDistributed(BatchNormalization()))\n",
    "        model.add(TimeDistributed(MaxPooling2D((2, 2))))\n",
    "        model.add(TimeDistributed(Flatten()))\n",
    "\n",
    "        model.add(LSTM(lstm_cells))\n",
    "        model.add(Dropout(dropout))\n",
    "        \n",
    "        model.add(Dense(dense_neurons,activation='relu'))\n",
    "        model.add(Dropout(dropout))\n",
    "        \n",
    "        model.add(Dense(self.num_classes, activation='softmax'))\n",
    "        \n",
    "        \n",
    "        optimiser = optimizers.Adam()\n",
    "        model.compile(optimizer=optimiser, loss='categorical_crossentropy', metrics=['categorical_accuracy'])\n",
    "        return model"
   ]
  },
  {
   "cell_type": "code",
   "execution_count": 28,
   "metadata": {},
   "outputs": [
    {
     "name": "stdout",
     "output_type": "stream",
     "text": [
      "_________________________________________________________________\n",
      "Layer (type)                 Output Shape              Param #   \n",
      "=================================================================\n",
      "time_distributed_46 (TimeDis (None, 16, 3, 3, 1024)    3228864   \n",
      "_________________________________________________________________\n",
      "time_distributed_47 (TimeDis (None, 16, 3, 3, 1024)    4096      \n",
      "_________________________________________________________________\n",
      "time_distributed_48 (TimeDis (None, 16, 1, 1, 1024)    0         \n",
      "_________________________________________________________________\n",
      "time_distributed_49 (TimeDis (None, 16, 1024)          0         \n",
      "_________________________________________________________________\n",
      "lstm_3 (LSTM)                (None, 128)               590336    \n",
      "_________________________________________________________________\n",
      "dropout_7 (Dropout)          (None, 128)               0         \n",
      "_________________________________________________________________\n",
      "dense_7 (Dense)              (None, 128)               16512     \n",
      "_________________________________________________________________\n",
      "dropout_8 (Dropout)          (None, 128)               0         \n",
      "_________________________________________________________________\n",
      "dense_8 (Dense)              (None, 5)                 645       \n",
      "=================================================================\n",
      "Total params: 3,840,453\n",
      "Trainable params: 609,541\n",
      "Non-trainable params: 3,230,912\n",
      "_________________________________________________________________\n"
     ]
    }
   ],
   "source": [
    "rnn_cnn_tl=RNNCNN_TL()\n",
    "rnn_cnn_tl.initialize_path(project_folder)\n",
    "rnn_cnn_tl.initialize_image_properties(image_height=120,image_width=120)\n",
    "rnn_cnn_tl.initialize_hyperparams(frames_to_sample=16,batch_size=5,num_epochs=20)\n",
    "rnn_cnn_tl_model=rnn_cnn_tl.define_model(lstm_cells=128,dense_neurons=128,dropout=0.25)\n",
    "rnn_cnn_tl_model.summary()"
   ]
  },
  {
   "cell_type": "code",
   "execution_count": 29,
   "metadata": {},
   "outputs": [
    {
     "name": "stdout",
     "output_type": "stream",
     "text": [
      "Total Params: 3840453\n",
      "Epoch 1/20\n",
      "133/133 [==============================] - 159s 1s/step - loss: 1.4646 - categorical_accuracy: 0.3607 - val_loss: 1.3475 - val_categorical_accuracy: 0.4600\n",
      "\n",
      "Epoch 00001: saving model to model_init_2020-03-3012_00_57.780855/model-00001-1.46489-0.36124-1.34751-0.46000.h5\n",
      "Epoch 2/20\n",
      "133/133 [==============================] - 86s 647ms/step - loss: 1.2388 - categorical_accuracy: 0.4857 - val_loss: 1.0954 - val_categorical_accuracy: 0.6100\n",
      "\n",
      "Epoch 00002: saving model to model_init_2020-03-3012_00_57.780855/model-00002-1.23762-0.48718-1.09537-0.61000.h5\n",
      "Epoch 3/20\n",
      "133/133 [==============================] - 88s 658ms/step - loss: 1.0489 - categorical_accuracy: 0.5965 - val_loss: 1.1694 - val_categorical_accuracy: 0.5300\n",
      "\n",
      "Epoch 00003: saving model to model_init_2020-03-3012_00_57.780855/model-00003-1.04566-0.59729-1.16943-0.53000.h5\n",
      "Epoch 4/20\n",
      "133/133 [==============================] - 87s 656ms/step - loss: 0.8780 - categorical_accuracy: 0.6572 - val_loss: 1.2274 - val_categorical_accuracy: 0.5700\n",
      "\n",
      "Epoch 00004: saving model to model_init_2020-03-3012_00_57.780855/model-00004-0.87175-0.65913-1.22743-0.57000.h5\n",
      "Epoch 5/20\n",
      "133/133 [==============================] - 87s 657ms/step - loss: 0.8154 - categorical_accuracy: 0.6870 - val_loss: 0.9098 - val_categorical_accuracy: 0.6700\n",
      "\n",
      "Epoch 00005: saving model to model_init_2020-03-3012_00_57.780855/model-00005-0.81517-0.68703-0.90984-0.67000.h5\n",
      "Epoch 6/20\n",
      "133/133 [==============================] - 88s 659ms/step - loss: 0.7878 - categorical_accuracy: 0.6832 - val_loss: 1.1532 - val_categorical_accuracy: 0.5000\n",
      "\n",
      "Epoch 00006: saving model to model_init_2020-03-3012_00_57.780855/model-00006-0.78726-0.68326-1.15323-0.50000.h5\n",
      "Epoch 7/20\n",
      "133/133 [==============================] - 88s 660ms/step - loss: 0.7007 - categorical_accuracy: 0.7155 - val_loss: 1.2278 - val_categorical_accuracy: 0.5200\n",
      "\n",
      "Epoch 00007: saving model to model_init_2020-03-3012_00_57.780855/model-00007-0.70131-0.71569-1.22782-0.52000.h5\n",
      "Epoch 8/20\n",
      "133/133 [==============================] - 88s 660ms/step - loss: 0.6962 - categorical_accuracy: 0.7353 - val_loss: 1.2588 - val_categorical_accuracy: 0.5500\n",
      "\n",
      "Epoch 00008: saving model to model_init_2020-03-3012_00_57.780855/model-00008-0.69793-0.73454-1.25875-0.55000.h5\n",
      "Epoch 9/20\n",
      "133/133 [==============================] - 88s 659ms/step - loss: 0.6065 - categorical_accuracy: 0.7566 - val_loss: 1.4397 - val_categorical_accuracy: 0.5100\n",
      "\n",
      "Epoch 00009: saving model to model_init_2020-03-3012_00_57.780855/model-00009-0.60686-0.75641-1.43965-0.51000.h5\n",
      "\n",
      "Epoch 00009: ReduceLROnPlateau reducing learning rate to 0.00020000000949949026.\n",
      "Epoch 10/20\n",
      "133/133 [==============================] - 86s 650ms/step - loss: 0.4890 - categorical_accuracy: 0.8201 - val_loss: 1.3624 - val_categorical_accuracy: 0.5300\n",
      "\n",
      "Epoch 00010: saving model to model_init_2020-03-3012_00_57.780855/model-00010-0.48769-0.82051-1.36244-0.53000.h5\n",
      "Epoch 11/20\n",
      "133/133 [==============================] - 87s 653ms/step - loss: 0.4620 - categorical_accuracy: 0.8333 - val_loss: 1.3464 - val_categorical_accuracy: 0.5200\n",
      "\n",
      "Epoch 00011: saving model to model_init_2020-03-3012_00_57.780855/model-00011-0.46242-0.83333-1.34644-0.52000.h5\n",
      "Epoch 12/20\n",
      "133/133 [==============================] - 88s 663ms/step - loss: 0.4265 - categorical_accuracy: 0.8566 - val_loss: 1.2695 - val_categorical_accuracy: 0.5300\n",
      "\n",
      "Epoch 00012: saving model to model_init_2020-03-3012_00_57.780855/model-00012-0.42578-0.85671-1.26950-0.53000.h5\n",
      "Epoch 13/20\n",
      "133/133 [==============================] - 87s 653ms/step - loss: 0.3893 - categorical_accuracy: 0.8609 - val_loss: 1.1856 - val_categorical_accuracy: 0.5300\n",
      "\n",
      "Epoch 00013: saving model to model_init_2020-03-3012_00_57.780855/model-00013-0.39015-0.86048-1.18559-0.53000.h5\n",
      "\n",
      "Epoch 00013: ReduceLROnPlateau reducing learning rate to 4.0000001899898055e-05.\n",
      "Epoch 14/20\n",
      "133/133 [==============================] - 89s 669ms/step - loss: 0.4132 - categorical_accuracy: 0.8579 - val_loss: 1.1751 - val_categorical_accuracy: 0.5500\n",
      "\n",
      "Epoch 00014: saving model to model_init_2020-03-3012_00_57.780855/model-00014-0.41422-0.85747-1.17507-0.55000.h5\n",
      "Epoch 15/20\n",
      "133/133 [==============================] - 89s 668ms/step - loss: 0.3996 - categorical_accuracy: 0.8506 - val_loss: 1.1842 - val_categorical_accuracy: 0.5400\n",
      "\n",
      "Epoch 00015: saving model to model_init_2020-03-3012_00_57.780855/model-00015-0.39881-0.85068-1.18421-0.54000.h5\n",
      "Epoch 16/20\n",
      "133/133 [==============================] - 88s 664ms/step - loss: 0.3757 - categorical_accuracy: 0.8599 - val_loss: 1.1924 - val_categorical_accuracy: 0.5400\n",
      "\n",
      "Epoch 00016: saving model to model_init_2020-03-3012_00_57.780855/model-00016-0.37441-0.86048-1.19241-0.54000.h5\n",
      "Epoch 17/20\n",
      "133/133 [==============================] - 88s 665ms/step - loss: 0.3691 - categorical_accuracy: 0.8717 - val_loss: 1.2089 - val_categorical_accuracy: 0.5500\n",
      "\n",
      "Epoch 00017: saving model to model_init_2020-03-3012_00_57.780855/model-00017-0.36500-0.87330-1.20894-0.55000.h5\n",
      "\n",
      "Epoch 00017: ReduceLROnPlateau reducing learning rate to 8.000000525498762e-06.\n",
      "Epoch 18/20\n",
      "133/133 [==============================] - 89s 668ms/step - loss: 0.3694 - categorical_accuracy: 0.8684 - val_loss: 1.2060 - val_categorical_accuracy: 0.5500\n",
      "\n",
      "Epoch 00018: saving model to model_init_2020-03-3012_00_57.780855/model-00018-0.37003-0.86802-1.20599-0.55000.h5\n",
      "Epoch 19/20\n",
      "133/133 [==============================] - 89s 670ms/step - loss: 0.3300 - categorical_accuracy: 0.8827 - val_loss: 1.2096 - val_categorical_accuracy: 0.5400\n",
      "\n",
      "Epoch 00019: saving model to model_init_2020-03-3012_00_57.780855/model-00019-0.33089-0.88235-1.20964-0.54000.h5\n",
      "Epoch 20/20\n",
      "133/133 [==============================] - 88s 663ms/step - loss: 0.3664 - categorical_accuracy: 0.8662 - val_loss: 1.1964 - val_categorical_accuracy: 0.5500\n",
      "\n",
      "Epoch 00020: saving model to model_init_2020-03-3012_00_57.780855/model-00020-0.36716-0.86576-1.19640-0.55000.h5\n"
     ]
    }
   ],
   "source": [
    "print(\"Total Params:\", rnn_cnn_tl_model.count_params())\n",
    "history_model18=rnn_cnn_tl.train_model(rnn_cnn_tl_model,augment_data=True)"
   ]
  },
  {
   "cell_type": "code",
   "execution_count": 30,
   "metadata": {},
   "outputs": [
    {
     "data": {
      "image/png": "[encoded data removed]",
      "text/plain": [
       "<Figure size 1080x288 with 2 Axes>"
      ]
     },
     "metadata": {},
     "output_type": "display_data"
    }
   ],
   "source": [
    "plot(history_model18)"
   ]
  },
  {
   "cell_type": "markdown",
   "metadata": {},
   "source": [
    "### Model II Experiment [17]"
   ]
  },
  {
   "cell_type": "code",
   "execution_count": 31,
   "metadata": {},
   "outputs": [],
   "source": [
    "from keras.applications import mobilenet\n",
    "\n",
    "mobilenet_transfer = mobilenet.MobileNet(weights='imagenet', include_top=False)\n",
    "\n",
    "class RNNCNN_TL2(ModelBuilderMoreAugmentation):\n",
    "    \n",
    "    def define_model(self,gru_cells=64,dense_neurons=64,dropout=0.25):\n",
    "        \n",
    "        model = Sequential()\n",
    "        model.add(TimeDistributed(mobilenet_transfer,input_shape=(self.frames_to_sample,self.image_height,self.image_width,self.channels)))\n",
    " \n",
    "        \n",
    "        model.add(TimeDistributed(BatchNormalization()))\n",
    "        model.add(TimeDistributed(MaxPooling2D((2, 2))))\n",
    "        model.add(TimeDistributed(Flatten()))\n",
    "\n",
    "        model.add(GRU(gru_cells))\n",
    "        model.add(Dropout(dropout))\n",
    "        \n",
    "        model.add(Dense(dense_neurons,activation='relu'))\n",
    "        model.add(Dropout(dropout))\n",
    "        \n",
    "        model.add(Dense(self.num_classes, activation='softmax'))\n",
    "        \n",
    "        \n",
    "        optimiser = optimizers.Adam()\n",
    "        model.compile(optimizer=optimiser, loss='categorical_crossentropy', metrics=['categorical_accuracy'])\n",
    "        return model"
   ]
  },
  {
   "cell_type": "code",
   "execution_count": 32,
   "metadata": {},
   "outputs": [
    {
     "name": "stdout",
     "output_type": "stream",
     "text": [
      "_________________________________________________________________\n",
      "Layer (type)                 Output Shape              Param #   \n",
      "=================================================================\n",
      "time_distributed_50 (TimeDis (None, 16, 3, 3, 1024)    3228864   \n",
      "_________________________________________________________________\n",
      "time_distributed_51 (TimeDis (None, 16, 3, 3, 1024)    4096      \n",
      "_________________________________________________________________\n",
      "time_distributed_52 (TimeDis (None, 16, 1, 1, 1024)    0         \n",
      "_________________________________________________________________\n",
      "time_distributed_53 (TimeDis (None, 16, 1024)          0         \n",
      "_________________________________________________________________\n",
      "gru_2 (GRU)                  (None, 128)               442752    \n",
      "_________________________________________________________________\n",
      "dropout_9 (Dropout)          (None, 128)               0         \n",
      "_________________________________________________________________\n",
      "dense_9 (Dense)              (None, 128)               16512     \n",
      "_________________________________________________________________\n",
      "dropout_10 (Dropout)         (None, 128)               0         \n",
      "_________________________________________________________________\n",
      "dense_10 (Dense)             (None, 5)                 645       \n",
      "=================================================================\n",
      "Total params: 3,692,869\n",
      "Trainable params: 3,668,933\n",
      "Non-trainable params: 23,936\n",
      "_________________________________________________________________\n"
     ]
    }
   ],
   "source": [
    "rnn_cnn_tl2=RNNCNN_TL2()\n",
    "rnn_cnn_tl2.initialize_path(project_folder)\n",
    "rnn_cnn_tl2.initialize_image_properties(image_height=120,image_width=120)\n",
    "rnn_cnn_tl2.initialize_hyperparams(frames_to_sample=16,batch_size=5,num_epochs=20)\n",
    "rnn_cnn_tl2_model=rnn_cnn_tl2.define_model(gru_cells=128,dense_neurons=128,dropout=0.25)\n",
    "rnn_cnn_tl2_model.summary()"
   ]
  },
  {
   "cell_type": "code",
   "execution_count": 33,
   "metadata": {},
   "outputs": [
    {
     "name": "stdout",
     "output_type": "stream",
     "text": [
      "Total Params: 3692869\n",
      "Epoch 1/20\n",
      "133/133 [==============================] - 105s 791ms/step - loss: 1.3064 - categorical_accuracy: 0.4581 - val_loss: 0.8434 - val_categorical_accuracy: 0.5700\n",
      "\n",
      "Epoch 00001: saving model to model_init_2020-03-3012_42_10.536697/model-00001-1.30822-0.45701-0.84338-0.57000.h5\n",
      "Epoch 2/20\n",
      "133/133 [==============================] - 91s 683ms/step - loss: 0.8285 - categorical_accuracy: 0.6799 - val_loss: 0.6456 - val_categorical_accuracy: 0.7500\n",
      "\n",
      "Epoch 00002: saving model to model_init_2020-03-3012_42_10.536697/model-00002-0.82922-0.67949-0.64557-0.75000.h5\n",
      "Epoch 3/20\n",
      "133/133 [==============================] - 94s 706ms/step - loss: 0.5398 - categorical_accuracy: 0.8033 - val_loss: 0.4915 - val_categorical_accuracy: 0.8400\n",
      "\n",
      "Epoch 00003: saving model to model_init_2020-03-3012_42_10.536697/model-00003-0.53959-0.80317-0.49151-0.84000.h5\n",
      "Epoch 4/20\n",
      "133/133 [==============================] - 95s 712ms/step - loss: 0.4169 - categorical_accuracy: 0.8499 - val_loss: 0.5176 - val_categorical_accuracy: 0.8100\n",
      "\n",
      "Epoch 00004: saving model to model_init_2020-03-3012_42_10.536697/model-00004-0.41530-0.85143-0.51758-0.81000.h5\n",
      "Epoch 5/20\n",
      "133/133 [==============================] - 97s 733ms/step - loss: 0.3665 - categorical_accuracy: 0.8659 - val_loss: 0.5044 - val_categorical_accuracy: 0.7700\n",
      "\n",
      "Epoch 00005: saving model to model_init_2020-03-3012_42_10.536697/model-00005-0.36541-0.86652-0.50440-0.77000.h5\n",
      "Epoch 6/20\n",
      "133/133 [==============================] - 94s 706ms/step - loss: 0.3049 - categorical_accuracy: 0.8910 - val_loss: 1.1231 - val_categorical_accuracy: 0.7500\n",
      "\n",
      "Epoch 00006: saving model to model_init_2020-03-3012_42_10.536697/model-00006-0.30572-0.89065-1.12308-0.75000.h5\n",
      "Epoch 7/20\n",
      "133/133 [==============================] - 95s 711ms/step - loss: 0.3487 - categorical_accuracy: 0.8804 - val_loss: 0.3921 - val_categorical_accuracy: 0.8600\n",
      "\n",
      "Epoch 00007: saving model to model_init_2020-03-3012_42_10.536697/model-00007-0.34959-0.88009-0.39209-0.86000.h5\n",
      "Epoch 8/20\n",
      "133/133 [==============================] - 97s 732ms/step - loss: 0.2369 - categorical_accuracy: 0.9145 - val_loss: 0.2396 - val_categorical_accuracy: 0.9200\n",
      "\n",
      "Epoch 00008: saving model to model_init_2020-03-3012_42_10.536697/model-00008-0.23274-0.91629-0.23965-0.92000.h5\n",
      "Epoch 9/20\n",
      "133/133 [==============================] - 94s 705ms/step - loss: 0.2475 - categorical_accuracy: 0.9211 - val_loss: 0.3609 - val_categorical_accuracy: 0.8500\n",
      "\n",
      "Epoch 00009: saving model to model_init_2020-03-3012_42_10.536697/model-00009-0.24797-0.92081-0.36091-0.85000.h5\n",
      "Epoch 10/20\n",
      "133/133 [==============================] - 95s 717ms/step - loss: 0.1529 - categorical_accuracy: 0.9504 - val_loss: 0.5353 - val_categorical_accuracy: 0.8200\n",
      "\n",
      "Epoch 00010: saving model to model_init_2020-03-3012_42_10.536697/model-00010-0.15327-0.95023-0.53529-0.82000.h5\n",
      "Epoch 11/20\n",
      "133/133 [==============================] - 94s 708ms/step - loss: 0.1915 - categorical_accuracy: 0.9421 - val_loss: 0.6538 - val_categorical_accuracy: 0.8000\n",
      "\n",
      "Epoch 00011: saving model to model_init_2020-03-3012_42_10.536697/model-00011-0.19189-0.94193-0.65379-0.80000.h5\n",
      "Epoch 12/20\n",
      "133/133 [==============================] - 96s 724ms/step - loss: 0.2273 - categorical_accuracy: 0.9213 - val_loss: 1.3261 - val_categorical_accuracy: 0.7400\n",
      "\n",
      "Epoch 00012: saving model to model_init_2020-03-3012_42_10.536697/model-00012-0.22718-0.92157-1.32609-0.74000.h5\n",
      "\n",
      "Epoch 00012: ReduceLROnPlateau reducing learning rate to 0.00020000000949949026.\n",
      "Epoch 13/20\n",
      "133/133 [==============================] - 94s 704ms/step - loss: 0.2333 - categorical_accuracy: 0.9198 - val_loss: 0.3255 - val_categorical_accuracy: 0.8900\n",
      "\n",
      "Epoch 00013: saving model to model_init_2020-03-3012_42_10.536697/model-00013-0.23347-0.92006-0.32553-0.89000.h5\n",
      "Epoch 14/20\n",
      "133/133 [==============================] - 97s 731ms/step - loss: 0.0951 - categorical_accuracy: 0.9669 - val_loss: 0.1856 - val_categorical_accuracy: 0.9300\n",
      "\n",
      "Epoch 00014: saving model to model_init_2020-03-3012_42_10.536697/model-00014-0.09519-0.96682-0.18557-0.93000.h5\n",
      "Epoch 15/20\n",
      "133/133 [==============================] - 95s 716ms/step - loss: 0.0793 - categorical_accuracy: 0.9774 - val_loss: 0.1613 - val_categorical_accuracy: 0.9500\n",
      "\n",
      "Epoch 00015: saving model to model_init_2020-03-3012_42_10.536697/model-00015-0.07950-0.97738-0.16130-0.95000.h5\n",
      "Epoch 16/20\n",
      "133/133 [==============================] - 98s 734ms/step - loss: 0.0726 - categorical_accuracy: 0.9774 - val_loss: 0.1304 - val_categorical_accuracy: 0.9500\n",
      "\n",
      "Epoch 00016: saving model to model_init_2020-03-3012_42_10.536697/model-00016-0.07251-0.97738-0.13038-0.95000.h5\n",
      "Epoch 17/20\n",
      "133/133 [==============================] - 95s 712ms/step - loss: 0.0449 - categorical_accuracy: 0.9875 - val_loss: 0.1242 - val_categorical_accuracy: 0.9600\n",
      "\n",
      "Epoch 00017: saving model to model_init_2020-03-3012_42_10.536697/model-00017-0.04348-0.98793-0.12423-0.96000.h5\n",
      "Epoch 18/20\n",
      "133/133 [==============================] - 97s 730ms/step - loss: 0.0448 - categorical_accuracy: 0.9857 - val_loss: 0.1466 - val_categorical_accuracy: 0.9600\n",
      "\n",
      "Epoch 00018: saving model to model_init_2020-03-3012_42_10.536697/model-00018-0.04496-0.98567-0.14661-0.96000.h5\n",
      "Epoch 19/20\n",
      "133/133 [==============================] - 95s 712ms/step - loss: 0.0398 - categorical_accuracy: 0.9880 - val_loss: 0.1234 - val_categorical_accuracy: 0.9600\n",
      "\n",
      "Epoch 00019: saving model to model_init_2020-03-3012_42_10.536697/model-00019-0.03991-0.98793-0.12340-0.96000.h5\n",
      "Epoch 20/20\n",
      "133/133 [==============================] - 97s 732ms/step - loss: 0.0305 - categorical_accuracy: 0.9887 - val_loss: 0.1248 - val_categorical_accuracy: 0.9400\n",
      "\n",
      "Epoch 00020: saving model to model_init_2020-03-3012_42_10.536697/model-00020-0.03050-0.98869-0.12485-0.94000.h5\n"
     ]
    }
   ],
   "source": [
    "print(\"Total Params:\", rnn_cnn_tl2_model.count_params())\n",
    "history_model19=rnn_cnn_tl2.train_model(rnn_cnn_tl2_model,augment_data=True)"
   ]
  },
  {
   "cell_type": "code",
   "execution_count": 34,
   "metadata": {},
   "outputs": [
    {
     "data": {
      "image/png": "[encoded data removed]",
      "text/plain": [
       "<Figure size 1080x288 with 2 Axes>"
      ]
     },
     "metadata": {},
     "output_type": "display_data"
    }
   ],
   "source": [
    "plot(history_model19)"
   ]
  },
  {
   "cell_type": "markdown",
   "metadata": {},
   "source": [
    "### Model II from experiment 17 (name: \"history_model19\") is the final selected model with training accuracy of ~99% and validation accuracy of 94%"
   ]
  },
  {
   "cell_type": "code",
   "execution_count": null,
   "metadata": {},
   "outputs": [],
   "source": []
  }
 ],
 "metadata": {
  "kernelspec": {
   "display_name": "Python 3",
   "language": "python",
   "name": "python3"
  },
  "language_info": {
   "codemirror_mode": {
    "name": "ipython",
    "version": 3
   },
   "file_extension": ".py",
   "mimetype": "text/x-python",
   "name": "python",
   "nbconvert_exporter": "python",
   "pygments_lexer": "ipython3",
   "version": "3.7.3"
  }
 },
 "nbformat": 4,
 "nbformat_minor": 4
}
